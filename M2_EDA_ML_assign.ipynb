{
  "cells": [
    {
      "cell_type": "markdown",
      "source": [
        "1. What is the range of selling prices in the dataset ?\n"
      ],
      "metadata": {
        "id": "fzLkNO4ObJDT"
      }
    },
    {
      "cell_type": "code",
      "source": [
        "import pandas as pd\n",
        "import numpy as np\n",
        "import matplotlib.pyplot as plt\n",
        "import seaborn as sns\n",
        "\n",
        "# Set visualization style\n",
        "sns.set(style=\"whitegrid\")\n",
        "\n",
        "# Download and load the dataset\n",
        "url = \"https://drive.google.com/uc?id=1iKy23bMtEQShF_weneRNnYrFmzvpPOI3\"  # Modified Google Drive link\n",
        "bike_data = pd.read_csv(url)\n",
        "\n",
        "# Display the first few rows of the dataset\n",
        "print(bike_data.head())\n",
        "\n",
        "# Check basic dataset information\n",
        "print(bike_data.info())"
      ],
      "metadata": {
        "id": "gSaa5tAqbM1p"
      },
      "execution_count": null,
      "outputs": []
    },
    {
      "cell_type": "code",
      "source": [
        "selling_price_min = bike_data['selling_price'].min()  # Minimum selling price\n",
        "selling_price_max = bike_data['selling_price'].max()  # Maximum selling price\n",
        "\n",
        "print(f\"The range of selling prices is: {selling_price_min} to {selling_price_max}\")\n"
      ],
      "metadata": {
        "id": "M17XvzhKfI6m"
      },
      "execution_count": null,
      "outputs": []
    },
    {
      "cell_type": "markdown",
      "source": [
        "2. What is the median selling price for bikes in the dataset ?\n",
        "\n",
        "  "
      ],
      "metadata": {
        "id": "KlWxaf3obsUv"
      }
    },
    {
      "cell_type": "code",
      "source": [
        " median_selling_price = bike_data['selling_price'].median()\n",
        "\n",
        "# Display the result\n",
        "print(f\"The median selling price for bikes is: {median_selling_price}\")\n"
      ],
      "metadata": {
        "id": "vJhKrmjYcHud"
      },
      "execution_count": null,
      "outputs": []
    },
    {
      "cell_type": "markdown",
      "source": [
        " 3. What is the most common seller type?"
      ],
      "metadata": {
        "id": "f4PSjZ94eykD"
      }
    },
    {
      "cell_type": "code",
      "source": [
        "selling_price_min = bike_data['selling_price'].min()  # Minimum selling price\n",
        "selling_price_max = bike_data['selling_price'].max()  # Maximum selling price\n",
        "\n",
        "print(f\"The range of selling prices is: {selling_price_min} to {selling_price_max}\")\n"
      ],
      "metadata": {
        "id": "xsKFUecGfTPi"
      },
      "execution_count": null,
      "outputs": []
    },
    {
      "cell_type": "markdown",
      "source": [
        "4. How many bikes have driven more than 50,000 kilometers"
      ],
      "metadata": {
        "id": "dhv-XsOafgE9"
      }
    },
    {
      "cell_type": "code",
      "source": [
        "# Filter bikes with km_driven > 50,000\n",
        "bikes_over_50k = bike_data[bike_data['km_driven'] > 50000]\n",
        "\n",
        "# Count the number of such bikes\n",
        "count_bikes_over_50k = bikes_over_50k.shape[0]\n",
        "\n",
        "# Display the result\n",
        "print(f\"The number of bikes that have driven more than 50,000 kilometers is: {count_bikes_over_50k}\")\n"
      ],
      "metadata": {
        "id": "Mml5LN8sfqT5"
      },
      "execution_count": null,
      "outputs": []
    },
    {
      "cell_type": "markdown",
      "source": [
        "5. What is the average km_driven value for each ownership type?"
      ],
      "metadata": {
        "id": "3kyuhZE6fpOD"
      }
    },
    {
      "cell_type": "code",
      "source": [
        "# Group data by ownership type and calculate the average km_driven\n",
        "average_km_driven_by_owner = bike_data.groupby('owner')['km_driven'].mean()\n",
        "\n",
        "# Display the result\n",
        "print(\"Average km_driven for each ownership type:\")\n",
        "print(average_km_driven_by_owner)\n"
      ],
      "metadata": {
        "id": "gG29GAABfyak"
      },
      "execution_count": null,
      "outputs": []
    },
    {
      "cell_type": "markdown",
      "source": [
        "6. What proportion of bikes are from the year 2015 or older?"
      ],
      "metadata": {
        "id": "ekYl0FdVf3me"
      }
    },
    {
      "cell_type": "code",
      "source": [
        "# Calculate the proportion of bikes from 2015 or older\n",
        "proportion_2015_older = len(bike_data[bike_data['year'] <= 2015]) / len(bike_data)\n",
        "\n",
        "# Display the result\n",
        "print(f\"The proportion of bikes from 2015 or older is: {proportion_2015_older}\")"
      ],
      "metadata": {
        "id": "WEsqgN07f6lO"
      },
      "execution_count": null,
      "outputs": []
    },
    {
      "cell_type": "markdown",
      "source": [
        "7. What is the trend of missing values across the dataset?"
      ],
      "metadata": {
        "id": "yUe9TjbBf_Zn"
      }
    },
    {
      "cell_type": "code",
      "source": [
        "\n",
        "# Check for missing values in each column\n",
        "missing_values = bike_data.isnull().sum()\n",
        "\n",
        "# Calculate the percentage of missing values in each column\n",
        "missing_percentage = (missing_values / len(bike_data)) * 100\n",
        "\n",
        "# Create a DataFrame to display the results\n",
        "missing_data_summary = pd.DataFrame({'Missing Values': missing_values, 'Percentage': missing_percentage})\n",
        "\n",
        "# Sort the DataFrame by the percentage of missing values in descending order\n",
        "missing_data_summary = missing_data_summary.sort_values('Percentage', ascending=False)\n",
        "\n",
        "# Display the summary\n",
        "print(missing_data_summary)\n",
        "\n",
        "\n",
        "# Visualize the trend of missing values\n",
        "plt.figure(figsize=(10, 6))\n",
        "sns.barplot(x=missing_data_summary.index, y=missing_data_summary['Percentage'])\n",
        "plt.xlabel('Columns')\n",
        "plt.ylabel('Percentage of Missing Values')\n",
        "plt.title('Trend of Missing Values Across the Dataset')\n",
        "plt.xticks(rotation=90)  # Rotate x-axis labels for better readability\n",
        "plt.show()"
      ],
      "metadata": {
        "id": "5Lu_1xn4gDhP"
      },
      "execution_count": null,
      "outputs": []
    },
    {
      "cell_type": "markdown",
      "source": [
        "8. What is the highest ex_showroom_price recorded, and for which bike?"
      ],
      "metadata": {
        "id": "IcEgczNdgN9-"
      }
    },
    {
      "cell_type": "code",
      "source": [
        "# Find the highest ex_showroom_price and the corresponding bike name\n",
        "highest_ex_showroom_price = bike_data['ex_showroom_price'].max()\n",
        "bike_with_highest_price = bike_data.loc[bike_data['ex_showroom_price'] == highest_ex_showroom_price, 'name']\n",
        "\n",
        "print(f\"The highest ex_showroom_price is: {highest_ex_showroom_price}\")\n",
        "print(f\"The bike with the highest ex_showroom price is: {bike_with_highest_price.iloc[0]}\")"
      ],
      "metadata": {
        "id": "ae500k74gRcg"
      },
      "execution_count": null,
      "outputs": []
    },
    {
      "cell_type": "markdown",
      "source": [
        "9. What is the total number of bikes listed by each seller type?"
      ],
      "metadata": {
        "id": "MSjRpxIGgUCM"
      }
    },
    {
      "cell_type": "code",
      "source": [
        "# Calculate the total number of bikes listed by each seller type\n",
        "bike_counts_by_seller = bike_data.groupby('seller_type')['name'].count()\n",
        "\n",
        "# Display the result\n",
        "print(\"Total number of bikes listed by each seller type:\")\n",
        "bike_counts_by_seller"
      ],
      "metadata": {
        "id": "zo9pUbP4gW3d"
      },
      "execution_count": null,
      "outputs": []
    },
    {
      "cell_type": "markdown",
      "source": [
        "10. What is the relationship between selling_price and km_driven for first-owner bikes?"
      ],
      "metadata": {
        "id": "qOJ2lmbqgem_"
      }
    },
    {
      "cell_type": "code",
      "source": [
        "# Filter for first-owner bikes\n",
        "first_owner_bikes = bike_data[bike_data['owner'] == 'First Owner']\n",
        "\n",
        "# Create a scatter plot to visualize the relationship\n",
        "plt.figure(figsize=(10, 6))\n",
        "sns.scatterplot(x='km_driven', y='selling_price', data=first_owner_bikes, alpha=0.5)\n",
        "plt.xlabel('Kilometers Driven')\n",
        "plt.ylabel('Selling Price')\n",
        "plt.title('Relationship between Selling Price and Kilometers Driven for First-Owner Bikes')\n",
        "plt.show()\n",
        "\n",
        "# Calculate the correlation coefficient\n",
        "correlation = first_owner_bikes['km_driven'].corr(first_owner_bikes['selling_price'])\n",
        "print(f\"The correlation between selling price and km_driven for first-owner bikes is: {correlation}\")"
      ],
      "metadata": {
        "id": "iLXwxm_Ggij9"
      },
      "execution_count": null,
      "outputs": []
    },
    {
      "cell_type": "markdown",
      "source": [
        "11. Identify and remove outliers in the km_driven column using the IQR method?"
      ],
      "metadata": {
        "id": "18p7XVypgpXB"
      }
    },
    {
      "cell_type": "code",
      "source": [
        "# Calculate Q1, Q3, and IQR\n",
        "Q1 = bike_data['km_driven'].quantile(0.25)\n",
        "Q3 = bike_data['km_driven'].quantile(0.75)\n",
        "IQR = Q3 - Q1\n",
        "\n",
        "# Define bounds for outliers\n",
        "lower_bound = Q1 - 1.5 * IQR\n",
        "upper_bound = Q3 + 1.5 * IQR\n",
        "\n",
        "# Identify and remove outliers\n",
        "bike_data_no_outliers = bike_data[~((bike_data['km_driven'] < lower_bound) | (bike_data['km_driven'] > upper_bound))]\n",
        "\n",
        "# Display the cleaned dataset\n",
        "bike_data_no_outliers"
      ],
      "metadata": {
        "id": "7VSvqQWJgsbb"
      },
      "execution_count": null,
      "outputs": []
    },
    {
      "cell_type": "markdown",
      "source": [
        "12. Perform a bivariate analysis to visualize the relationship between year and selling_price."
      ],
      "metadata": {
        "id": "ZxTROQT1g3i5"
      }
    },
    {
      "cell_type": "code",
      "source": [
        "# Create a scatter plot to visualize the relationship\n",
        "plt.figure(figsize=(10, 6))\n",
        "sns.scatterplot(x='year', y='selling_price', data=bike_data, alpha=0.5)\n",
        "plt.xlabel('Year')\n",
        "plt.ylabel('Selling Price')\n",
        "plt.title('Relationship between Year and Selling Price')\n",
        "plt.show()\n",
        "\n",
        "# Calculate the correlation coefficient\n",
        "correlation = bike_data['year'].corr(bike_data['selling_price'])\n",
        "print(f\"The correlation between year and selling_price is: {correlation}\")"
      ],
      "metadata": {
        "id": "D9ZocGhjg4Gm"
      },
      "execution_count": null,
      "outputs": []
    },
    {
      "cell_type": "markdown",
      "source": [
        "13. What is the average depreciation in selling price based on the bike's age (current year - manufacturing year).?"
      ],
      "metadata": {
        "id": "Dnklspd2g-S1"
      }
    },
    {
      "cell_type": "code",
      "source": [
        "# Calculate the age of each bike\n",
        "current_year = 2024  # Assuming the current year is 2024\n",
        "bike_data['bike_age'] = current_year - bike_data['year']\n",
        "\n",
        "# Calculate the depreciation for each bike\n",
        "bike_data['depreciation'] = bike_data['ex_showroom_price'] - bike_data['selling_price']\n",
        "\n",
        "# Calculate the average depreciation per year of age\n",
        "average_depreciation_per_year = bike_data.groupby('bike_age')['depreciation'].mean()\n",
        "\n",
        "# Display the result\n",
        "print(\"Average Depreciation per year of bike age:\")\n",
        "average_depreciation_per_year"
      ],
      "metadata": {
        "id": "qePgDtjghApr"
      },
      "execution_count": null,
      "outputs": []
    },
    {
      "cell_type": "markdown",
      "source": [
        "14. Which bike names are priced significantly above the average price for their manufacturing year?"
      ],
      "metadata": {
        "id": "OHS0vGAghC_e"
      }
    },
    {
      "cell_type": "code",
      "source": [
        "# Calculate the average selling price for each year\n",
        "average_price_by_year = bike_data.groupby('year')['selling_price'].mean()\n",
        "\n",
        "# Merge the average price back into the original DataFrame\n",
        "bike_data['average_price_for_year'] = bike_data['year'].map(average_price_by_year)\n",
        "\n",
        "# Identify bikes priced significantly above average (e.g., 2 standard deviations above)\n",
        "price_std = bike_data['selling_price'].std()\n",
        "bike_data['price_diff'] = bike_data['selling_price'] - bike_data['average_price_for_year']\n",
        "\n",
        "significantly_higher_priced_bikes = bike_data[bike_data['price_diff'] > 2*price_std]\n",
        "\n",
        "# Display the names of these bikes\n",
        "print(\"Bikes priced significantly above the average for their manufacturing year:\")\n",
        "print(significantly_higher_priced_bikes['name'])"
      ],
      "metadata": {
        "id": "-EiWWIPShHRl"
      },
      "execution_count": null,
      "outputs": []
    },
    {
      "cell_type": "markdown",
      "source": [
        "15. Develop a correlation matrix for numeric columns and visualize it using a heatmap."
      ],
      "metadata": {
        "id": "sk55vd1vhIe7"
      }
    },
    {
      "cell_type": "code",
      "source": [
        "# Calculate the correlation matrix for numeric columns\n",
        "numeric_cols = bike_data.select_dtypes(include=np.number)\n",
        "correlation_matrix = numeric_cols.corr()\n",
        "\n",
        "# Visualize the correlation matrix using a heatmap\n",
        "plt.figure(figsize=(12, 10))\n",
        "sns.heatmap(correlation_matrix, annot=True, cmap='coolwarm', fmt=\".2f\")\n",
        "plt.title('Correlation Matrix of Numeric Columns')\n",
        "plt.show()"
      ],
      "metadata": {
        "id": "sdzJFGPChNs7"
      },
      "execution_count": null,
      "outputs": []
    },
    {
      "cell_type": "markdown",
      "source": [
        "**Car Sale Dataset**\n",
        "\n"
      ],
      "metadata": {
        "id": "8JR3HCXFhQ3D"
      }
    },
    {
      "cell_type": "markdown",
      "source": [
        "\n",
        "# Importing necessary libraries\n",
        "import pandas as pd\n",
        "import numpy as np\n",
        "import matplotlib.pyplot as plt\n",
        "import seaborn as sns\n",
        "\n",
        "# Set visualization style\n",
        "sns.set(style=\"whitegrid\")\n",
        "\n",
        "# Download and load the dataset\n",
        "url = \"https://drive.google.com/uc?id=1N0kM_zi-iU3yvr6BEJf21aiF599PtA0U\" # Modified Google Drive link\n",
        "car_data = pd.read_csv(url)\n",
        "\n",
        "# Display the first few rows of the dataset\n",
        "print(car_data.head())\n",
        "\n",
        "# Check basic dataset information\n",
        "print(car_data.info())\n"
      ],
      "metadata": {
        "id": "DbKPpQB6hgEG"
      }
    },
    {
      "cell_type": "markdown",
      "source": [
        "1. What is the average selling price of cars for each dealer, and how does it compare across different dealers?"
      ],
      "metadata": {
        "id": "dHWif4XghjEX"
      }
    },
    {
      "cell_type": "code",
      "source": [
        "# Calculate the average selling price for each dealer\n",
        "average_selling_price_by_dealer = car_data.groupby('Dealer_Name')['Price ($)'].mean()\n",
        "\n",
        "# Display the result\n",
        "print(\"Average Selling Price by Dealer:\")\n",
        "print(average_selling_price_by_dealer)\n",
        "\n",
        "# Compare average selling prices across dealers (optional visualization)\n",
        "plt.figure(figsize=(10, 6))\n",
        "sns.barplot(x=average_selling_price_by_dealer.index, y=average_selling_price_by_dealer.values)\n",
        "plt.xlabel('Dealer')\n",
        "plt.ylabel('Average Selling Price')\n",
        "plt.title('Comparison of Average Selling Prices Across Dealers')\n",
        "plt.xticks(rotation=45, ha='right')  # Rotate x-axis labels for better readability\n",
        "plt.show()"
      ],
      "metadata": {
        "id": "4IhYZTF9hmpo"
      },
      "execution_count": null,
      "outputs": []
    },
    {
      "cell_type": "markdown",
      "source": [
        "2. Which car brand (Company) has the highest variation in prices, and what does this tell us about the pricing trends?"
      ],
      "metadata": {
        "id": "q20YnjQBhqJI"
      }
    },
    {
      "cell_type": "code",
      "source": [
        "# Calculate the price variation (standard deviation) for each car brand\n",
        "price_variation_by_brand = car_data.groupby('Company')['Price ($)'].std()\n",
        "\n",
        "# Find the brand with the highest price variation\n",
        "brand_with_highest_variation = price_variation_by_brand.idxmax()\n",
        "highest_variation = price_variation_by_brand.max()\n",
        "\n",
        "print(f\"The car brand with the highest price variation is {brand_with_highest_variation} with a standard deviation of {highest_variation}.\")\n",
        "\n",
        "# Interpretation (example)\n",
        "print(f\"A high standard deviation in prices for {brand_with_highest_variation} suggests that their models span a wide range of price points, potentially indicating diverse features, model years, or conditions.\")"
      ],
      "metadata": {
        "id": "Or66fuCJhsb0"
      },
      "execution_count": null,
      "outputs": []
    },
    {
      "cell_type": "markdown",
      "source": [
        "3. What is the distribution of car prices for each transmission type, and how do the interquartile ranges compare?"
      ],
      "metadata": {
        "id": "Pe6W2kOnhv5s"
      }
    },
    {
      "cell_type": "code",
      "source": [
        "# Group data by transmission type and calculate relevant statistics\n",
        "price_stats_by_transmission = car_data.groupby('Transmission')['Price ($)'].describe()\n",
        "\n",
        "# Extract IQR for each transmission type\n",
        "iqr_by_transmission = price_stats_by_transmission['75%'] - price_stats_by_transmission['25%']\n",
        "\n",
        "# Display the results\n",
        "print(\"Descriptive Statistics of Car Prices by Transmission Type:\")\n",
        "print(price_stats_by_transmission)\n",
        "print(\"\\nInterquartile Ranges (IQR) by Transmission Type:\")\n",
        "print(iqr_by_transmission)\n",
        "\n",
        "# Visualization (optional)\n",
        "plt.figure(figsize=(10, 6))\n",
        "sns.boxplot(x='Transmission', y='Price ($)', data=car_data)\n",
        "plt.xlabel('Transmission Type')\n",
        "plt.ylabel('Price ($)')\n",
        "plt.title('Distribution of Car Prices by Transmission Type')\n",
        "plt.show()"
      ],
      "metadata": {
        "id": "5tUAaV5VhzQM"
      },
      "execution_count": null,
      "outputs": []
    },
    {
      "cell_type": "markdown",
      "source": [
        "4. What is the distribution of car prices across different regions?"
      ],
      "metadata": {
        "id": "ku3dj_Plh5CH"
      }
    },
    {
      "cell_type": "code",
      "source": [
        "# Calculate the distribution of car prices across different regions\n",
        "price_distribution_by_region = car_data.groupby('Dealer_Region')['Price ($)'].describe()\n",
        "\n",
        "# Display the results\n",
        "print(\"Distribution of Car Prices by Region:\")\n",
        "print(price_distribution_by_region)\n",
        "\n",
        "# Visualization (optional)\n",
        "plt.figure(figsize=(12, 6))\n",
        "sns.boxplot(x='Dealer_Region', y='Price ($)', data=car_data)\n",
        "plt.xlabel('Dealer_Region')\n",
        "plt.ylabel('Price ($)')\n",
        "plt.title('Distribution of Car Prices Across Different Regions')\n",
        "plt.xticks(rotation=45, ha='right')  # Rotate x-axis labels for better readability\n",
        "plt.show()"
      ],
      "metadata": {
        "id": "f76R6p7oh8gU"
      },
      "execution_count": null,
      "outputs": []
    },
    {
      "cell_type": "markdown",
      "source": [
        "5. What is the distribution of cars based on body styles?"
      ],
      "metadata": {
        "id": "XhxrXZJmh-zz"
      }
    },
    {
      "cell_type": "code",
      "source": [
        "# Calculate the distribution of cars based on body styles\n",
        "body_style_counts = car_data['Body Style'].value_counts()\n",
        "\n",
        "# Display the results\n",
        "print(\"Distribution of Cars Based on Body Styles:\")\n",
        "print(body_style_counts)\n",
        "\n",
        "# Visualization (optional)\n",
        "plt.figure(figsize=(10, 6))\n",
        "sns.countplot(x='Body Style', data=car_data)\n",
        "plt.xlabel('Body Style')\n",
        "plt.ylabel('Count')\n",
        "plt.title('Distribution of Cars Based on Body Styles')\n",
        "plt.xticks(rotation=45, ha='right')  # Rotate x-axis labels for better readability\n",
        "plt.show()"
      ],
      "metadata": {
        "id": "D69KzTxuiB-u"
      },
      "execution_count": null,
      "outputs": []
    },
    {
      "cell_type": "markdown",
      "source": [
        "6. How does the average selling price of cars vary by customer gender and annual income?"
      ],
      "metadata": {
        "id": "jgtL0kTZiF8u"
      }
    },
    {
      "cell_type": "code",
      "source": [
        "# Assuming 'Customer_Gender' and 'Annual_Income' columns exist in your DataFrame\n",
        "# If not, replace with the correct column names from your dataset\n",
        "\n",
        "# Group data by customer gender and annual income and calculate the average selling price\n",
        "average_price_by_gender_income = car_data.groupby(['Gender', 'Annual Income'])['Price ($)'].mean().unstack()\n",
        "\n",
        "# Display the result\n",
        "print(\"Average Selling Price by Customer Gender and Annual Income:\")\n",
        "print(average_price_by_gender_income)\n",
        "\n",
        "# Visualization (optional)\n",
        "plt.figure(figsize=(12, 6))\n",
        "sns.heatmap(average_price_by_gender_income, annot=True, fmt=\".2f\", cmap=\"YlGnBu\")\n",
        "plt.xlabel(\"Annual Income\")\n",
        "plt.ylabel(\"Gender\")\n",
        "plt.title(\"Average Selling Price by Customer Gender and Annual Income\")\n",
        "plt.show()"
      ],
      "metadata": {
        "id": "pecZ65RtiJBq"
      },
      "execution_count": null,
      "outputs": []
    },
    {
      "cell_type": "markdown",
      "source": [
        "7. What is the distribution of car prices by region, and how does the number of cars sold vary by region?"
      ],
      "metadata": {
        "id": "UOruw2G_iMMf"
      }
    },
    {
      "cell_type": "code",
      "source": [
        "# Calculate the distribution of car prices by region\n",
        "price_distribution_by_region = car_data.groupby('Dealer_Region')['Price ($)'].describe()\n",
        "\n",
        "# Display the price distribution\n",
        "print(\"Distribution of Car Prices by Region:\")\n",
        "print(price_distribution_by_region)\n",
        "\n",
        "# Calculate the number of cars sold in each region\n",
        "cars_sold_by_region = car_data.groupby('Dealer_Region')['Price ($)'].count()\n",
        "\n",
        "# Display the number of cars sold by region\n",
        "print(\"\\nNumber of Cars Sold by Region:\")\n",
        "print(cars_sold_by_region)\n",
        "\n",
        "# Visualization (optional): Combine price distribution and sales volume\n",
        "plt.figure(figsize=(12, 6))\n",
        "\n",
        "# Box plot for price distribution\n",
        "plt.subplot(1, 2, 1)\n",
        "sns.boxplot(x='Dealer_Region', y='Price ($)', data=car_data)\n",
        "plt.xlabel('Region')\n",
        "plt.ylabel('Price ($)')\n",
        "plt.title('Price Distribution by Region')\n",
        "plt.xticks(rotation=45, ha='right')\n",
        "\n",
        "# Bar plot for sales volume\n",
        "plt.subplot(1, 2, 2)\n",
        "sns.barplot(x=cars_sold_by_region.index, y=cars_sold_by_region.values)\n",
        "plt.xlabel('Region')\n",
        "plt.ylabel('Number of Cars Sold')\n",
        "plt.title('Number of Cars Sold by Region')\n",
        "plt.xticks(rotation=45, ha='right')\n",
        "\n",
        "plt.tight_layout() # Adjust layout to prevent overlapping\n",
        "plt.show()"
      ],
      "metadata": {
        "id": "8eWo2eyTialz"
      },
      "execution_count": null,
      "outputs": []
    },
    {
      "cell_type": "markdown",
      "source": [
        "8. How does the average car price differ between cars with different engine sizes?"
      ],
      "metadata": {
        "id": "4RiaZ1Itidfj"
      }
    },
    {
      "cell_type": "code",
      "source": [
        "# Calculate the average car price for each engine size\n",
        "average_price_by_engine_size = car_data.groupby('Engine')['Price ($)'].mean()\n",
        "\n",
        "# Display the result\n",
        "print(\"Average Car Price by Engine Size:\")\n",
        "print(average_price_by_engine_size)\n",
        "\n",
        "# Visualization (optional)\n",
        "plt.figure(figsize=(10, 6))\n",
        "sns.barplot(x=average_price_by_engine_size.index, y=average_price_by_engine_size.values)\n",
        "plt.xlabel('Engine')\n",
        "plt.ylabel('Average Price ($)')\n",
        "plt.title('Average Car Price by Engine Size')\n",
        "plt.show()"
      ],
      "metadata": {
        "id": "NNEm0ZgQihfn"
      },
      "execution_count": null,
      "outputs": []
    },
    {
      "cell_type": "markdown",
      "source": [
        "9. How do car prices vary based on the customer’s annual income bracket?"
      ],
      "metadata": {
        "id": "1h_KsWSuilBE"
      }
    },
    {
      "cell_type": "code",
      "source": [
        "# Create income brackets (adjust these as needed)\n",
        "income_brackets = pd.cut(car_data['Annual Income'], bins=[0, 50000, 100000, 150000, float('inf')], labels=['0-50k', '50k-100k', '100k-150k', '150k+'])\n",
        "car_data['Income Bracket'] = income_brackets\n",
        "\n",
        "# Group by income bracket and calculate average car price\n",
        "average_price_by_income_bracket = car_data.groupby('Income Bracket')['Price ($)'].mean()\n",
        "\n",
        "# Display the result\n",
        "print(\"Average Car Price by Annual Income Bracket:\")\n",
        "print(average_price_by_income_bracket)\n",
        "\n",
        "# Visualization (optional)\n",
        "plt.figure(figsize=(10, 6))\n",
        "sns.barplot(x=average_price_by_income_bracket.index, y=average_price_by_income_bracket.values)\n",
        "plt.xlabel('Annual Income Bracket')\n",
        "plt.ylabel('Average Price ($)')\n",
        "plt.title('Car Prices by Annual Income Bracket')\n",
        "plt.show()"
      ],
      "metadata": {
        "id": "o1c_swfKioLq"
      },
      "execution_count": null,
      "outputs": []
    },
    {
      "cell_type": "markdown",
      "source": [
        "10. What are the top 5 car models with the highest number of sales, and how does their price distribution look?"
      ],
      "metadata": {
        "id": "SPGFhj-siqiw"
      }
    },
    {
      "cell_type": "code",
      "source": [
        "# Calculate the sales count for each car model\n",
        "top_models = car_data['Model'].value_counts().nlargest(5)\n",
        "\n",
        "print(\"Top 5 car models with the highest number of sales:\")\n",
        "print(top_models)\n",
        "\n",
        "# Create subplots for price distributions of top models\n",
        "plt.figure(figsize=(15, 10))\n",
        "\n",
        "for i, model in enumerate(top_models.index):\n",
        "    plt.subplot(2, 3, i + 1)\n",
        "    sns.histplot(car_data[car_data['Model'] == model]['Price ($)'], kde=True)\n",
        "    plt.title(f'Price Distribution for {model}')\n",
        "    plt.xlabel('Price ($)')\n",
        "    plt.ylabel('Frequency')\n",
        "\n",
        "plt.tight_layout()\n",
        "plt.show()"
      ],
      "metadata": {
        "id": "34KBMAI-ivSR"
      },
      "execution_count": null,
      "outputs": []
    },
    {
      "cell_type": "markdown",
      "source": [
        "11. How does car price vary with engine size across different car colors, and which colors have the highest price variation?"
      ],
      "metadata": {
        "id": "zYKDp-yVixfd"
      }
    },
    {
      "cell_type": "code",
      "source": [
        "# Group data by engine size and color, then calculate the average price\n",
        "price_variation_by_engine_color = car_data.groupby(['Engine', 'Color'])['Price ($)'].agg(['mean', 'std'])\n",
        "\n",
        "# Find colors with the highest price variation for each engine size\n",
        "max_variation_by_engine = price_variation_by_engine_color.groupby('Engine')['std'].idxmax()\n",
        "\n",
        "print(\"Colors with the highest price variation for each engine size:\")\n",
        "print(max_variation_by_engine)\n",
        "\n",
        "# Visualization (optional)\n",
        "plt.figure(figsize=(12, 6))\n",
        "for engine in price_variation_by_engine_color.index.get_level_values('Engine').unique():\n",
        "    engine_data = price_variation_by_engine_color.loc[engine]\n",
        "    sns.lineplot(x=engine_data.index, y=engine_data['mean'], label=engine)\n",
        "\n",
        "plt.xlabel('Color')\n",
        "plt.ylabel('Average Price ($)')\n",
        "plt.title('Car Price Variation by Engine Size and Color')\n",
        "plt.xticks(rotation=45, ha='right')\n",
        "plt.legend(title='Engine Size')\n",
        "plt.show()"
      ],
      "metadata": {
        "id": "sYJm7WgQi0sj"
      },
      "execution_count": null,
      "outputs": []
    },
    {
      "cell_type": "markdown",
      "source": [
        "12. Is there any seasonal trend in car sales based on the date of sale?"
      ],
      "metadata": {
        "id": "_qfqjgGci-9T"
      }
    },
    {
      "cell_type": "code",
      "source": [
        "import pandas as pd\n",
        "import matplotlib.pyplot as plt\n",
        "import seaborn as sns\n",
        "\n",
        "# If not, convert it first:\n",
        "car_data['Date'] = pd.to_datetime(car_data['Date'])\n",
        "\n",
        "# Extract month from the date\n",
        "car_data['Month'] = car_data['Date'].dt.month\n",
        "\n",
        "# Group by month and count sales\n",
        "monthly_sales = car_data.groupby('Month')['Price ($)'].count()\n",
        "\n",
        "# Visualize monthly sales\n",
        "plt.figure(figsize=(10, 6))\n",
        "sns.lineplot(x=monthly_sales.index, y=monthly_sales.values)\n",
        "plt.xlabel('Month')\n",
        "plt.ylabel('Number of Cars Sold')\n",
        "plt.title('Seasonal Trend in Car Sales')\n",
        "plt.xticks(range(1, 13))  # Set x-axis ticks to months\n",
        "plt.show()"
      ],
      "metadata": {
        "id": "TO9v9yXni_9Q"
      },
      "execution_count": null,
      "outputs": []
    },
    {
      "cell_type": "markdown",
      "source": [
        "13. How does the car price distribution change when considering different combinations of body style and transmission type?"
      ],
      "metadata": {
        "id": "a-03RztTjDJE"
      }
    },
    {
      "cell_type": "code",
      "source": [
        "# Group data by body style and transmission type, then calculate price distribution statistics\n",
        "price_distribution_by_body_transmission = car_data.groupby(['Body Style', 'Transmission'])['Price ($)'].describe()\n",
        "\n",
        "# Display the results\n",
        "print(\"Car Price Distribution by Body Style and Transmission Type:\")\n",
        "print(price_distribution_by_body_transmission)\n",
        "\n",
        "# Visualization (optional)\n",
        "plt.figure(figsize=(12, 6))\n",
        "sns.boxplot(x='Body Style', y='Price ($)', hue='Transmission', data=car_data)\n",
        "plt.xlabel('Body Style')\n",
        "plt.ylabel('Price ($)')\n",
        "plt.title('Car Price Distribution by Body Style and Transmission Type')\n",
        "plt.xticks(rotation=45, ha='right')\n",
        "plt.show()"
      ],
      "metadata": {
        "id": "VVPcJ1FEjGJ2"
      },
      "execution_count": null,
      "outputs": []
    },
    {
      "cell_type": "markdown",
      "source": [
        "14. What is the correlation between car price, engine size, and annual income of customers, and how do these features interact?"
      ],
      "metadata": {
        "id": "joT9CTtvjH79"
      }
    },
    {
      "cell_type": "code",
      "source": [
        "import pandas as pd\n",
        "import matplotlib.pyplot as plt\n",
        "import seaborn as sns\n",
        "\n",
        "from sklearn.preprocessing import LabelEncoder\n",
        "\n",
        "le = LabelEncoder()\n",
        "# Convert 'Engine' to a numerical representation\n",
        "car_data['Engine_Size'] = le.fit_transform(car_data['Engine'])\n",
        "# Select relevant columns\n",
        "relevant_data = car_data[['Price ($)','Engine_Size', 'Annual Income']]\n",
        "\n",
        "# Calculate the correlation matrix\n",
        "correlation_matrix = relevant_data.corr()\n",
        "\n",
        "# Display the correlation matrix\n",
        "print(\"Correlation Matrix:\")\n",
        "print(correlation_matrix)\n",
        "\n",
        "# Visualize the correlation matrix using a heatmap\n",
        "plt.figure(figsize=(8, 6))\n",
        "sns.heatmap(correlation_matrix, annot=True, cmap='coolwarm', fmt=\".2f\")\n",
        "plt.title('Correlation between Price, Engine Size, and Annual Income')\n",
        "plt.show()\n",
        "\n",
        "# Explore interactions using scatter plots\n",
        "sns.pairplot(relevant_data)\n",
        "plt.suptitle('Pairwise Relationships between Price, Engine Size, and Annual Income', y=1.02)\n",
        "plt.show()"
      ],
      "metadata": {
        "id": "mTqOJbZqjK79"
      },
      "execution_count": null,
      "outputs": []
    },
    {
      "cell_type": "markdown",
      "source": [
        "15. How does the average car price vary across different car models and engine types?"
      ],
      "metadata": {
        "id": "g9lfx5xhjN52"
      }
    },
    {
      "cell_type": "code",
      "source": [
        "# Calculate the average car price for each combination of car model and engine type\n",
        "average_price_by_model_engine = car_data.groupby(['Model', 'Engine'])['Price ($)'].mean().unstack()\n",
        "\n",
        "# Display the result\n",
        "print(\"Average Car Price by Model and Engine Type:\")\n",
        "print(average_price_by_model_engine)\n",
        "\n",
        "# Visualization (optional) - Heatmap\n",
        "plt.figure(figsize=(12, 8))\n",
        "sns.heatmap(average_price_by_model_engine, annot=True, fmt=\".2f\", cmap=\"viridis\")\n",
        "plt.xlabel(\"Engine Type\")\n",
        "plt.ylabel(\"Car Model\")\n",
        "plt.title(\"Average Car Price by Model and Engine Type\")\n",
        "plt.show()"
      ],
      "metadata": {
        "id": "q8SZaQ5GjUlH"
      },
      "execution_count": null,
      "outputs": []
    },
    {
      "cell_type": "markdown",
      "source": [
        "**Amazon Sales Data**\n",
        "\n"
      ],
      "metadata": {
        "id": "tNKWEbhejaEj"
      }
    },
    {
      "cell_type": "code",
      "source": [
        "# Load Amazon Sales Data\n",
        "amazon_data_url = \"https://drive.google.com/uc?id=1yKlW0x5yyRQijmWbEg5YCsq4wqLl3_oB\"\n",
        "amazon_data = pd.read_csv(amazon_data_url)\n",
        "\n",
        "# Display dataset info\n",
        "amazon_data.info()\n",
        "amazon_data.head()\n"
      ],
      "metadata": {
        "id": "CIa6lrXCjmZ7"
      },
      "execution_count": null,
      "outputs": []
    },
    {
      "cell_type": "markdown",
      "source": [
        "1.What is the average rating for each product category?"
      ],
      "metadata": {
        "id": "D-sfAPGZjpVf"
      }
    },
    {
      "cell_type": "code",
      "source": [
        "# Calculate the average rating for each product category\n",
        "\n",
        "from sklearn.preprocessing import LabelEncoder\n",
        "\n",
        "le = LabelEncoder()\n",
        "# Convert 'rating' to a numerical representation\n",
        "amazon_data['rating'] = le.fit_transform(amazon_data['rating'])\n",
        "\n",
        "avg_rating_per_category = amazon_data.groupby('category')['rating'].mean()\n",
        "\n",
        "# Display the result\n",
        "print(\"Average Rating for Each Product Category:\")\n",
        "avg_rating_per_category"
      ],
      "metadata": {
        "id": "QRsTFHojjsNr"
      },
      "execution_count": null,
      "outputs": []
    },
    {
      "cell_type": "markdown",
      "source": [
        "2. What are the top rating_count products by category?"
      ],
      "metadata": {
        "id": "Z8ARKqAPjuYR"
      }
    },
    {
      "cell_type": "code",
      "source": [
        "# Assuming 'rating_count' is a column in your amazon_data DataFrame.\n",
        "# If not, replace 'rating_count' with the actual column name.\n",
        "le = LabelEncoder()\n",
        "# Convert 'rating' to a numerical representation\n",
        "amazon_data['rating_count'] = le.fit_transform(amazon_data['rating_count'])\n",
        "\n",
        "top_products_by_category = amazon_data.groupby('category').apply(lambda x: x.nlargest(1, 'rating_count'))\n",
        "\n",
        "print(\"Top rating_count products by category:\")\n",
        "print(top_products_by_category[['product_name', 'rating_count']])"
      ],
      "metadata": {
        "id": "RdF8a-l3jyMY"
      },
      "execution_count": null,
      "outputs": []
    },
    {
      "cell_type": "markdown",
      "source": [
        "3. What is the distribution of discounted prices vs. actual prices?"
      ],
      "metadata": {
        "id": "cYcUE5vYj0ct"
      }
    },
    {
      "cell_type": "code",
      "source": [
        "# Assuming 'actual_price' and 'discounted_price' are columns in your amazon_data DataFrame.\n",
        "# If not, replace with the actual column names.\n",
        "\n",
        "# Convert price columns to numeric, handling potential errors\n",
        "amazon_data['actual_price'] = pd.to_numeric(amazon_data['actual_price'], errors='coerce')\n",
        "amazon_data['discounted_price'] = pd.to_numeric(amazon_data['discounted_price'], errors='coerce')\n",
        "\n",
        "# Drop rows with invalid price values\n",
        "amazon_data.dropna(subset=['actual_price', 'discounted_price'], inplace=True)\n",
        "\n",
        "# Calculate the difference between actual and discounted prices\n",
        "amazon_data['price_difference'] = amazon_data['actual_price'] - amazon_data['discounted_price']\n",
        "\n",
        "\n",
        "# Visualize the distribution using a histogram or a boxplot\n",
        "plt.figure(figsize=(10, 6))\n",
        "sns.histplot(amazon_data['price_difference'], kde=True)\n",
        "plt.xlabel('Price Difference (Actual - Discounted)')\n",
        "plt.ylabel('Frequency')\n",
        "plt.title('Distribution of Discounted Prices vs. Actual Prices')\n",
        "plt.show()\n",
        "\n",
        "plt.figure(figsize=(10, 6))\n",
        "sns.boxplot(x=amazon_data['price_difference'])\n",
        "plt.xlabel('Price Difference (Actual - Discounted)')\n",
        "plt.title('Distribution of Discounted Prices vs. Actual Prices (Boxplot)')\n",
        "plt.show()\n",
        "\n",
        "# Calculate descriptive statistics\n",
        "price_difference_stats = amazon_data['price_difference'].describe()\n",
        "print(\"Descriptive statistics of price differences:\")\n",
        "price_difference_stats"
      ],
      "metadata": {
        "id": "z7AW6BE1j3Vq"
      },
      "execution_count": null,
      "outputs": []
    },
    {
      "cell_type": "markdown",
      "source": [
        "4. How does the average discount percentage vary across categories?"
      ],
      "metadata": {
        "id": "UXXbGaG1j6VH"
      }
    },
    {
      "cell_type": "code",
      "source": [
        "# Calculate the discount percentage\n",
        "amazon_data['discount_percentage'] = ((amazon_data['actual_price'] - amazon_data['discounted_price']) / amazon_data['actual_price']) * 100\n",
        "\n",
        "# Group by category and calculate the average discount percentage\n",
        "average_discount_by_category = amazon_data.groupby('category')['discount_percentage'].mean()\n",
        "\n",
        "# Display the result\n",
        "print(\"Average Discount Percentage by Category:\")\n",
        "print(average_discount_by_category)\n",
        "\n",
        "# Visualization (optional)\n",
        "plt.figure(figsize=(12, 6))\n",
        "sns.barplot(x=average_discount_by_category.index, y=average_discount_by_category.values)\n",
        "plt.xlabel('Category')\n",
        "plt.ylabel('Average Discount Percentage')\n",
        "plt.title('Average Discount Percentage Across Categories')\n",
        "plt.xticks(rotation=45, ha='right')\n",
        "plt.show()"
      ],
      "metadata": {
        "id": "f_am7aIYj9ZS"
      },
      "execution_count": null,
      "outputs": []
    },
    {
      "cell_type": "markdown",
      "source": [
        "5. What are the most popular product names?"
      ],
      "metadata": {
        "id": "IuSjZClZj_iG"
      }
    },
    {
      "cell_type": "code",
      "source": [
        "# Calculate the frequency of each product name\n",
        "product_name_counts = amazon_data['product_name'].value_counts()\n",
        "\n",
        "# Display the most popular product names (e.g., top 10)\n",
        "print(\"Most Popular Product Names:\")\n",
        "print(product_name_counts.head(10))\n",
        "\n",
        "# Visualization (optional) - Bar plot of top 10 product names\n",
        "plt.figure(figsize=(12, 6))\n",
        "sns.barplot(x=product_name_counts.head(10).index, y=product_name_counts.head(10).values)\n",
        "plt.xlabel('Product Name')\n",
        "plt.ylabel('Frequency')\n",
        "plt.title('Top 10 Most Popular Product Names')\n",
        "plt.xticks(rotation=45, ha='right')\n",
        "plt.show()"
      ],
      "metadata": {
        "id": "TfD0qGWqkCr_"
      },
      "execution_count": null,
      "outputs": []
    },
    {
      "cell_type": "markdown",
      "source": [
        "6. What are the most popular product keywords?"
      ],
      "metadata": {
        "id": "JdClBr0JkEqV"
      }
    },
    {
      "cell_type": "code",
      "source": [
        "# Assuming 'product_name' contains keywords, you can extract them and count their frequency.\n",
        "from collections import Counter\n",
        "\n",
        "def extract_keywords(product_name):\n",
        "    # Basic keyword extraction (you can refine this based on your needs)\n",
        "    keywords = product_name.lower().split()  # Split the name into words\n",
        "    return keywords\n",
        "\n",
        "# Create a list to hold all keywords\n",
        "all_keywords = []\n",
        "\n",
        "for product_name in amazon_data['product_name']:\n",
        "    keywords = extract_keywords(product_name)\n",
        "    all_keywords.extend(keywords)\n",
        "\n",
        "# Count the frequency of each keyword\n",
        "keyword_counts = Counter(all_keywords)\n",
        "\n",
        "# Get the most common keywords (e.g., top 10)\n",
        "most_common_keywords = keyword_counts.most_common(10)\n",
        "\n",
        "# Check if most_common_keywords is empty before unpacking\n",
        "if most_common_keywords:\n",
        "    print(\"Most Popular Product Keywords:\")\n",
        "    for keyword, count in most_common_keywords:\n",
        "        print(f\"{keyword}: {count}\")\n",
        "\n",
        "    # Visualization (optional) - Bar plot of top 10 keywords\n",
        "    plt.figure(figsize=(12, 6))\n",
        "    keywords, counts = zip(*most_common_keywords)  # Separate keywords and counts for plotting\n",
        "    sns.barplot(x=list(keywords), y=list(counts))\n",
        "    plt.xlabel('Keywords')\n",
        "    plt.ylabel('Frequency')\n",
        "    plt.title('Top 10 Most Popular Product Keywords')\n",
        "    plt.xticks(rotation=45, ha='right')\n",
        "    plt.show()\n",
        "else:\n",
        "    print(\"No common keywords found in product names.\")"
      ],
      "metadata": {
        "id": "CHXORYDIkIEZ"
      },
      "execution_count": null,
      "outputs": []
    },
    {
      "cell_type": "markdown",
      "source": [
        "7. What are the most popular product reviews?"
      ],
      "metadata": {
        "id": "x6Tb3c-KkKAZ"
      }
    },
    {
      "cell_type": "code",
      "source": [
        "# Assuming 'review_title' is a column in your amazon_data DataFrame.\n",
        "# If not, replace 'review_title' with the actual column name.\n",
        "\n",
        "popular_reviews = amazon_data['review_title'].value_counts()\n",
        "\n",
        "print(\"Most Popular Product Review Titles:\")\n",
        "print(popular_reviews.head(10))  # Display the top 10 most popular review titles\n",
        "\n",
        "# Visualization (optional) - Bar plot of top 10 review titles\n",
        "plt.figure(figsize=(12, 6))\n",
        "sns.barplot(x=popular_reviews.head(10).index, y=popular_reviews.head(10).values)\n",
        "plt.xlabel('Review Title')\n",
        "plt.ylabel('Frequency')\n",
        "plt.title('Top 10 Most Popular Product Review Titles')\n",
        "plt.xticks(rotation=45, ha='right')\n",
        "plt.show()"
      ],
      "metadata": {
        "id": "pt7nQsHlkNfo"
      },
      "execution_count": null,
      "outputs": []
    },
    {
      "cell_type": "markdown",
      "source": [
        "8. What is the correlation between discounted_price and rating?"
      ],
      "metadata": {
        "id": "oQHaXTmgkPfD"
      }
    },
    {
      "cell_type": "code",
      "source": [
        "# Calculate the correlation between 'discounted_price' and 'rating'\n",
        "correlation = amazon_data['discounted_price'].corr(amazon_data['rating'])\n",
        "\n",
        "print(f\"The correlation between discounted_price and rating is: {correlation}\")"
      ],
      "metadata": {
        "id": "7ZI-26YikR8r"
      },
      "execution_count": null,
      "outputs": []
    },
    {
      "cell_type": "markdown",
      "source": [
        "9. What are the Top 5 categories based on the highest ratings?"
      ],
      "metadata": {
        "id": "DYquTvaZkVCo"
      }
    },
    {
      "cell_type": "code",
      "source": [
        "# Sort categories by average rating in descending order and get the top 5\n",
        "top_5_categories = avg_rating_per_category.sort_values(ascending=False).head(5)\n",
        "\n",
        "print(\"Top 5 categories based on the highest ratings:\")\n",
        "top_5_categories"
      ],
      "metadata": {
        "id": "5YI8wCJkkX0V"
      },
      "execution_count": null,
      "outputs": []
    },
    {
      "cell_type": "markdown",
      "source": [
        "10. Identify any potential areas for improvement or optimization based on the data analysis.\n",
        "\n",
        "\n",
        "   ns:- Potential areas for improvement and optimization:\n",
        "\n",
        "Data Cleaning and Preprocessing:\n",
        "\n",
        "Handle missing values more effectively. Instead of dropping rows with missing prices, consider imputation techniques (e.g., mean, median, or more sophisticated methods) to retain more data.\n",
        "Investigate the meaning of '0' values in numerical columns (e.g. 'Annual Income', 'Price', 'Engine Size') and decide on the best way to handle them.\n",
        "Inconsistent data formats may exist in some fields, such as dates or prices. Ensure consistency with type conversion and formatting.\n",
        "Feature Engineering:\n",
        "\n",
        "Create new features that capture important information not explicitly represented in the data. For example, derived features such as \"Price per Horsepower,\" \"Discount Percentage,\" or \"Age of the Car\" can improve analysis.\n",
        "Explore creating interaction terms in the correlation analysis (e.g., 'Engine_Size' * 'Annual Income').\n",
        "Binning numerical data ('Annual Income') to create meaningful categories may reveal additional insights.\n",
        "Visualization Enhancements:\n",
        "\n",
        "Use more informative plot types when appropriate. For example, consider using scatter plots to examine the relationship between continuous variables instead of just heatmaps.\n",
        "Improve the readability of visualizations by using clear labels, titles, and legends.\n",
        "Explore more advanced visualizations like interactive plots for better exploration and communication of findings.\n",
        "Statistical Analysis:\n",
        "\n",
        "Perform more detailed statistical tests beyond correlation analysis, such as t-tests or ANOVA, to validate hypotheses about relationships between variables.\n",
        "Conduct hypothesis testing to test assumptions before drawing conclusions.\n",
        "Model Building (If applicable):\n",
        "\n",
        "If you plan to build predictive models, carefully select appropriate models and features, and evaluate their performance rigorously.\n",
        "Consider feature scaling and encoding when applying machine learning algorithms.\n",
        "Optimize model hyperparameters for better accuracy and generalization.\n",
        "Keyword Extraction Refinement:\n",
        "\n",
        "Use more robust keyword extraction techniques beyond simple splitting. Natural language processing (NLP) techniques can lead to better keyword identification.\n",
        "Robustness of encoding:\n",
        "\n",
        "LabelEncoder's application should be handled cautiously. Explore OneHotEncoding or other encoding methods, especially when dealing with features that do not necessarily represent any ordinal relationship.\n",
        "Data Exploration Depth:\n",
        "\n",
        "Dive deeper into the unique values of categorical columns and their distribution in relation to the target variable (e.g., 'Price').\n",
        "Segment the data into relevant groups (e.g., by 'Region', 'Model') for more detailed analyses.\n",
        "Documentation:\n",
        "\n",
        "Include detailed explanations of the steps and rationale behind the data cleaning, feature engineering, and analysis. This improves code clarity and facilitates collaboration.\n",
        "Code Structure:\n",
        "\n",
        "Modularize the code into reusable functions for improved readability and maintainability.\n",
        "By addressing these potential areas for improvement, you can gain a deeper understanding of the data, improve model accuracy (if applicable), and enhance the insights derived from the analysis."
      ],
      "metadata": {
        "id": "X1mQIdbVkaDq"
      }
    },
    {
      "cell_type": "markdown",
      "source": [
        "Spotify Data"
      ],
      "metadata": {
        "id": "6ymkx4hokqBH"
      }
    },
    {
      "cell_type": "code",
      "source": [
        "\n",
        "# Load Spotify Data\n",
        "spotify_data_url = \"https://drive.google.com/uc?id=1JVgy2yXUOREkzRdCeWjep626uvvF94pP\"\n",
        "spotify_data = pd.read_csv(spotify_data_url)\n",
        "\n",
        "# Display dataset info\n",
        "spotify_data.info()\n",
        "spotify_data.head()\n"
      ],
      "metadata": {
        "id": "f_8MrJXJkeNm"
      },
      "execution_count": null,
      "outputs": []
    },
    {
      "cell_type": "markdown",
      "source": [
        "1. Read the dataframe, check null value if present then do the needful, check duplicate row , if present then do the needful?"
      ],
      "metadata": {
        "id": "ZxElWiuuk7KJ"
      }
    },
    {
      "cell_type": "code",
      "source": [
        "# Check for null values\n",
        "print(spotify_data.isnull().sum())\n",
        "\n",
        "# Handle null values (example: fill with 0)\n",
        "spotify_data.fillna(0, inplace=True)\n",
        "\n",
        "# Check for duplicate rows\n",
        "duplicate_rows = spotify_data[spotify_data.duplicated()]\n",
        "print(f\"Number of duplicate rows: {len(duplicate_rows)}\")\n",
        "\n",
        "# Handle duplicate rows (example: remove duplicates)\n",
        "spotify_data.drop_duplicates(inplace=True)"
      ],
      "metadata": {
        "id": "wa_3ve4hk_o9"
      },
      "execution_count": null,
      "outputs": []
    },
    {
      "cell_type": "markdown",
      "source": [
        "2. What is the distribution of popularity among the tracks in the dataset? Visualize it using a histogram?\n"
      ],
      "metadata": {
        "id": "EHg6yYzZlCZE"
      }
    },
    {
      "cell_type": "code",
      "source": [
        "# Calculate the frequency of each popularity value\n",
        "popularity_counts = spotify_data['Popularity'].value_counts()\n",
        "\n",
        "# Create the histogram\n",
        "plt.figure(figsize=(10, 6))\n",
        "plt.hist(spotify_data['Popularity'], bins=20, edgecolor='black')  # Changed 'popularity' to 'Popularity'\n",
        "plt.xlabel('Popularity')\n",
        "plt.ylabel('Number of Tracks')\n",
        "plt.title('Distribution of Track Popularity')\n",
        "plt.show()"
      ],
      "metadata": {
        "id": "mRTL1LhUlIGx"
      },
      "execution_count": null,
      "outputs": []
    },
    {
      "cell_type": "markdown",
      "source": [
        "3. Is there any relationship between the popularity and the duration of tracks? Explore this using a scatter plot?"
      ],
      "metadata": {
        "id": "eRs_MU85lLSj"
      }
    },
    {
      "cell_type": "code",
      "source": [
        "# Create the scatter plot\n",
        "plt.figure(figsize=(10, 6))\n",
        "plt.scatter(spotify_data['Popularity'], spotify_data['Duration (ms)'], alpha=0.5)\n",
        "plt.xlabel('Popularity')\n",
        "plt.ylabel('Duration (ms)')\n",
        "plt.title('Relationship between Popularity and Duration of Tracks')\n",
        "plt.show()"
      ],
      "metadata": {
        "id": "TuZw4oL3lOj_"
      },
      "execution_count": null,
      "outputs": []
    },
    {
      "cell_type": "markdown",
      "source": [
        "4. Which artist has the highest number of tracks in the dataset? Display the count of tracks for each artist using a countplot."
      ],
      "metadata": {
        "id": "VP_nAMDGlQ1G"
      }
    },
    {
      "cell_type": "code",
      "source": [
        "# Calculate the number of tracks for each artist\n",
        "artist_track_counts = spotify_data['Artist'].value_counts()\n",
        "\n",
        "# Find the artist with the highest number of tracks\n",
        "artist_with_highest_tracks = artist_track_counts.index[0]\n",
        "highest_track_count = artist_track_counts.iloc[0]\n",
        "\n",
        "print(f\"The artist with the highest number of tracks is {artist_with_highest_tracks} with {highest_track_count} tracks.\")\n",
        "\n",
        "# Create the countplot\n",
        "plt.figure(figsize=(12, 6))\n",
        "sns.countplot(x='Artist', data=spotify_data, order=artist_track_counts.index)\n",
        "plt.xlabel('Artist')\n",
        "plt.ylabel('Number of Tracks')\n",
        "plt.title('Number of Tracks per Artist')\n",
        "plt.xticks(rotation=90)  # Rotate x-axis labels for better readability\n",
        "plt.show()"
      ],
      "metadata": {
        "id": "OVZHZCbLlTZM"
      },
      "execution_count": null,
      "outputs": []
    },
    {
      "cell_type": "markdown",
      "source": [
        "5. What are the top 5 least popular tracks in the dataset? Provide the artist name and track name for each."
      ],
      "metadata": {
        "id": "Gex_0NSglWZ9"
      }
    },
    {
      "cell_type": "code",
      "source": [
        "# Sort the DataFrame by popularity in ascending order and get the top 5\n",
        "least_popular_tracks = spotify_data.sort_values(by='Popularity').head(5)\n",
        "\n",
        "# Display the artist name and track name for the least popular tracks\n",
        "print(\"Top 5 Least Popular Tracks:\")\n",
        "print(least_popular_tracks[['Artist', 'Track Name']])"
      ],
      "metadata": {
        "id": "hYrZ15GClZCn"
      },
      "execution_count": null,
      "outputs": []
    },
    {
      "cell_type": "markdown",
      "source": [
        "6. Among the top 5 most popular artists, which artist has the highest popularity on average? Calculate and display the average popularity for each artist."
      ],
      "metadata": {
        "id": "V-04464Rla80"
      }
    },
    {
      "cell_type": "code",
      "source": [
        "# Find the top 5 most popular artists\n",
        "top_5_artists = spotify_data['Artist'].value_counts().head(5).index\n",
        "\n",
        "# Calculate the average popularity for each of the top 5 artists\n",
        "average_popularity_by_artist = {}\n",
        "for artist in top_5_artists:\n",
        "    artist_data = spotify_data[spotify_data['Artist'] == artist]\n",
        "    average_popularity = artist_data['Popularity'].mean()\n",
        "    average_popularity_by_artist[artist] = average_popularity\n",
        "\n",
        "# Find the artist with the highest average popularity among the top 5\n",
        "artist_with_highest_avg_popularity = max(average_popularity_by_artist, key=average_popularity_by_artist.get)\n",
        "highest_average_popularity = average_popularity_by_artist[artist_with_highest_avg_popularity]\n",
        "\n",
        "# Display the results\n",
        "print(\"Average Popularity for Top 5 Artists:\")\n",
        "for artist, avg_popularity in average_popularity_by_artist.items():\n",
        "    print(f\"{artist}: {avg_popularity}\")\n",
        "\n",
        "print(f\"\\nThe artist with the highest average popularity among the top 5 is {artist_with_highest_avg_popularity} with an average popularity of {highest_average_popularity}\")"
      ],
      "metadata": {
        "id": "zcwdqF4flfiX"
      },
      "execution_count": null,
      "outputs": []
    },
    {
      "cell_type": "markdown",
      "source": [
        "7. For the top 5 most popular artists, what are their most popular tracks? List the track name for each artist."
      ],
      "metadata": {
        "id": "VFDmAtwhljXO"
      }
    },
    {
      "cell_type": "code",
      "source": [
        "# Find the top 5 most popular artists\n",
        "top_5_artists = spotify_data['Artist'].value_counts().head(5).index\n",
        "\n",
        "# Iterate through the top 5 artists and find their most popular track\n",
        "for artist in top_5_artists:\n",
        "    artist_data = spotify_data[spotify_data['Artist'] == artist]\n",
        "    most_popular_track = artist_data.loc[artist_data['Popularity'].idxmax()]\n",
        "    print(f\"Artist: {artist}, Most Popular Track: {most_popular_track['Track Name']}\")"
      ],
      "metadata": {
        "id": "0MGHW9Aill-d"
      },
      "execution_count": null,
      "outputs": []
    },
    {
      "cell_type": "markdown",
      "source": [
        "8. Visualize relationships between multiple numerical variables simultaneously using a pair plot."
      ],
      "metadata": {
        "id": "y9-kdbUMln7C"
      }
    },
    {
      "cell_type": "code",
      "source": [
        "# Create a pair plot for numerical variables in the spotify_data DataFrame.\n",
        "numerical_cols = spotify_data.select_dtypes(include=np.number).columns\n",
        "sns.pairplot(spotify_data[numerical_cols])\n",
        "plt.show()"
      ],
      "metadata": {
        "id": "PCXaxtBulr-P"
      },
      "execution_count": null,
      "outputs": []
    },
    {
      "cell_type": "markdown",
      "source": [
        "9. Does the duration of tracks vary significantly across different artists? Explore this visually using a box plot or violin plot."
      ],
      "metadata": {
        "id": "Ztd5xxA7luvI"
      }
    },
    {
      "cell_type": "code",
      "source": [
        "# Create the box plot\n",
        "plt.figure(figsize=(12, 6))\n",
        "sns.boxplot(x='Artist', y='Duration (ms)', data=spotify_data)\n",
        "plt.xlabel('Artist')\n",
        "plt.ylabel('Duration (ms)')\n",
        "plt.title('Duration of Tracks Across Different Artists (Box Plot)')\n",
        "plt.xticks(rotation=90)\n",
        "plt.show()\n",
        "\n",
        "# Create the violin plot\n",
        "plt.figure(figsize=(12, 6))\n",
        "sns.violinplot(x='Artist', y='Duration (ms)', data=spotify_data)\n",
        "plt.xlabel('Artist')\n",
        "plt.ylabel('Duration (ms)')\n",
        "plt.title('Duration of Tracks Across Different Artists (Violin Plot)')\n",
        "plt.xticks(rotation=90)\n",
        "plt.show()"
      ],
      "metadata": {
        "id": "4TbnuEualxQ2"
      },
      "execution_count": null,
      "outputs": []
    },
    {
      "cell_type": "markdown",
      "source": [
        "10. How does the distribution of track popularity vary for different artists? Visualize this using a swarm plot or a violin plot."
      ],
      "metadata": {
        "id": "CB0du5u2lzy9"
      }
    },
    {
      "cell_type": "code",
      "source": [
        "# Create the swarm plot\n",
        "plt.figure(figsize=(12, 6))\n",
        "sns.swarmplot(x='Artist', y='Popularity', data=spotify_data)\n",
        "plt.xlabel('Artist')\n",
        "plt.ylabel('Popularity')\n",
        "plt.title('Distribution of Track Popularity Across Different Artists (Swarm Plot)')\n",
        "plt.xticks(rotation=90)\n",
        "plt.show()\n",
        "\n",
        "# Create the violin plot\n",
        "plt.figure(figsize=(12, 6))\n",
        "sns.violinplot(x='Artist', y='Popularity', data=spotify_data)\n",
        "plt.xlabel('Artist')\n",
        "plt.ylabel('Popularity')\n",
        "plt.title('Distribution of Track Popularity Across Different Artists (Violin Plot)')\n",
        "plt.xticks(rotation=90)\n",
        "plt.show()"
      ],
      "metadata": {
        "id": "lGPFsTV6l3US"
      },
      "execution_count": null,
      "outputs": []
    },
    {
      "cell_type": "markdown",
      "source": [],
      "metadata": {
        "id": "6xWuqG1zl5qZ"
      }
    }
  ],
  "metadata": {
    "colab": {
      "name": "Welcome To Colab",
      "toc_visible": true,
      "provenance": []
    },
    "kernelspec": {
      "display_name": "Python 3",
      "name": "python3"
    }
  },
  "nbformat": 4,
  "nbformat_minor": 0
}