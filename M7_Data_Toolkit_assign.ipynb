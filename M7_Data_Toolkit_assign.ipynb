{
  "cells": [
    {
      "cell_type": "markdown",
      "source": [
        "Demonstrate three different methods for creating identical 2D arrays in NumPy. Provide the code for each\n",
        "method and the final output after each method.\n",
        "\n",
        "\n",
        "\n",
        "  The best way to create two-dimensional (2D) arrays or matrices is by using Python’s numpy module, which provides comprehensive and performant functionality for manipulating multidimensional arrays. We can create a 2D array by passing a tuple to the zeros function. The following code will create a 3-by-3 2D array with all values set to zero:\n",
        "\n",
        " Note that numpy.matrix is deprecated and should not be used for this operation.\n",
        "\n",
        "To create a 2D array without using numpy, we can initialize a list of lists using a list comprehension. This will be slower and deprive us of the use of numpy’s matrix operations, but may be desirable in cases where we don’t want to add the dependency. We can use code similar to the following:\n",
        "In both of these structures, we can read and write individual elements with the following syntax:"
      ],
      "metadata": {
        "id": "G9gG_UC9GE_r"
      }
    },
    {
      "cell_type": "code",
      "source": [
        "import numpy\n",
        "\n",
        "matrix = numpy.zeros((3,3))\n",
        "\n",
        "# array([[0., 0., 0.],\n",
        "#        [0., 0., 0.],\n",
        "#        [0., 0., 0.]])\n",
        "\n",
        "matrix = [[0 for x in range(3)] for y in range(3)] # x = width, y = height\n",
        "# [[0, 0, 0], [0, 0, 0], [0, 0, 0]]\n",
        "matrix[0][0] = 1 # set top-left corner to 1\n",
        "\n",
        "print(matrix[2][2]) # print value of bottom-right corner\n",
        "\n",
        "\n",
        "\n",
        "\n"
      ],
      "metadata": {
        "collapsed": true,
        "id": "sdKjr_8qIVND",
        "outputId": "929e4a22-3540-42fc-b2e8-72d2d8450cdd",
        "colab": {
          "base_uri": "https://localhost:8080/"
        }
      },
      "execution_count": 5,
      "outputs": [
        {
          "output_type": "stream",
          "name": "stdout",
          "text": [
            "0\n"
          ]
        }
      ]
    },
    {
      "cell_type": "markdown",
      "source": [
        "2.Using the Numpy function, generate an array of 100 evenly spaced numbers between 1 and 10 and\n",
        "Reshape that 1D array into a 2D array."
      ],
      "metadata": {
        "id": "g8Erv58DI4m-"
      }
    },
    {
      "cell_type": "code",
      "source": [
        "import numpy as np\n",
        "\n",
        "array_1d = np.linspace(1, 10, 100)\n",
        "array_2d = array_1d.reshape(10, 10)\n",
        "print(array_2d)\n",
        "\n"
      ],
      "metadata": {
        "id": "NdB4lUT_JohB",
        "outputId": "98d40081-19be-4974-b126-821e421093eb",
        "colab": {
          "base_uri": "https://localhost:8080/"
        }
      },
      "execution_count": 6,
      "outputs": [
        {
          "output_type": "stream",
          "name": "stdout",
          "text": [
            "[[ 1.          1.09090909  1.18181818  1.27272727  1.36363636  1.45454545\n",
            "   1.54545455  1.63636364  1.72727273  1.81818182]\n",
            " [ 1.90909091  2.          2.09090909  2.18181818  2.27272727  2.36363636\n",
            "   2.45454545  2.54545455  2.63636364  2.72727273]\n",
            " [ 2.81818182  2.90909091  3.          3.09090909  3.18181818  3.27272727\n",
            "   3.36363636  3.45454545  3.54545455  3.63636364]\n",
            " [ 3.72727273  3.81818182  3.90909091  4.          4.09090909  4.18181818\n",
            "   4.27272727  4.36363636  4.45454545  4.54545455]\n",
            " [ 4.63636364  4.72727273  4.81818182  4.90909091  5.          5.09090909\n",
            "   5.18181818  5.27272727  5.36363636  5.45454545]\n",
            " [ 5.54545455  5.63636364  5.72727273  5.81818182  5.90909091  6.\n",
            "   6.09090909  6.18181818  6.27272727  6.36363636]\n",
            " [ 6.45454545  6.54545455  6.63636364  6.72727273  6.81818182  6.90909091\n",
            "   7.          7.09090909  7.18181818  7.27272727]\n",
            " [ 7.36363636  7.45454545  7.54545455  7.63636364  7.72727273  7.81818182\n",
            "   7.90909091  8.          8.09090909  8.18181818]\n",
            " [ 8.27272727  8.36363636  8.45454545  8.54545455  8.63636364  8.72727273\n",
            "   8.81818182  8.90909091  9.          9.09090909]\n",
            " [ 9.18181818  9.27272727  9.36363636  9.45454545  9.54545455  9.63636364\n",
            "   9.72727273  9.81818182  9.90909091 10.        ]]\n"
          ]
        }
      ]
    },
    {
      "cell_type": "markdown",
      "source": [
        "3.Explain the following termsg\n",
        "M The difference in np.array, np.asarray and np.asanyarrayX\n",
        "M The difference between Deep copy and shallow copyX.\n",
        "\n",
        "\n",
        "np.array in Python\n",
        "The np.array() in Python is used to convert a list, tuple, etc. into a Numpy array.\n",
        "\n",
        "\n",
        "Syntax: numpy.array(object, dtype=None)\n",
        "\n",
        "\n",
        "Parameters :\n",
        "\n",
        "\n",
        "object: [array_like] Input data, in any form can be converted to an array.\n",
        "dtype: [data-type, optional] By default, the datatype is inferred from the input data.\n",
        "\n",
        "Return : [ndarray] Array interpretation of arr.\n",
        "\n",
        "\n",
        "\n",
        "np.asarray in Python\n",
        "The numpy.asarray()function is used when we want to convert the input to an array. Input can be lists, lists of tuples, tuples, tuples of tuples, tuples of lists and arrays.\n",
        "\n",
        "\n",
        "Syntax: numpy.asarray(arr, dtype=None, order=None)\n",
        "\n",
        "\n",
        "Parameters :\n",
        "\n",
        "\n",
        "arr: [array_like] Input data, in any form can be converted to an array. This includes lists, lists of tuples, tuples, tuples of tuples, tuples of lists and ndarrays.\n",
        "dtype: [data-type, optional] By default, the data-type is inferred from the input data.\n",
        "order : Whether to use row-major (C-style) or column-major (Fortran-style) memory representation. Defaults to ‘C’.\n",
        "\n",
        "Return : [ndarray] Array interpretation of arr. No copy is performed if the input is already ndarray with matching dtype and order. If arr is a subclass of ndarray, a base class array is returned.\n",
        "\n",
        "numpy.asanyarray()function is used when we want to convert input to an array but it pass ndarray subclasses through. Input can be scalars, lists, lists of tuples, tuples, tuples of tuples, tuples of lists and ndarrays.\n",
        "\n",
        "\n",
        "Syntax  :  numpy.asanyarray(arr, dtype=None, order=None)\n",
        "\n",
        "\n",
        "Parameters :\n",
        "\n",
        "arr   : [array_like] Input data, in any form that can be converted to an array. This includes scalars, lists, lists of tuples, tuples, tuples of tuples, tuples of lists, and ndarrays.\n",
        "\n",
        "dtype      :  [data-type, optional] By default, the data-type is inferred from the input data.\n",
        "\n",
        "order  :  Whether to use row-major (C-style) or column-major (Fortran-style) memory representation. Defaults to ‘C’.\n",
        "\n",
        "\n",
        "Return  : [ndarray or an ndarray subclass] Array interpretation of arr. If arr is ndarray or a subclass of ndarray, it is returned as-is and no copy is performed."
      ],
      "metadata": {
        "id": "-4-or1xwKJgb"
      }
    },
    {
      "cell_type": "markdown",
      "source": [
        "4.Generate a 3x3 array with random floating-point numbers between 5 and 20. Then, round each number in\n",
        "the array to 2 decimal places."
      ],
      "metadata": {
        "id": "vN0iTrJJLmJk"
      }
    },
    {
      "cell_type": "code",
      "source": [
        "\n",
        "import numpy as np\n",
        "\n",
        "x = np.random.random((3, 3))\n",
        "random_array = np.random.uniform(5, 20, (3, 3))\n",
        "rounded_array = np.round(random_array, 2)\n",
        "print(rounded_array)\n"
      ],
      "metadata": {
        "id": "C8YboMlZL8eo",
        "outputId": "3edb5b10-d461-4fd3-800d-071005b76913",
        "colab": {
          "base_uri": "https://localhost:8080/"
        }
      },
      "execution_count": 7,
      "outputs": [
        {
          "output_type": "stream",
          "name": "stdout",
          "text": [
            "[[19.29 11.71 17.7 ]\n",
            " [15.49  9.46 17.21]\n",
            " [10.95 18.22 13.72]]\n"
          ]
        }
      ]
    },
    {
      "cell_type": "markdown",
      "source": [
        "5.Create a NumPy array with random integers between 1 and 10 of shape (5, 6). After creating the array\n",
        "perform the following operations:\n",
        "\n",
        " a)Extract all even integers from array.\n",
        "\n",
        " b)Extract all odd integers from arrayX"
      ],
      "metadata": {
        "id": "u4SukUqzMRK-"
      }
    },
    {
      "cell_type": "code",
      "source": [
        "\n",
        "import numpy as np\n",
        "array = np.random.randint(1, 11, (5, 6))\n",
        "#a\n",
        "even_integers = array[array % 2 == 0]\n",
        "\n",
        "#b\n",
        "odd_integers = array[array % 2 != 0]\n",
        "\n",
        "print(\"Original Array:\")\n",
        "print(array)\n",
        "print(\"\\nEven Integers:\")\n",
        "print(even_integers)\n",
        "print(\"\\nOdd Integers:\")\n",
        "print(odd_integers)"
      ],
      "metadata": {
        "colab": {
          "base_uri": "https://localhost:8080/"
        },
        "id": "vGoINlSW2txs",
        "outputId": "bb65f683-b0ca-46a6-d620-752a61a9a9aa"
      },
      "execution_count": 8,
      "outputs": [
        {
          "output_type": "stream",
          "name": "stdout",
          "text": [
            "Original Array:\n",
            "[[ 6 10  1 10  7  6]\n",
            " [ 4  2  9  1  5 10]\n",
            " [ 7  6  8  9  9 10]\n",
            " [ 3  9  7  7 10  2]\n",
            " [ 7  9  9  4  3  4]]\n",
            "\n",
            "Even Integers:\n",
            "[ 6 10 10  6  4  2 10  6  8 10 10  2  4  4]\n",
            "\n",
            "Odd Integers:\n",
            "[1 7 9 1 5 7 9 9 3 9 7 7 7 9 9 3]\n"
          ]
        }
      ]
    },
    {
      "cell_type": "markdown",
      "source": [
        "6. Create a 3D NumPy array of shape (3, 3, 3) containing random integers between 1 and 10. Perform the\n",
        "following operations:\n",
        "\n",
        " a) Find the indices of the maximum values along each depth level (third axis).\n",
        "\n",
        " b) Perform element-wise multiplication of between both arrayX"
      ],
      "metadata": {
        "id": "RUPA6ZqU4zIc"
      }
    },
    {
      "cell_type": "code",
      "source": [
        "# import numpy library\n",
        "import numpy\n",
        "\n",
        "# creating a numpy array of integers\n",
        "arr = numpy.array([1, 5, 4, 8, 3, 7])\n",
        "\n",
        "# finding the maximum and\n",
        "# minimum element in the array\n",
        "max_element = numpy.max(arr)\n",
        "min_element = numpy.min(arr)\n",
        "\n",
        "# printing the result\n",
        "print('maximum element in the array is: ',\n",
        "\tmax_element)\n",
        "print('minimum element in the array is: ',\n",
        "\tmin_element)\n",
        "\n",
        "\n",
        "\n",
        "\n",
        "import numpy as np\n",
        "np.random.seed(42)\n",
        "A = np.random.randint(0, 10, size=(3, 3, 2))\n",
        "B = np.random.randint(0, 10, size=(3, 2, 4))\n",
        "print(\"A:\\n{}, shape={}\\nB:\\n{}, shape={}\".format(\n",
        "A, A.shape, B, B.shape))\n",
        "C = np.matmul(A, B)\n",
        "print(\"Product C:\\n{}, shape={}\".format(C, C.shape))\n"
      ],
      "metadata": {
        "id": "QB_Yhwc-5YOM",
        "colab": {
          "base_uri": "https://localhost:8080/"
        },
        "collapsed": true,
        "outputId": "9d8a46e8-919c-4bac-fa20-b3d58a14434f"
      },
      "execution_count": 9,
      "outputs": [
        {
          "output_type": "stream",
          "name": "stdout",
          "text": [
            "maximum element in the array is:  8\n",
            "minimum element in the array is:  1\n",
            "A:\n",
            "[[[6 3]\n",
            "  [7 4]\n",
            "  [6 9]]\n",
            "\n",
            " [[2 6]\n",
            "  [7 4]\n",
            "  [3 7]]\n",
            "\n",
            " [[7 2]\n",
            "  [5 4]\n",
            "  [1 7]]], shape=(3, 3, 2)\n",
            "B:\n",
            "[[[5 1 4 0]\n",
            "  [9 5 8 0]]\n",
            "\n",
            " [[9 2 6 3]\n",
            "  [8 2 4 2]]\n",
            "\n",
            " [[6 4 8 6]\n",
            "  [1 3 8 1]]], shape=(3, 2, 4)\n",
            "Product C:\n",
            "[[[ 57  21  48   0]\n",
            "  [ 71  27  60   0]\n",
            "  [111  51  96   0]]\n",
            "\n",
            " [[ 66  16  36  18]\n",
            "  [ 95  22  58  29]\n",
            "  [ 83  20  46  23]]\n",
            "\n",
            " [[ 44  34  72  44]\n",
            "  [ 34  32  72  34]\n",
            "  [ 13  25  64  13]]], shape=(3, 3, 4)\n"
          ]
        }
      ]
    },
    {
      "cell_type": "markdown",
      "source": [
        "7.Clean and transform the 'Phone' column in the sample dataset to remove non-numeric characters and\n",
        "convert it to a numeric data type. Also display the table attributes and data types of each column."
      ],
      "metadata": {
        "id": "SkAEqkNz5p1e"
      }
    },
    {
      "cell_type": "code",
      "source": [
        "import pandas as pd\n",
        "\n",
        "# Create an example DataFrame\n",
        "df = pd.DataFrame({\n",
        "    \"name\": [\"Apple\", \"Banana\", \"Carrot\", \"Durian\", \"Eggplant\"],\n",
        "    \"price\": [\"$2.00\", \"Free\", \"1.50\", \"N/A\", \"$15.00\"]\n",
        "})\n",
        "\n",
        "regex = r\"^[-+]?\\d{1,3}(,\\d{3})*(\\.\\d+)?$\"\n",
        "\n",
        "# Use the str.match method to match the 'price' column based on the regular expression; returns a boolean series\n",
        "is_numeric = df[\"price\"].str.match(regex)\n",
        "\n",
        "# Use boolean indexing to select rows that meet the condition\n",
        "df = df[is_numeric]\n",
        "\n",
        "# Print the result\n",
        "print(df)"
      ],
      "metadata": {
        "colab": {
          "base_uri": "https://localhost:8080/"
        },
        "id": "xCvfDwqP7RRD",
        "outputId": "b472b143-b18e-4dfc-99c6-690f663fc42f"
      },
      "execution_count": null,
      "outputs": [
        {
          "output_type": "stream",
          "name": "stdout",
          "text": [
            "     name price\n",
            "2  Carrot  1.50\n"
          ]
        }
      ]
    },
    {
      "cell_type": "markdown",
      "source": [
        "8.Perform the following tasks using people dataset:\n",
        "\n",
        " a) Read the 'data.csv' file using pandas, skipping the first 50 rows.\n",
        "\n",
        " b) Only read the columns: 'Last Name', ‘Gender’,’Email’,‘Phone’ and ‘Salary’ from the file.\n",
        "\n",
        " c) Display the first 10 rows of the filtered dataset.\n",
        "\n",
        " d) Extract the ‘Salary’' column as a Series and display its last 5 values"
      ],
      "metadata": {
        "id": "KDSbLWt47wdL"
      }
    },
    {
      "cell_type": "code",
      "source": [
        "import pandas as pd\n",
        "\n",
        "# Import CSV file and skip the last row\n",
        "df = pd.read_csv('data.csv', skipfooter=1)"
      ],
      "metadata": {
        "colab": {
          "base_uri": "https://localhost:8080/",
          "height": 428
        },
        "collapsed": true,
        "id": "xSUUj6Um8OHk",
        "outputId": "83c941ef-984c-4289-805d-267b8389563d"
      },
      "execution_count": null,
      "outputs": [
        {
          "output_type": "stream",
          "name": "stderr",
          "text": [
            "<ipython-input-17-825ab19d42e4>:4: ParserWarning: Falling back to the 'python' engine because the 'c' engine does not support skipfooter; you can avoid this warning by specifying engine='python'.\n",
            "  df = pd.read_csv('data.csv', skipfooter=1)\n"
          ]
        },
        {
          "output_type": "error",
          "ename": "FileNotFoundError",
          "evalue": "[Errno 2] No such file or directory: 'data.csv'",
          "traceback": [
            "\u001b[0;31m---------------------------------------------------------------------------\u001b[0m",
            "\u001b[0;31mFileNotFoundError\u001b[0m                         Traceback (most recent call last)",
            "\u001b[0;32m<ipython-input-17-825ab19d42e4>\u001b[0m in \u001b[0;36m<cell line: 4>\u001b[0;34m()\u001b[0m\n\u001b[1;32m      2\u001b[0m \u001b[0;34m\u001b[0m\u001b[0m\n\u001b[1;32m      3\u001b[0m \u001b[0;31m# Import CSV file and skip the last row\u001b[0m\u001b[0;34m\u001b[0m\u001b[0;34m\u001b[0m\u001b[0m\n\u001b[0;32m----> 4\u001b[0;31m \u001b[0mdf\u001b[0m \u001b[0;34m=\u001b[0m \u001b[0mpd\u001b[0m\u001b[0;34m.\u001b[0m\u001b[0mread_csv\u001b[0m\u001b[0;34m(\u001b[0m\u001b[0;34m'data.csv'\u001b[0m\u001b[0;34m,\u001b[0m \u001b[0mskipfooter\u001b[0m\u001b[0;34m=\u001b[0m\u001b[0;36m1\u001b[0m\u001b[0;34m)\u001b[0m\u001b[0;34m\u001b[0m\u001b[0;34m\u001b[0m\u001b[0m\n\u001b[0m\u001b[1;32m      5\u001b[0m \u001b[0;34m\u001b[0m\u001b[0m\n\u001b[1;32m      6\u001b[0m \u001b[0;34m\u001b[0m\u001b[0m\n",
            "\u001b[0;32m/usr/local/lib/python3.10/dist-packages/pandas/io/parsers/readers.py\u001b[0m in \u001b[0;36mread_csv\u001b[0;34m(filepath_or_buffer, sep, delimiter, header, names, index_col, usecols, dtype, engine, converters, true_values, false_values, skipinitialspace, skiprows, skipfooter, nrows, na_values, keep_default_na, na_filter, verbose, skip_blank_lines, parse_dates, infer_datetime_format, keep_date_col, date_parser, date_format, dayfirst, cache_dates, iterator, chunksize, compression, thousands, decimal, lineterminator, quotechar, quoting, doublequote, escapechar, comment, encoding, encoding_errors, dialect, on_bad_lines, delim_whitespace, low_memory, memory_map, float_precision, storage_options, dtype_backend)\u001b[0m\n\u001b[1;32m   1024\u001b[0m     \u001b[0mkwds\u001b[0m\u001b[0;34m.\u001b[0m\u001b[0mupdate\u001b[0m\u001b[0;34m(\u001b[0m\u001b[0mkwds_defaults\u001b[0m\u001b[0;34m)\u001b[0m\u001b[0;34m\u001b[0m\u001b[0;34m\u001b[0m\u001b[0m\n\u001b[1;32m   1025\u001b[0m \u001b[0;34m\u001b[0m\u001b[0m\n\u001b[0;32m-> 1026\u001b[0;31m     \u001b[0;32mreturn\u001b[0m \u001b[0m_read\u001b[0m\u001b[0;34m(\u001b[0m\u001b[0mfilepath_or_buffer\u001b[0m\u001b[0;34m,\u001b[0m \u001b[0mkwds\u001b[0m\u001b[0;34m)\u001b[0m\u001b[0;34m\u001b[0m\u001b[0;34m\u001b[0m\u001b[0m\n\u001b[0m\u001b[1;32m   1027\u001b[0m \u001b[0;34m\u001b[0m\u001b[0m\n\u001b[1;32m   1028\u001b[0m \u001b[0;34m\u001b[0m\u001b[0m\n",
            "\u001b[0;32m/usr/local/lib/python3.10/dist-packages/pandas/io/parsers/readers.py\u001b[0m in \u001b[0;36m_read\u001b[0;34m(filepath_or_buffer, kwds)\u001b[0m\n\u001b[1;32m    618\u001b[0m \u001b[0;34m\u001b[0m\u001b[0m\n\u001b[1;32m    619\u001b[0m     \u001b[0;31m# Create the parser.\u001b[0m\u001b[0;34m\u001b[0m\u001b[0;34m\u001b[0m\u001b[0m\n\u001b[0;32m--> 620\u001b[0;31m     \u001b[0mparser\u001b[0m \u001b[0;34m=\u001b[0m \u001b[0mTextFileReader\u001b[0m\u001b[0;34m(\u001b[0m\u001b[0mfilepath_or_buffer\u001b[0m\u001b[0;34m,\u001b[0m \u001b[0;34m**\u001b[0m\u001b[0mkwds\u001b[0m\u001b[0;34m)\u001b[0m\u001b[0;34m\u001b[0m\u001b[0;34m\u001b[0m\u001b[0m\n\u001b[0m\u001b[1;32m    621\u001b[0m \u001b[0;34m\u001b[0m\u001b[0m\n\u001b[1;32m    622\u001b[0m     \u001b[0;32mif\u001b[0m \u001b[0mchunksize\u001b[0m \u001b[0;32mor\u001b[0m \u001b[0miterator\u001b[0m\u001b[0;34m:\u001b[0m\u001b[0;34m\u001b[0m\u001b[0;34m\u001b[0m\u001b[0m\n",
            "\u001b[0;32m/usr/local/lib/python3.10/dist-packages/pandas/io/parsers/readers.py\u001b[0m in \u001b[0;36m__init__\u001b[0;34m(self, f, engine, **kwds)\u001b[0m\n\u001b[1;32m   1618\u001b[0m \u001b[0;34m\u001b[0m\u001b[0m\n\u001b[1;32m   1619\u001b[0m         \u001b[0mself\u001b[0m\u001b[0;34m.\u001b[0m\u001b[0mhandles\u001b[0m\u001b[0;34m:\u001b[0m \u001b[0mIOHandles\u001b[0m \u001b[0;34m|\u001b[0m \u001b[0;32mNone\u001b[0m \u001b[0;34m=\u001b[0m \u001b[0;32mNone\u001b[0m\u001b[0;34m\u001b[0m\u001b[0;34m\u001b[0m\u001b[0m\n\u001b[0;32m-> 1620\u001b[0;31m         \u001b[0mself\u001b[0m\u001b[0;34m.\u001b[0m\u001b[0m_engine\u001b[0m \u001b[0;34m=\u001b[0m \u001b[0mself\u001b[0m\u001b[0;34m.\u001b[0m\u001b[0m_make_engine\u001b[0m\u001b[0;34m(\u001b[0m\u001b[0mf\u001b[0m\u001b[0;34m,\u001b[0m \u001b[0mself\u001b[0m\u001b[0;34m.\u001b[0m\u001b[0mengine\u001b[0m\u001b[0;34m)\u001b[0m\u001b[0;34m\u001b[0m\u001b[0;34m\u001b[0m\u001b[0m\n\u001b[0m\u001b[1;32m   1621\u001b[0m \u001b[0;34m\u001b[0m\u001b[0m\n\u001b[1;32m   1622\u001b[0m     \u001b[0;32mdef\u001b[0m \u001b[0mclose\u001b[0m\u001b[0;34m(\u001b[0m\u001b[0mself\u001b[0m\u001b[0;34m)\u001b[0m \u001b[0;34m->\u001b[0m \u001b[0;32mNone\u001b[0m\u001b[0;34m:\u001b[0m\u001b[0;34m\u001b[0m\u001b[0;34m\u001b[0m\u001b[0m\n",
            "\u001b[0;32m/usr/local/lib/python3.10/dist-packages/pandas/io/parsers/readers.py\u001b[0m in \u001b[0;36m_make_engine\u001b[0;34m(self, f, engine)\u001b[0m\n\u001b[1;32m   1878\u001b[0m                 \u001b[0;32mif\u001b[0m \u001b[0;34m\"b\"\u001b[0m \u001b[0;32mnot\u001b[0m \u001b[0;32min\u001b[0m \u001b[0mmode\u001b[0m\u001b[0;34m:\u001b[0m\u001b[0;34m\u001b[0m\u001b[0;34m\u001b[0m\u001b[0m\n\u001b[1;32m   1879\u001b[0m                     \u001b[0mmode\u001b[0m \u001b[0;34m+=\u001b[0m \u001b[0;34m\"b\"\u001b[0m\u001b[0;34m\u001b[0m\u001b[0;34m\u001b[0m\u001b[0m\n\u001b[0;32m-> 1880\u001b[0;31m             self.handles = get_handle(\n\u001b[0m\u001b[1;32m   1881\u001b[0m                 \u001b[0mf\u001b[0m\u001b[0;34m,\u001b[0m\u001b[0;34m\u001b[0m\u001b[0;34m\u001b[0m\u001b[0m\n\u001b[1;32m   1882\u001b[0m                 \u001b[0mmode\u001b[0m\u001b[0;34m,\u001b[0m\u001b[0;34m\u001b[0m\u001b[0;34m\u001b[0m\u001b[0m\n",
            "\u001b[0;32m/usr/local/lib/python3.10/dist-packages/pandas/io/common.py\u001b[0m in \u001b[0;36mget_handle\u001b[0;34m(path_or_buf, mode, encoding, compression, memory_map, is_text, errors, storage_options)\u001b[0m\n\u001b[1;32m    871\u001b[0m         \u001b[0;32mif\u001b[0m \u001b[0mioargs\u001b[0m\u001b[0;34m.\u001b[0m\u001b[0mencoding\u001b[0m \u001b[0;32mand\u001b[0m \u001b[0;34m\"b\"\u001b[0m \u001b[0;32mnot\u001b[0m \u001b[0;32min\u001b[0m \u001b[0mioargs\u001b[0m\u001b[0;34m.\u001b[0m\u001b[0mmode\u001b[0m\u001b[0;34m:\u001b[0m\u001b[0;34m\u001b[0m\u001b[0;34m\u001b[0m\u001b[0m\n\u001b[1;32m    872\u001b[0m             \u001b[0;31m# Encoding\u001b[0m\u001b[0;34m\u001b[0m\u001b[0;34m\u001b[0m\u001b[0m\n\u001b[0;32m--> 873\u001b[0;31m             handle = open(\n\u001b[0m\u001b[1;32m    874\u001b[0m                 \u001b[0mhandle\u001b[0m\u001b[0;34m,\u001b[0m\u001b[0;34m\u001b[0m\u001b[0;34m\u001b[0m\u001b[0m\n\u001b[1;32m    875\u001b[0m                 \u001b[0mioargs\u001b[0m\u001b[0;34m.\u001b[0m\u001b[0mmode\u001b[0m\u001b[0;34m,\u001b[0m\u001b[0;34m\u001b[0m\u001b[0;34m\u001b[0m\u001b[0m\n",
            "\u001b[0;31mFileNotFoundError\u001b[0m: [Errno 2] No such file or directory: 'data.csv'"
          ]
        }
      ]
    },
    {
      "cell_type": "code",
      "source": [
        "import pandas as pd\n",
        "\n",
        "# reading csv file\n",
        "df = pd.read_csv(\"people.csv\")\n",
        "df"
      ],
      "metadata": {
        "colab": {
          "base_uri": "https://localhost:8080/",
          "height": 356
        },
        "collapsed": true,
        "id": "PQMSLpn79dZd",
        "outputId": "917b2114-50f0-43cf-de25-aae81e395c35"
      },
      "execution_count": null,
      "outputs": [
        {
          "output_type": "error",
          "ename": "FileNotFoundError",
          "evalue": "[Errno 2] No such file or directory: 'people.csv'",
          "traceback": [
            "\u001b[0;31m---------------------------------------------------------------------------\u001b[0m",
            "\u001b[0;31mFileNotFoundError\u001b[0m                         Traceback (most recent call last)",
            "\u001b[0;32m<ipython-input-18-d62094740901>\u001b[0m in \u001b[0;36m<cell line: 4>\u001b[0;34m()\u001b[0m\n\u001b[1;32m      2\u001b[0m \u001b[0;34m\u001b[0m\u001b[0m\n\u001b[1;32m      3\u001b[0m \u001b[0;31m# reading csv file\u001b[0m\u001b[0;34m\u001b[0m\u001b[0;34m\u001b[0m\u001b[0m\n\u001b[0;32m----> 4\u001b[0;31m \u001b[0mdf\u001b[0m \u001b[0;34m=\u001b[0m \u001b[0mpd\u001b[0m\u001b[0;34m.\u001b[0m\u001b[0mread_csv\u001b[0m\u001b[0;34m(\u001b[0m\u001b[0;34m\"people.csv\"\u001b[0m\u001b[0;34m)\u001b[0m\u001b[0;34m\u001b[0m\u001b[0;34m\u001b[0m\u001b[0m\n\u001b[0m\u001b[1;32m      5\u001b[0m \u001b[0mdf\u001b[0m\u001b[0;34m\u001b[0m\u001b[0;34m\u001b[0m\u001b[0m\n",
            "\u001b[0;32m/usr/local/lib/python3.10/dist-packages/pandas/io/parsers/readers.py\u001b[0m in \u001b[0;36mread_csv\u001b[0;34m(filepath_or_buffer, sep, delimiter, header, names, index_col, usecols, dtype, engine, converters, true_values, false_values, skipinitialspace, skiprows, skipfooter, nrows, na_values, keep_default_na, na_filter, verbose, skip_blank_lines, parse_dates, infer_datetime_format, keep_date_col, date_parser, date_format, dayfirst, cache_dates, iterator, chunksize, compression, thousands, decimal, lineterminator, quotechar, quoting, doublequote, escapechar, comment, encoding, encoding_errors, dialect, on_bad_lines, delim_whitespace, low_memory, memory_map, float_precision, storage_options, dtype_backend)\u001b[0m\n\u001b[1;32m   1024\u001b[0m     \u001b[0mkwds\u001b[0m\u001b[0;34m.\u001b[0m\u001b[0mupdate\u001b[0m\u001b[0;34m(\u001b[0m\u001b[0mkwds_defaults\u001b[0m\u001b[0;34m)\u001b[0m\u001b[0;34m\u001b[0m\u001b[0;34m\u001b[0m\u001b[0m\n\u001b[1;32m   1025\u001b[0m \u001b[0;34m\u001b[0m\u001b[0m\n\u001b[0;32m-> 1026\u001b[0;31m     \u001b[0;32mreturn\u001b[0m \u001b[0m_read\u001b[0m\u001b[0;34m(\u001b[0m\u001b[0mfilepath_or_buffer\u001b[0m\u001b[0;34m,\u001b[0m \u001b[0mkwds\u001b[0m\u001b[0;34m)\u001b[0m\u001b[0;34m\u001b[0m\u001b[0;34m\u001b[0m\u001b[0m\n\u001b[0m\u001b[1;32m   1027\u001b[0m \u001b[0;34m\u001b[0m\u001b[0m\n\u001b[1;32m   1028\u001b[0m \u001b[0;34m\u001b[0m\u001b[0m\n",
            "\u001b[0;32m/usr/local/lib/python3.10/dist-packages/pandas/io/parsers/readers.py\u001b[0m in \u001b[0;36m_read\u001b[0;34m(filepath_or_buffer, kwds)\u001b[0m\n\u001b[1;32m    618\u001b[0m \u001b[0;34m\u001b[0m\u001b[0m\n\u001b[1;32m    619\u001b[0m     \u001b[0;31m# Create the parser.\u001b[0m\u001b[0;34m\u001b[0m\u001b[0;34m\u001b[0m\u001b[0m\n\u001b[0;32m--> 620\u001b[0;31m     \u001b[0mparser\u001b[0m \u001b[0;34m=\u001b[0m \u001b[0mTextFileReader\u001b[0m\u001b[0;34m(\u001b[0m\u001b[0mfilepath_or_buffer\u001b[0m\u001b[0;34m,\u001b[0m \u001b[0;34m**\u001b[0m\u001b[0mkwds\u001b[0m\u001b[0;34m)\u001b[0m\u001b[0;34m\u001b[0m\u001b[0;34m\u001b[0m\u001b[0m\n\u001b[0m\u001b[1;32m    621\u001b[0m \u001b[0;34m\u001b[0m\u001b[0m\n\u001b[1;32m    622\u001b[0m     \u001b[0;32mif\u001b[0m \u001b[0mchunksize\u001b[0m \u001b[0;32mor\u001b[0m \u001b[0miterator\u001b[0m\u001b[0;34m:\u001b[0m\u001b[0;34m\u001b[0m\u001b[0;34m\u001b[0m\u001b[0m\n",
            "\u001b[0;32m/usr/local/lib/python3.10/dist-packages/pandas/io/parsers/readers.py\u001b[0m in \u001b[0;36m__init__\u001b[0;34m(self, f, engine, **kwds)\u001b[0m\n\u001b[1;32m   1618\u001b[0m \u001b[0;34m\u001b[0m\u001b[0m\n\u001b[1;32m   1619\u001b[0m         \u001b[0mself\u001b[0m\u001b[0;34m.\u001b[0m\u001b[0mhandles\u001b[0m\u001b[0;34m:\u001b[0m \u001b[0mIOHandles\u001b[0m \u001b[0;34m|\u001b[0m \u001b[0;32mNone\u001b[0m \u001b[0;34m=\u001b[0m \u001b[0;32mNone\u001b[0m\u001b[0;34m\u001b[0m\u001b[0;34m\u001b[0m\u001b[0m\n\u001b[0;32m-> 1620\u001b[0;31m         \u001b[0mself\u001b[0m\u001b[0;34m.\u001b[0m\u001b[0m_engine\u001b[0m \u001b[0;34m=\u001b[0m \u001b[0mself\u001b[0m\u001b[0;34m.\u001b[0m\u001b[0m_make_engine\u001b[0m\u001b[0;34m(\u001b[0m\u001b[0mf\u001b[0m\u001b[0;34m,\u001b[0m \u001b[0mself\u001b[0m\u001b[0;34m.\u001b[0m\u001b[0mengine\u001b[0m\u001b[0;34m)\u001b[0m\u001b[0;34m\u001b[0m\u001b[0;34m\u001b[0m\u001b[0m\n\u001b[0m\u001b[1;32m   1621\u001b[0m \u001b[0;34m\u001b[0m\u001b[0m\n\u001b[1;32m   1622\u001b[0m     \u001b[0;32mdef\u001b[0m \u001b[0mclose\u001b[0m\u001b[0;34m(\u001b[0m\u001b[0mself\u001b[0m\u001b[0;34m)\u001b[0m \u001b[0;34m->\u001b[0m \u001b[0;32mNone\u001b[0m\u001b[0;34m:\u001b[0m\u001b[0;34m\u001b[0m\u001b[0;34m\u001b[0m\u001b[0m\n",
            "\u001b[0;32m/usr/local/lib/python3.10/dist-packages/pandas/io/parsers/readers.py\u001b[0m in \u001b[0;36m_make_engine\u001b[0;34m(self, f, engine)\u001b[0m\n\u001b[1;32m   1878\u001b[0m                 \u001b[0;32mif\u001b[0m \u001b[0;34m\"b\"\u001b[0m \u001b[0;32mnot\u001b[0m \u001b[0;32min\u001b[0m \u001b[0mmode\u001b[0m\u001b[0;34m:\u001b[0m\u001b[0;34m\u001b[0m\u001b[0;34m\u001b[0m\u001b[0m\n\u001b[1;32m   1879\u001b[0m                     \u001b[0mmode\u001b[0m \u001b[0;34m+=\u001b[0m \u001b[0;34m\"b\"\u001b[0m\u001b[0;34m\u001b[0m\u001b[0;34m\u001b[0m\u001b[0m\n\u001b[0;32m-> 1880\u001b[0;31m             self.handles = get_handle(\n\u001b[0m\u001b[1;32m   1881\u001b[0m                 \u001b[0mf\u001b[0m\u001b[0;34m,\u001b[0m\u001b[0;34m\u001b[0m\u001b[0;34m\u001b[0m\u001b[0m\n\u001b[1;32m   1882\u001b[0m                 \u001b[0mmode\u001b[0m\u001b[0;34m,\u001b[0m\u001b[0;34m\u001b[0m\u001b[0;34m\u001b[0m\u001b[0m\n",
            "\u001b[0;32m/usr/local/lib/python3.10/dist-packages/pandas/io/common.py\u001b[0m in \u001b[0;36mget_handle\u001b[0;34m(path_or_buf, mode, encoding, compression, memory_map, is_text, errors, storage_options)\u001b[0m\n\u001b[1;32m    871\u001b[0m         \u001b[0;32mif\u001b[0m \u001b[0mioargs\u001b[0m\u001b[0;34m.\u001b[0m\u001b[0mencoding\u001b[0m \u001b[0;32mand\u001b[0m \u001b[0;34m\"b\"\u001b[0m \u001b[0;32mnot\u001b[0m \u001b[0;32min\u001b[0m \u001b[0mioargs\u001b[0m\u001b[0;34m.\u001b[0m\u001b[0mmode\u001b[0m\u001b[0;34m:\u001b[0m\u001b[0;34m\u001b[0m\u001b[0;34m\u001b[0m\u001b[0m\n\u001b[1;32m    872\u001b[0m             \u001b[0;31m# Encoding\u001b[0m\u001b[0;34m\u001b[0m\u001b[0;34m\u001b[0m\u001b[0m\n\u001b[0;32m--> 873\u001b[0;31m             handle = open(\n\u001b[0m\u001b[1;32m    874\u001b[0m                 \u001b[0mhandle\u001b[0m\u001b[0;34m,\u001b[0m\u001b[0;34m\u001b[0m\u001b[0;34m\u001b[0m\u001b[0m\n\u001b[1;32m    875\u001b[0m                 \u001b[0mioargs\u001b[0m\u001b[0;34m.\u001b[0m\u001b[0mmode\u001b[0m\u001b[0;34m,\u001b[0m\u001b[0;34m\u001b[0m\u001b[0;34m\u001b[0m\u001b[0m\n",
            "\u001b[0;31mFileNotFoundError\u001b[0m: [Errno 2] No such file or directory: 'people.csv'"
          ]
        }
      ]
    },
    {
      "cell_type": "code",
      "source": [
        "data first_row;\n",
        "    set original_data;\n",
        "    if _N_ = 1"
      ],
      "metadata": {
        "colab": {
          "base_uri": "https://localhost:8080/",
          "height": 106
        },
        "collapsed": true,
        "id": "0QPaVK3g9hCQ",
        "outputId": "3f7bb7d9-6fa2-42b8-8551-3fd72dc30332"
      },
      "execution_count": null,
      "outputs": [
        {
          "output_type": "error",
          "ename": "SyntaxError",
          "evalue": "invalid syntax (<ipython-input-19-9a3183196a69>, line 1)",
          "traceback": [
            "\u001b[0;36m  File \u001b[0;32m\"<ipython-input-19-9a3183196a69>\"\u001b[0;36m, line \u001b[0;32m1\u001b[0m\n\u001b[0;31m    data first_row;\u001b[0m\n\u001b[0m         ^\u001b[0m\n\u001b[0;31mSyntaxError\u001b[0m\u001b[0;31m:\u001b[0m invalid syntax\n"
          ]
        }
      ]
    },
    {
      "cell_type": "code",
      "source": [
        "import numpy as np\n",
        "\n",
        "# Convert the 'Name' column to a NumPy array and then to a list\n",
        "name_list = df['Name'].values.tolist()\n",
        "print(name_list)"
      ],
      "metadata": {
        "id": "rXuG2QJK-P-a"
      },
      "execution_count": null,
      "outputs": []
    },
    {
      "cell_type": "markdown",
      "source": [
        "9.Filter and select rows from the People_Dataset, where the “Last Name' column contains the name 'Duke',  \n",
        "'Gender' column contains the word Female and ‘Salary’ should be less than 85000."
      ],
      "metadata": {
        "id": "XMw0MBO9CS_R"
      }
    },
    {
      "cell_type": "code",
      "source": [
        "import pandas as pd# Assuming the dataset is loaded into a DataFrame named 'df'\n",
        "df = pd.read_csv('data.csv')#\n",
        "filtered_df = df[(df['Last Name'].str.contains('Duke', case=False)) &(df['Gender'].str.contains('Female', case=False)) &(df['Salary'] < 85000)]# Display the filtered DataFrameprint(\"Filtered Rows:\")print(filtered_df)"
      ],
      "metadata": {
        "colab": {
          "base_uri": "https://localhost:8080/",
          "height": 356
        },
        "collapsed": true,
        "id": "qz6vwglDCTn9",
        "outputId": "214cfe75-296e-4af7-b18f-9c5219112eb8"
      },
      "execution_count": null,
      "outputs": [
        {
          "output_type": "error",
          "ename": "FileNotFoundError",
          "evalue": "[Errno 2] No such file or directory: 'data.csv'",
          "traceback": [
            "\u001b[0;31m---------------------------------------------------------------------------\u001b[0m",
            "\u001b[0;31mFileNotFoundError\u001b[0m                         Traceback (most recent call last)",
            "\u001b[0;32m<ipython-input-3-d09180ee132c>\u001b[0m in \u001b[0;36m<cell line: 2>\u001b[0;34m()\u001b[0m\n\u001b[1;32m      1\u001b[0m \u001b[0;32mimport\u001b[0m \u001b[0mpandas\u001b[0m \u001b[0;32mas\u001b[0m \u001b[0mpd\u001b[0m\u001b[0;31m# Assuming the dataset is loaded into a DataFrame named 'df'\u001b[0m\u001b[0;34m\u001b[0m\u001b[0;34m\u001b[0m\u001b[0m\n\u001b[0;32m----> 2\u001b[0;31m \u001b[0mdf\u001b[0m \u001b[0;34m=\u001b[0m \u001b[0mpd\u001b[0m\u001b[0;34m.\u001b[0m\u001b[0mread_csv\u001b[0m\u001b[0;34m(\u001b[0m\u001b[0;34m'data.csv'\u001b[0m\u001b[0;34m)\u001b[0m\u001b[0;31m#\u001b[0m\u001b[0;34m\u001b[0m\u001b[0;34m\u001b[0m\u001b[0m\n\u001b[0m\u001b[1;32m      3\u001b[0m \u001b[0mfiltered_df\u001b[0m \u001b[0;34m=\u001b[0m \u001b[0mdf\u001b[0m\u001b[0;34m[\u001b[0m\u001b[0;34m(\u001b[0m\u001b[0mdf\u001b[0m\u001b[0;34m[\u001b[0m\u001b[0;34m'Last Name'\u001b[0m\u001b[0;34m]\u001b[0m\u001b[0;34m.\u001b[0m\u001b[0mstr\u001b[0m\u001b[0;34m.\u001b[0m\u001b[0mcontains\u001b[0m\u001b[0;34m(\u001b[0m\u001b[0;34m'Duke'\u001b[0m\u001b[0;34m,\u001b[0m \u001b[0mcase\u001b[0m\u001b[0;34m=\u001b[0m\u001b[0;32mFalse\u001b[0m\u001b[0;34m)\u001b[0m\u001b[0;34m)\u001b[0m \u001b[0;34m&\u001b[0m\u001b[0;34m(\u001b[0m\u001b[0mdf\u001b[0m\u001b[0;34m[\u001b[0m\u001b[0;34m'Gender'\u001b[0m\u001b[0;34m]\u001b[0m\u001b[0;34m.\u001b[0m\u001b[0mstr\u001b[0m\u001b[0;34m.\u001b[0m\u001b[0mcontains\u001b[0m\u001b[0;34m(\u001b[0m\u001b[0;34m'Female'\u001b[0m\u001b[0;34m,\u001b[0m \u001b[0mcase\u001b[0m\u001b[0;34m=\u001b[0m\u001b[0;32mFalse\u001b[0m\u001b[0;34m)\u001b[0m\u001b[0;34m)\u001b[0m \u001b[0;34m&\u001b[0m\u001b[0;34m(\u001b[0m\u001b[0mdf\u001b[0m\u001b[0;34m[\u001b[0m\u001b[0;34m'Salary'\u001b[0m\u001b[0;34m]\u001b[0m \u001b[0;34m<\u001b[0m \u001b[0;36m85000\u001b[0m\u001b[0;34m)\u001b[0m\u001b[0;34m]\u001b[0m\u001b[0;31m# Display the filtered DataFrameprint(\"Filtered Rows:\")print(filtered_df)\u001b[0m\u001b[0;34m\u001b[0m\u001b[0;34m\u001b[0m\u001b[0m\n",
            "\u001b[0;32m/usr/local/lib/python3.10/dist-packages/pandas/io/parsers/readers.py\u001b[0m in \u001b[0;36mread_csv\u001b[0;34m(filepath_or_buffer, sep, delimiter, header, names, index_col, usecols, dtype, engine, converters, true_values, false_values, skipinitialspace, skiprows, skipfooter, nrows, na_values, keep_default_na, na_filter, verbose, skip_blank_lines, parse_dates, infer_datetime_format, keep_date_col, date_parser, date_format, dayfirst, cache_dates, iterator, chunksize, compression, thousands, decimal, lineterminator, quotechar, quoting, doublequote, escapechar, comment, encoding, encoding_errors, dialect, on_bad_lines, delim_whitespace, low_memory, memory_map, float_precision, storage_options, dtype_backend)\u001b[0m\n\u001b[1;32m   1024\u001b[0m     \u001b[0mkwds\u001b[0m\u001b[0;34m.\u001b[0m\u001b[0mupdate\u001b[0m\u001b[0;34m(\u001b[0m\u001b[0mkwds_defaults\u001b[0m\u001b[0;34m)\u001b[0m\u001b[0;34m\u001b[0m\u001b[0;34m\u001b[0m\u001b[0m\n\u001b[1;32m   1025\u001b[0m \u001b[0;34m\u001b[0m\u001b[0m\n\u001b[0;32m-> 1026\u001b[0;31m     \u001b[0;32mreturn\u001b[0m \u001b[0m_read\u001b[0m\u001b[0;34m(\u001b[0m\u001b[0mfilepath_or_buffer\u001b[0m\u001b[0;34m,\u001b[0m \u001b[0mkwds\u001b[0m\u001b[0;34m)\u001b[0m\u001b[0;34m\u001b[0m\u001b[0;34m\u001b[0m\u001b[0m\n\u001b[0m\u001b[1;32m   1027\u001b[0m \u001b[0;34m\u001b[0m\u001b[0m\n\u001b[1;32m   1028\u001b[0m \u001b[0;34m\u001b[0m\u001b[0m\n",
            "\u001b[0;32m/usr/local/lib/python3.10/dist-packages/pandas/io/parsers/readers.py\u001b[0m in \u001b[0;36m_read\u001b[0;34m(filepath_or_buffer, kwds)\u001b[0m\n\u001b[1;32m    618\u001b[0m \u001b[0;34m\u001b[0m\u001b[0m\n\u001b[1;32m    619\u001b[0m     \u001b[0;31m# Create the parser.\u001b[0m\u001b[0;34m\u001b[0m\u001b[0;34m\u001b[0m\u001b[0m\n\u001b[0;32m--> 620\u001b[0;31m     \u001b[0mparser\u001b[0m \u001b[0;34m=\u001b[0m \u001b[0mTextFileReader\u001b[0m\u001b[0;34m(\u001b[0m\u001b[0mfilepath_or_buffer\u001b[0m\u001b[0;34m,\u001b[0m \u001b[0;34m**\u001b[0m\u001b[0mkwds\u001b[0m\u001b[0;34m)\u001b[0m\u001b[0;34m\u001b[0m\u001b[0;34m\u001b[0m\u001b[0m\n\u001b[0m\u001b[1;32m    621\u001b[0m \u001b[0;34m\u001b[0m\u001b[0m\n\u001b[1;32m    622\u001b[0m     \u001b[0;32mif\u001b[0m \u001b[0mchunksize\u001b[0m \u001b[0;32mor\u001b[0m \u001b[0miterator\u001b[0m\u001b[0;34m:\u001b[0m\u001b[0;34m\u001b[0m\u001b[0;34m\u001b[0m\u001b[0m\n",
            "\u001b[0;32m/usr/local/lib/python3.10/dist-packages/pandas/io/parsers/readers.py\u001b[0m in \u001b[0;36m__init__\u001b[0;34m(self, f, engine, **kwds)\u001b[0m\n\u001b[1;32m   1618\u001b[0m \u001b[0;34m\u001b[0m\u001b[0m\n\u001b[1;32m   1619\u001b[0m         \u001b[0mself\u001b[0m\u001b[0;34m.\u001b[0m\u001b[0mhandles\u001b[0m\u001b[0;34m:\u001b[0m \u001b[0mIOHandles\u001b[0m \u001b[0;34m|\u001b[0m \u001b[0;32mNone\u001b[0m \u001b[0;34m=\u001b[0m \u001b[0;32mNone\u001b[0m\u001b[0;34m\u001b[0m\u001b[0;34m\u001b[0m\u001b[0m\n\u001b[0;32m-> 1620\u001b[0;31m         \u001b[0mself\u001b[0m\u001b[0;34m.\u001b[0m\u001b[0m_engine\u001b[0m \u001b[0;34m=\u001b[0m \u001b[0mself\u001b[0m\u001b[0;34m.\u001b[0m\u001b[0m_make_engine\u001b[0m\u001b[0;34m(\u001b[0m\u001b[0mf\u001b[0m\u001b[0;34m,\u001b[0m \u001b[0mself\u001b[0m\u001b[0;34m.\u001b[0m\u001b[0mengine\u001b[0m\u001b[0;34m)\u001b[0m\u001b[0;34m\u001b[0m\u001b[0;34m\u001b[0m\u001b[0m\n\u001b[0m\u001b[1;32m   1621\u001b[0m \u001b[0;34m\u001b[0m\u001b[0m\n\u001b[1;32m   1622\u001b[0m     \u001b[0;32mdef\u001b[0m \u001b[0mclose\u001b[0m\u001b[0;34m(\u001b[0m\u001b[0mself\u001b[0m\u001b[0;34m)\u001b[0m \u001b[0;34m->\u001b[0m \u001b[0;32mNone\u001b[0m\u001b[0;34m:\u001b[0m\u001b[0;34m\u001b[0m\u001b[0;34m\u001b[0m\u001b[0m\n",
            "\u001b[0;32m/usr/local/lib/python3.10/dist-packages/pandas/io/parsers/readers.py\u001b[0m in \u001b[0;36m_make_engine\u001b[0;34m(self, f, engine)\u001b[0m\n\u001b[1;32m   1878\u001b[0m                 \u001b[0;32mif\u001b[0m \u001b[0;34m\"b\"\u001b[0m \u001b[0;32mnot\u001b[0m \u001b[0;32min\u001b[0m \u001b[0mmode\u001b[0m\u001b[0;34m:\u001b[0m\u001b[0;34m\u001b[0m\u001b[0;34m\u001b[0m\u001b[0m\n\u001b[1;32m   1879\u001b[0m                     \u001b[0mmode\u001b[0m \u001b[0;34m+=\u001b[0m \u001b[0;34m\"b\"\u001b[0m\u001b[0;34m\u001b[0m\u001b[0;34m\u001b[0m\u001b[0m\n\u001b[0;32m-> 1880\u001b[0;31m             self.handles = get_handle(\n\u001b[0m\u001b[1;32m   1881\u001b[0m                 \u001b[0mf\u001b[0m\u001b[0;34m,\u001b[0m\u001b[0;34m\u001b[0m\u001b[0;34m\u001b[0m\u001b[0m\n\u001b[1;32m   1882\u001b[0m                 \u001b[0mmode\u001b[0m\u001b[0;34m,\u001b[0m\u001b[0;34m\u001b[0m\u001b[0;34m\u001b[0m\u001b[0m\n",
            "\u001b[0;32m/usr/local/lib/python3.10/dist-packages/pandas/io/common.py\u001b[0m in \u001b[0;36mget_handle\u001b[0;34m(path_or_buf, mode, encoding, compression, memory_map, is_text, errors, storage_options)\u001b[0m\n\u001b[1;32m    871\u001b[0m         \u001b[0;32mif\u001b[0m \u001b[0mioargs\u001b[0m\u001b[0;34m.\u001b[0m\u001b[0mencoding\u001b[0m \u001b[0;32mand\u001b[0m \u001b[0;34m\"b\"\u001b[0m \u001b[0;32mnot\u001b[0m \u001b[0;32min\u001b[0m \u001b[0mioargs\u001b[0m\u001b[0;34m.\u001b[0m\u001b[0mmode\u001b[0m\u001b[0;34m:\u001b[0m\u001b[0;34m\u001b[0m\u001b[0;34m\u001b[0m\u001b[0m\n\u001b[1;32m    872\u001b[0m             \u001b[0;31m# Encoding\u001b[0m\u001b[0;34m\u001b[0m\u001b[0;34m\u001b[0m\u001b[0m\n\u001b[0;32m--> 873\u001b[0;31m             handle = open(\n\u001b[0m\u001b[1;32m    874\u001b[0m                 \u001b[0mhandle\u001b[0m\u001b[0;34m,\u001b[0m\u001b[0;34m\u001b[0m\u001b[0;34m\u001b[0m\u001b[0m\n\u001b[1;32m    875\u001b[0m                 \u001b[0mioargs\u001b[0m\u001b[0;34m.\u001b[0m\u001b[0mmode\u001b[0m\u001b[0;34m,\u001b[0m\u001b[0;34m\u001b[0m\u001b[0;34m\u001b[0m\u001b[0m\n",
            "\u001b[0;31mFileNotFoundError\u001b[0m: [Errno 2] No such file or directory: 'data.csv'"
          ]
        }
      ]
    },
    {
      "cell_type": "markdown",
      "source": [
        "10.Create a 7*5 Dataframe in Pandas using a series generated from 35 random integers between 1 to 6?\n"
      ],
      "metadata": {
        "id": "Aycx99IxGEMN"
      }
    },
    {
      "cell_type": "code",
      "source": [
        "import pandas as pd\n",
        "import numpy as np\n",
        "random_integers = np.random.randint(1, 7, size=35)\n",
        "df = pd.DataFrame(random_integers.reshape(7, 5), columns=['Col1','Col2', 'Col3', 'Col4', 'Col5'])# Display the DataFrameprint(\"7x5 DataFrame:\")\n",
        "\n",
        "\n",
        "print(\"7x5 DataFrame:\")\n",
        "print(df)\n",
        "\n",
        "\n",
        "\n"
      ],
      "metadata": {
        "colab": {
          "base_uri": "https://localhost:8080/"
        },
        "id": "2RLI_ySdGXdr",
        "outputId": "41958c2e-8fc9-4e8d-cd49-f0ed11e49ae5"
      },
      "execution_count": null,
      "outputs": [
        {
          "output_type": "stream",
          "name": "stdout",
          "text": [
            "7x5 DataFrame:\n",
            "   Col1  Col2  Col3  Col4  Col5\n",
            "0     2     1     6     1     2\n",
            "1     2     3     5     6     1\n",
            "2     4     1     2     3     2\n",
            "3     5     3     3     2     4\n",
            "4     4     5     3     2     5\n",
            "5     6     5     4     3     5\n",
            "6     4     2     6     4     4\n"
          ]
        }
      ]
    },
    {
      "cell_type": "markdown",
      "source": [
        "11.Create two different Series, each of length 50, with the following criteria:\n",
        "\n",
        "a) The first Series should contain random numbers ranging from 10 to 50.\n",
        "\n",
        "b) The second Series should contain random numbers ranging from 100 to 1000.\n",
        "\n",
        "c) Create a DataFrame by joining these Series by column, and, change the names of the columns to 'col1', 'col2',\n",
        "etc"
      ],
      "metadata": {
        "id": "KxZ_gXdRIUxq"
      }
    },
    {
      "cell_type": "code",
      "source": [
        "import pandas as pd\n",
        "\n",
        "import numpy as np\n",
        "#a\n",
        "series1 = np.random.randint(10, 51, size=50)\n",
        "#b\n",
        "series2 = np.random.randint(100, 1001, size=50)\n",
        "\n",
        "#c\n",
        "df = pd.DataFrame({'col1': series1, 'col2': series2})\n",
        "\n",
        "\n",
        "print(\"Combined DataFrame:\")\n",
        "\n",
        "print(df)\n",
        "\n",
        "\n",
        "\n"
      ],
      "metadata": {
        "colab": {
          "base_uri": "https://localhost:8080/"
        },
        "id": "WB9QwSlKItr4",
        "outputId": "2d77a469-e396-49a6-9212-50581f300f87"
      },
      "execution_count": null,
      "outputs": [
        {
          "output_type": "stream",
          "name": "stdout",
          "text": [
            "Combined DataFrame:\n",
            "    col1  col2\n",
            "0     17   303\n",
            "1     48   970\n",
            "2     25   516\n",
            "3     17   643\n",
            "4     12   782\n",
            "5     17   388\n",
            "6     20   769\n",
            "7     32   770\n",
            "8     10   411\n",
            "9     37   759\n",
            "10    13   402\n",
            "11    27   389\n",
            "12    31   874\n",
            "13    39   959\n",
            "14    40   751\n",
            "15    28   114\n",
            "16    23   269\n",
            "17    12   314\n",
            "18    39   796\n",
            "19    43   899\n",
            "20    45   197\n",
            "21    35   660\n",
            "22    43   930\n",
            "23    50   322\n",
            "24    20   764\n",
            "25    38   805\n",
            "26    39   934\n",
            "27    24   863\n",
            "28    15   923\n",
            "29    20   519\n",
            "30    46   242\n",
            "31    46   715\n",
            "32    40   480\n",
            "33    39   905\n",
            "34    23   413\n",
            "35    34   209\n",
            "36    31   581\n",
            "37    10   910\n",
            "38    13   229\n",
            "39    39   662\n",
            "40    35   148\n",
            "41    37   852\n",
            "42    44   342\n",
            "43    10   391\n",
            "44    46   683\n",
            "45    31   260\n",
            "46    45   616\n",
            "47    32   568\n",
            "48    39   796\n",
            "49    26   913\n"
          ]
        }
      ]
    },
    {
      "cell_type": "markdown",
      "source": [
        "12.Perform the following operations using people data set:\n",
        "\n",
        "a) Delete the 'Email', 'Phone', and 'Date of birth' columns from the dataset.\n",
        "\n",
        "b) Delete the rows containing any missing values.\n",
        "\n",
        "d) Print the final output also&"
      ],
      "metadata": {
        "id": "umLX19hOKEEH"
      }
    },
    {
      "cell_type": "code",
      "source": [
        "import pandas as pd\n",
        "\n",
        "df = pd.read_csv('data.csv')\n",
        "#a\n",
        "df.drop(columns=['Email', 'Phone', 'Date of birth'], inplace=True)\n",
        "\n",
        "#b\n",
        "df.dropna(inplace=True)\n",
        "print(\"Final DataFrame after deletions:\")\n",
        "\n",
        "print(df)\n",
        "\n",
        "\n"
      ],
      "metadata": {
        "colab": {
          "base_uri": "https://localhost:8080/",
          "height": 211
        },
        "collapsed": true,
        "id": "jq1N4_GVIuIZ",
        "outputId": "8e140d70-ac91-4183-cd27-4bd659979958"
      },
      "execution_count": null,
      "outputs": [
        {
          "output_type": "error",
          "ename": "AttributeError",
          "evalue": "'function' object has no attribute 'drop'",
          "traceback": [
            "\u001b[0;31m---------------------------------------------------------------------------\u001b[0m",
            "\u001b[0;31mAttributeError\u001b[0m                            Traceback (most recent call last)",
            "\u001b[0;32m<ipython-input-8-6d7bd86a933c>\u001b[0m in \u001b[0;36m<cell line: 5>\u001b[0;34m()\u001b[0m\n\u001b[1;32m      3\u001b[0m \u001b[0mdf\u001b[0m \u001b[0;34m=\u001b[0m \u001b[0mpd\u001b[0m\u001b[0;34m.\u001b[0m\u001b[0mread_csv\u001b[0m\u001b[0;34m\u001b[0m\u001b[0;34m\u001b[0m\u001b[0m\n\u001b[1;32m      4\u001b[0m \u001b[0;31m#a\u001b[0m\u001b[0;34m\u001b[0m\u001b[0;34m\u001b[0m\u001b[0m\n\u001b[0;32m----> 5\u001b[0;31m \u001b[0mdf\u001b[0m\u001b[0;34m.\u001b[0m\u001b[0mdrop\u001b[0m\u001b[0;34m(\u001b[0m\u001b[0mcolumns\u001b[0m\u001b[0;34m=\u001b[0m\u001b[0;34m[\u001b[0m\u001b[0;34m'Email'\u001b[0m\u001b[0;34m,\u001b[0m \u001b[0;34m'Phone'\u001b[0m\u001b[0;34m,\u001b[0m \u001b[0;34m'Date of birth'\u001b[0m\u001b[0;34m]\u001b[0m\u001b[0;34m,\u001b[0m \u001b[0minplace\u001b[0m\u001b[0;34m=\u001b[0m\u001b[0;32mTrue\u001b[0m\u001b[0;34m)\u001b[0m\u001b[0;34m\u001b[0m\u001b[0;34m\u001b[0m\u001b[0m\n\u001b[0m\u001b[1;32m      6\u001b[0m \u001b[0;34m\u001b[0m\u001b[0m\n\u001b[1;32m      7\u001b[0m \u001b[0;31m#b\u001b[0m\u001b[0;34m\u001b[0m\u001b[0;34m\u001b[0m\u001b[0m\n",
            "\u001b[0;31mAttributeError\u001b[0m: 'function' object has no attribute 'drop'"
          ]
        }
      ]
    },
    {
      "cell_type": "markdown",
      "source": [
        "13. Create two NumPy arrays, x and y, each containing 100 random float values between 0 and 1. Perform the\n",
        "following tasks using Matplotlib and NumPy:\n",
        "\n",
        "a) Create a scatter plot using x and y, setting the color of the points to red and the marker style to 'o'.\n",
        "\n",
        "b) Add a horizontal line at y = 0.5 using a dashed line style and label it as 'y = 0.5'.\n",
        "\n",
        "c) Add a vertical line at x = 0.5 using a dotted line style and label it as 'x = 0.5'.\n",
        "\n",
        "d) Label the x-axis as 'X-axis' and the y-axis as 'Y-axis'.\n",
        "\n",
        "e) Set the title of the plot as 'Advanced Scatter Plot of Random Values'.\n",
        "\n",
        "f) Display a legend for the scatter plot, the horizontal line, and the vertical line."
      ],
      "metadata": {
        "id": "bqvMI5VwLNn7"
      }
    },
    {
      "cell_type": "code",
      "source": [
        "import numpy as np\n",
        "\n",
        "import matplotlib.pyplot as plt\n",
        "\n",
        "x = np.random.rand(100)\n",
        "y = np.random.rand(100)\n",
        "\n",
        "# a\n",
        "\n",
        "plt.scatter(x, y, color='red', marker='o', label='Data Points')\n",
        "\n",
        "#b\n",
        "\n",
        "plt.axhline(y=0.5, color='blue', linestyle='--', label='y = 0.5')\n",
        "\n",
        "#c\n",
        "\n",
        "plt.axvline(x=0.5, color='green', linestyle=':', label='x = 0.5')\n",
        "\n",
        "#d\n",
        "plt.xlabel('X-axis')\n",
        "\n",
        "plt.ylabel('Y-axis')\n",
        "\n",
        "#e\n",
        "\n",
        "plt.title('Advanced Scatter Plot of Random Values')\n",
        "\n",
        "#f\n",
        "plt.legend()\n",
        "\n",
        "plt.show()\n",
        "\n",
        "\n",
        "\n"
      ],
      "metadata": {
        "colab": {
          "base_uri": "https://localhost:8080/",
          "height": 472
        },
        "id": "YxkUcBO6Iueg",
        "outputId": "4daedc57-8e05-44d3-dd16-ba7ecbe94a6c"
      },
      "execution_count": null,
      "outputs": [
        {
          "output_type": "display_data",
          "data": {
            "text/plain": [
              "<Figure size 640x480 with 1 Axes>"
            ],
            "image/png": "[encoded data removed]"
          },
          "metadata": {}
        }
      ]
    },
    {
      "cell_type": "markdown",
      "source": [
        "14.Create a time-series dataset in a Pandas DataFrame with columns: 'Date', 'Temperature', 'Humidity' and\n",
        "Perform the following tasks using Matplotlib:\n",
        "\n",
        "a) Plot the 'Temperature' and 'Humidity' on the same plot with different y-axes (left y-axis for 'Temperature' and\n",
        "right y-axis for 'Humidity').\n",
        "\n",
        "b) Label the x-axis as 'Date'.\n",
        "\n",
        "c) Set the title of the plot as 'Temperature and Humidity Over Time'.\n",
        "\n"
      ],
      "metadata": {
        "id": "iTGgQwHDMhzY"
      }
    },
    {
      "cell_type": "code",
      "source": [
        "import pandas as pd\n",
        "\n",
        "import numpy as np\n",
        "\n",
        "import matplotlib.pyplot as plt\n",
        "\n",
        "date_range = pd.date_range(start='2023-01-01', periods=100, freq='D')\n",
        "\n",
        "np.random.seed(0)\n",
        "temperature = np.random.uniform(low=15, high=35, size=100)\n",
        "\n",
        "# Create the DataFrame\n",
        "\n",
        "data = {'Date': date_range,'Temperature': temperature,'Humidity': humidity}df = pd.DataFrame(data)\n",
        "\n",
        "# Plotting\n",
        "\n",
        "fig, ax1 = plt.subplots()\n",
        "# a Plot the 'Temperature' and 'Humidity'\n",
        "ax1.set_xlabel('Date')\n",
        "ax1.set_ylabel('Temperature (°C)', color='tab:red')\n",
        "ax1.plot(df['Date'], df['Temperature'], color='tab:red', label='Temperature')\n",
        "ax1.tick_params(axis='y', labelcolor='tab:red')\n",
        "\n",
        "# Create a second y-axis for Humidity\n",
        "ax2 = ax1.twinx()ax2.set_ylabel('Humidity (%)', color='tab:blue')\n",
        "ax2.plot(df['Date'], df['Humidity'], color='tab:blue', label='Humidity')\n",
        "ax2.tick_params(axis='y', labelcolor='tab:blue')\n",
        "\n",
        "# b) Label the x-axis as 'Date'\n",
        "plt.title('Temperature and Humidity Over Time')\n",
        "\n",
        "\n",
        "# c) Set the title of the plot\n",
        "\n",
        "fig.tight_layout()\n",
        "plt.show()\n",
        "\n"
      ],
      "metadata": {
        "id": "n51G3tT8M412"
      },
      "execution_count": null,
      "outputs": []
    },
    {
      "cell_type": "markdown",
      "source": [
        "15.Create a NumPy array data containing 1000 samples from a normal distribution. Perform the following\n",
        "tasks using Matplotlib:\n",
        "\n",
        "a) Plot a histogram of the data with 30 bins.\n",
        "\n",
        "b) Overlay a line plot representing the normal distribution's probability density function (PDF).\n",
        "\n",
        "c) Label the x-axis as 'Value' and the y-axis as 'Frequency/Probability'.\n",
        "\n",
        "d) Set the title of the plot as 'Histogram with PDF Overlay'.\n"
      ],
      "metadata": {
        "id": "pzaTNANbPMp7"
      }
    },
    {
      "cell_type": "code",
      "source": [
        "import numpy as np\n",
        "import matplotlib.pyplot as plt\n",
        "\n",
        "from scipy.stats import norm\n",
        "# Create\n",
        "mu, sigma = 0, 1\n",
        "\n",
        "data = np.random.normal(mu, sigma, 1000)\n",
        "\n",
        "#a\n",
        "plt.hist(data, bins=30, density=True, alpha=0.6, color='g',label='Histogram')\n",
        "\n",
        "#b\n",
        "xmin, xmax = plt.xlim()\n",
        "\n",
        "x = np.linspace(xmin, xmax, 100)\n",
        "p = norm.pdf(x, mu, sigma)\n",
        "plt.plot(x, p, 'k', linewidth=2, label='Normal PDF')\n",
        "\n",
        "#c\n",
        "\n",
        "plt.xlabel('Value')\n",
        "plt.ylabel('Frequency/Probability')\n",
        "\n",
        "#d\n",
        "plt.title('Histogram with PDF Overlay')\n",
        "plt.legend()\n",
        "plt.show()\n",
        "\n"
      ],
      "metadata": {
        "colab": {
          "base_uri": "https://localhost:8080/",
          "height": 472
        },
        "id": "ZbFksDHXPjmQ",
        "outputId": "641bf573-f06d-42d2-c327-69539c1d7b15"
      },
      "execution_count": null,
      "outputs": [
        {
          "output_type": "display_data",
          "data": {
            "text/plain": [
              "<Figure size 640x480 with 1 Axes>"
            ],
            "image/png": "[encoded data removed]"
          },
          "metadata": {}
        }
      ]
    },
    {
      "cell_type": "markdown",
      "source": [
        "16.Set the title of the plot as 'Histogram with PDF Overlay'."
      ],
      "metadata": {
        "id": "ZHUrB31wPjCE"
      }
    },
    {
      "cell_type": "code",
      "source": [
        "import numpy as np\n",
        "import matplotlib.pyplot as plt\n",
        "from scipy.stats import norm\n",
        "\n",
        "mu, sigma = 0, 1\n",
        "data = np.random.normal(mu, sigma, 1000)\n",
        "\n",
        "#a\n",
        "plt.hist(data, bins=30, density=True, alpha=0.6, color='g',label='Histogram')\n",
        "\n",
        "\n",
        "#b\n",
        "xmin, xmax = plt.xlim()\n",
        "x = np.linspace(xmin, xmax, 100)\n",
        "p = norm.pdf(x, mu, sigma)\n",
        "plt.plot(x, p, 'k', linewidth=2, label='Normal PDF')\n",
        "\n",
        "#c\n",
        "\n",
        "plt.xlabel('Value')\n",
        "plt.ylabel('Frequency/Probability')\n",
        "\n",
        "#d\n",
        "plt.title('Histogram with PDF Overlay')\n",
        "plt.legend()\n",
        "plt.show()\n",
        "\n"
      ],
      "metadata": {
        "id": "ath7IlJvQ2iF"
      },
      "execution_count": null,
      "outputs": []
    },
    {
      "cell_type": "markdown",
      "source": [
        "17.Create a Seaborn scatter plot of two random arrays, color points based on their position relative to the\n",
        "origin (quadrants), add a legend, label the axes, and set the title as 'Quadrant-wise Scatter Plot'."
      ],
      "metadata": {
        "id": "A7n-pN8eUBa0"
      }
    },
    {
      "cell_type": "code",
      "source": [
        "import numpy as np\n",
        "import pandas as pd\n",
        "import seaborn as sns\n",
        "import matplotlib.pyplot as plt\n",
        "\n",
        "np.random.seed(0)\n",
        "x = np.random.rand(100) * 20 - 10\n",
        "y = np.random.rand(100) * 20 - 10\n",
        "df = pd.DataFrame({'X': x, 'Y': y})\n",
        "def get_quadrant(row):\n",
        "\n",
        "  if row['X'] > 0 and row['Y'] > 0:\n",
        "   return 'Quadrant 1'\n",
        "  elif row['X'] < 0 and row['Y'] > 0:\n",
        "   return 'Quadrant 2'\n",
        "  elif row['X'] < 0 and row['Y'] < 0:\n",
        "    return 'Quadrant 3'\n",
        "  elif row['X'] > 0 and row['Y'] < 0:\n",
        "      return 'Quadrant 4'\n",
        "\n",
        "       else:\n",
        "\n",
        "      return 'Origin'\n",
        "\n",
        "\n",
        "      df['Quadrant'] = df.apply(get_quadrant, axis=1)\n",
        "\n",
        "      plt.figure(figsize=(10, 6))\n",
        "      sns.scatterplot(data=df, x='X', y='Y', hue='Quadrant', palette='Set1',s=100)\n",
        "\n",
        "      plt.xlabel('X-axis')\n",
        "      plt.ylabel('Y-axis')\n",
        "\n",
        "      plt.title('Quadrant-wise Scatter Plot')\n",
        "      plt.legend(title='Quadrants')\n",
        "      plt.grid()\n",
        "      plt.axhline(0, color='black',linewidth=0.5, ls='--')\n",
        "\n",
        "      plt.axvline(0, color='black',linewidth=0.5, ls='--')\n",
        "      plt.show()\n",
        "\n",
        "\n",
        "\n"
      ],
      "metadata": {
        "id": "ZI-n1ZDqUQyU"
      },
      "execution_count": null,
      "outputs": []
    },
    {
      "cell_type": "markdown",
      "source": [
        "18.With Bokeh, plot a line chart of a sine wave function, add grid lines, label the axes, and set the title as 'Sine\n",
        "Wave Function'8."
      ],
      "metadata": {
        "id": "Cd1ttB6rWujY"
      }
    },
    {
      "cell_type": "code",
      "source": [
        "pip install bokeh\n",
        "import numpy as np\n",
        "from bokeh.plotting\n",
        "import figure, show\n",
        "from bokeh.io\n",
        "import output_notebook\n",
        "\n",
        "output_notebook()\n",
        "x = np.linspace(0, 2 * np.pi, 100)\n",
        "y = np.sin(x)\n",
        "p = figure(title=\"Sine Wave Function\", x_axis_label='x',y_axis_label='sin(x)', width=800, height=400)\n",
        "\n",
        "p.grid.grid_line_alpha = 0.3\n",
        "p.line(x, y, line_width=2, color='blue', legend_label='sin(x)')\n",
        "show(p)\n"
      ],
      "metadata": {
        "id": "U5PHGbFMW6fN"
      },
      "execution_count": null,
      "outputs": []
    },
    {
      "cell_type": "markdown",
      "source": [
        "19.Using Bokeh, generate a bar chart of randomly generated categorical data, color bars based on their\n",
        "values, add hover tooltips to display exact values, label the axes, and set the title as 'Random Categorical\n",
        "Bar Chart'8"
      ],
      "metadata": {
        "id": "A17DAwOMXwQW"
      }
    },
    {
      "cell_type": "code",
      "source": [
        "import numpy as np\n",
        "import pandas as pd\n",
        "from bokeh.plotting import figure, show\n",
        "from bokeh.io import output_notebook\n",
        "from bokeh.models import ColumnDataSource, HoverTool# Enable output in notebookoutput_notebook()# Generate random categorical datacategories = [f'Category {i}' for i in range(10)]\n",
        "output_notebook()\n",
        "\n",
        "  categories = [f'Category {i}' for i in range(10)]\n",
        "  values = np.random.randint(1, 100, size=len(categories))\n",
        "  data = pd.DataFrame({'categories': categories, 'values': values})\n",
        "  colors = ['#%02x%02x%02x' % (int(value * 2.55), 0, 0) for value invalues]\n",
        "  source = ColumnDataSource(data=data)\n",
        "  p = figure(x_range=categories, height=400, title=\"Random CategoricalBar Chart\",toolbar_location=None, tools=\"\")\n",
        "  p.vbar(x='categories', top='values', width=0.9, source=source,color=colors)\n",
        "\n",
        "\n",
        "hover = HoverTool()hover.tooltips = [(\"Category\", \"@categories\"), (\"Value\", \"@values\")]\n",
        "p.add_tools(hover)\n",
        "p.xaxis.axis_label = \"Categories\"p.yaxis.axis_label = \"Values\"p.xaxis.major_label_orientation = \"vertical\"# Show the plotshow(p)20.import numpy as npimport plotly.graph_objects as go# Generate random datanp.random.seed(0) # For reproducibilityx = np.linspace(0, 10, 100) # 100 points from 0 to 10y = np.random.rand(100) # Random values for y# Create a line plotfig = go.Figure()# Add a trace for the linefig.add_trace(go.Scatter(x=x, y=y, mode='lines', name='Random Data'))\n",
        "\n",
        "show(p)"
      ],
      "metadata": {
        "id": "v5eNTiMTX7FS",
        "colab": {
          "base_uri": "https://localhost:8080/",
          "height": 106
        },
        "collapsed": true,
        "outputId": "9cb3003b-6c87-411c-8bfa-08dd856e9903"
      },
      "execution_count": 2,
      "outputs": [
        {
          "output_type": "error",
          "ename": "IndentationError",
          "evalue": "unexpected indent (<ipython-input-2-6cfbb1799565>, line 8)",
          "traceback": [
            "\u001b[0;36m  File \u001b[0;32m\"<ipython-input-2-6cfbb1799565>\"\u001b[0;36m, line \u001b[0;32m8\u001b[0m\n\u001b[0;31m    categories = [f'Category {i}' for i in range(10)]\u001b[0m\n\u001b[0m    ^\u001b[0m\n\u001b[0;31mIndentationError\u001b[0m\u001b[0;31m:\u001b[0m unexpected indent\n"
          ]
        }
      ]
    },
    {
      "cell_type": "markdown",
      "source": [
        "20.Using Plotly, create a basic line plot of a randomly generated dataset, label the axes, and set the title as\n",
        "'Simple Line Plot'8"
      ],
      "metadata": {
        "id": "2Jqa767RVKv8"
      }
    },
    {
      "cell_type": "code",
      "source": [
        "import numpy as np\n",
        "import plotly.graph_objects as go\n",
        "\n",
        "np.random.seed(0)\n",
        "x = np.linspace(0, 10, 100)\n",
        "y = np.random.rand(100)\n",
        "fig = go.Figure()\n",
        "\n",
        "fig.add_trace(go.Scatter(x=x, y=y, mode='lines', name='Random Data'))\n",
        "\n",
        "fig.update_layout(title='Simple Line Plot',xaxis_title='X Axis',yaxis_title='Y Axis')\n",
        "\n",
        "fig.show()\n",
        "\n",
        "\n",
        "\n"
      ],
      "metadata": {
        "colab": {
          "base_uri": "https://localhost:8080/",
          "height": 542
        },
        "collapsed": true,
        "id": "L4rz3G51V6Jp",
        "outputId": "717319ec-35c2-4261-ea42-79a75119b0b4"
      },
      "execution_count": 1,
      "outputs": [
        {
          "output_type": "display_data",
          "data": {
            "text/html": [
              "<html>\n",
              "<head><meta charset=\"utf-8\" /></head>\n",
              "<body>\n",
              "    <div>            <script src=\"https://cdnjs.cloudflare.com/ajax/libs/mathjax/2.7.5/MathJax.js?config=TeX-AMS-MML_SVG\"></script><script type=\"text/javascript\">if (window.MathJax && window.MathJax.Hub && window.MathJax.Hub.Config) {window.MathJax.Hub.Config({SVG: {font: \"STIX-Web\"}});}</script>                <script type=\"text/javascript\">window.PlotlyConfig = {MathJaxConfig: 'local'};</script>\n",
              "        <script charset=\"utf-8\" src=\"https://cdn.plot.ly/plotly-2.35.2.min.js\"></script>                <div id=\"a125c21c-a6b3-4bf8-88e6-1c4562452500\" class=\"plotly-graph-div\" style=\"height:525px; width:100%;\"></div>            <script type=\"text/javascript\">                                    window.PLOTLYENV=window.PLOTLYENV || {};                                    if (document.getElementById(\"a125c21c-a6b3-4bf8-88e6-1c4562452500\")) {                    Plotly.newPlot(                        \"a125c21c-a6b3-4bf8-88e6-1c4562452500\",                        [{\"mode\":\"lines\",\"name\":\"Random Data\",\"x\":[0.0,0.10101010101010101,0.20202020202020202,0.30303030303030304,0.40404040404040403,0.5050505050505051,0.6060606060606061,0.7070707070707071,0.8080808080808081,0.9090909090909091,1.0101010101010102,1.1111111111111112,1.2121212121212122,1.3131313131313131,1.4141414141414141,1.5151515151515151,1.6161616161616161,1.7171717171717171,1.8181818181818181,1.9191919191919191,2.0202020202020203,2.121212121212121,2.2222222222222223,2.323232323232323,2.4242424242424243,2.525252525252525,2.6262626262626263,2.727272727272727,2.8282828282828283,2.929292929292929,3.0303030303030303,3.131313131313131,3.2323232323232323,3.3333333333333335,3.4343434343434343,3.5353535353535355,3.6363636363636362,3.7373737373737375,3.8383838383838382,3.9393939393939394,4.040404040404041,4.141414141414141,4.242424242424242,4.343434343434343,4.444444444444445,4.545454545454545,4.646464646464646,4.747474747474747,4.848484848484849,4.94949494949495,5.05050505050505,5.151515151515151,5.252525252525253,5.353535353535354,5.454545454545454,5.555555555555555,5.656565656565657,5.757575757575758,5.858585858585858,5.959595959595959,6.0606060606060606,6.161616161616162,6.262626262626262,6.363636363636363,6.4646464646464645,6.565656565656566,6.666666666666667,6.767676767676767,6.8686868686868685,6.96969696969697,7.070707070707071,7.171717171717171,7.2727272727272725,7.373737373737374,7.474747474747475,7.575757575757575,7.6767676767676765,7.777777777777778,7.878787878787879,7.979797979797979,8.080808080808081,8.181818181818182,8.282828282828282,8.383838383838384,8.484848484848484,8.585858585858587,8.686868686868687,8.787878787878787,8.88888888888889,8.98989898989899,9.09090909090909,9.191919191919192,9.292929292929292,9.393939393939394,9.494949494949495,9.595959595959595,9.696969696969697,9.797979797979798,9.8989898989899,10.0],\"y\":[0.5488135039273248,0.7151893663724195,0.6027633760716439,0.5448831829968969,0.4236547993389047,0.6458941130666561,0.4375872112626925,0.8917730007820798,0.9636627605010293,0.3834415188257777,0.7917250380826646,0.5288949197529045,0.5680445610939323,0.925596638292661,0.07103605819788694,0.08712929970154071,0.02021839744032572,0.832619845547938,0.7781567509498505,0.8700121482468192,0.978618342232764,0.7991585642167236,0.46147936225293185,0.7805291762864555,0.11827442586893322,0.6399210213275238,0.1433532874090464,0.9446689170495839,0.5218483217500717,0.4146619399905236,0.26455561210462697,0.7742336894342167,0.45615033221654855,0.5684339488686485,0.018789800436355142,0.6176354970758771,0.6120957227224214,0.6169339968747569,0.9437480785146242,0.6818202991034834,0.359507900573786,0.43703195379934145,0.6976311959272649,0.06022547162926983,0.6667667154456677,0.6706378696181594,0.2103825610738409,0.1289262976548533,0.31542835092418386,0.3637107709426226,0.5701967704178796,0.43860151346232035,0.9883738380592262,0.10204481074802807,0.2088767560948347,0.16130951788499626,0.6531083254653984,0.2532916025397821,0.4663107728563063,0.24442559200160274,0.15896958364551972,0.11037514116430513,0.6563295894652734,0.1381829513486138,0.1965823616800535,0.3687251706609641,0.8209932298479351,0.09710127579306127,0.8379449074988039,0.09609840789396307,0.9764594650133958,0.4686512016477016,0.9767610881903371,0.604845519745046,0.7392635793983017,0.039187792254320675,0.2828069625764096,0.1201965612131689,0.29614019752214493,0.11872771895424405,0.317983179393976,0.41426299451466997,0.06414749634878436,0.6924721193700198,0.5666014542065752,0.2653894909394454,0.5232480534666997,0.09394051075844168,0.5759464955561793,0.9292961975762141,0.31856895245132366,0.6674103799636817,0.13179786240439217,0.7163272041185655,0.2894060929472011,0.18319136200711683,0.5865129348100832,0.020107546187493552,0.8289400292173631,0.004695476192547066],\"type\":\"scatter\"}],                        {\"template\":{\"data\":{\"histogram2dcontour\":[{\"type\":\"histogram2dcontour\",\"colorbar\":{\"outlinewidth\":0,\"ticks\":\"\"},\"colorscale\":[[0.0,\"#0d0887\"],[0.1111111111111111,\"#46039f\"],[0.2222222222222222,\"#7201a8\"],[0.3333333333333333,\"#9c179e\"],[0.4444444444444444,\"#bd3786\"],[0.5555555555555556,\"#d8576b\"],[0.6666666666666666,\"#ed7953\"],[0.7777777777777778,\"#fb9f3a\"],[0.8888888888888888,\"#fdca26\"],[1.0,\"#f0f921\"]]}],\"choropleth\":[{\"type\":\"choropleth\",\"colorbar\":{\"outlinewidth\":0,\"ticks\":\"\"}}],\"histogram2d\":[{\"type\":\"histogram2d\",\"colorbar\":{\"outlinewidth\":0,\"ticks\":\"\"},\"colorscale\":[[0.0,\"#0d0887\"],[0.1111111111111111,\"#46039f\"],[0.2222222222222222,\"#7201a8\"],[0.3333333333333333,\"#9c179e\"],[0.4444444444444444,\"#bd3786\"],[0.5555555555555556,\"#d8576b\"],[0.6666666666666666,\"#ed7953\"],[0.7777777777777778,\"#fb9f3a\"],[0.8888888888888888,\"#fdca26\"],[1.0,\"#f0f921\"]]}],\"heatmap\":[{\"type\":\"heatmap\",\"colorbar\":{\"outlinewidth\":0,\"ticks\":\"\"},\"colorscale\":[[0.0,\"#0d0887\"],[0.1111111111111111,\"#46039f\"],[0.2222222222222222,\"#7201a8\"],[0.3333333333333333,\"#9c179e\"],[0.4444444444444444,\"#bd3786\"],[0.5555555555555556,\"#d8576b\"],[0.6666666666666666,\"#ed7953\"],[0.7777777777777778,\"#fb9f3a\"],[0.8888888888888888,\"#fdca26\"],[1.0,\"#f0f921\"]]}],\"heatmapgl\":[{\"type\":\"heatmapgl\",\"colorbar\":{\"outlinewidth\":0,\"ticks\":\"\"},\"colorscale\":[[0.0,\"#0d0887\"],[0.1111111111111111,\"#46039f\"],[0.2222222222222222,\"#7201a8\"],[0.3333333333333333,\"#9c179e\"],[0.4444444444444444,\"#bd3786\"],[0.5555555555555556,\"#d8576b\"],[0.6666666666666666,\"#ed7953\"],[0.7777777777777778,\"#fb9f3a\"],[0.8888888888888888,\"#fdca26\"],[1.0,\"#f0f921\"]]}],\"contourcarpet\":[{\"type\":\"contourcarpet\",\"colorbar\":{\"outlinewidth\":0,\"ticks\":\"\"}}],\"contour\":[{\"type\":\"contour\",\"colorbar\":{\"outlinewidth\":0,\"ticks\":\"\"},\"colorscale\":[[0.0,\"#0d0887\"],[0.1111111111111111,\"#46039f\"],[0.2222222222222222,\"#7201a8\"],[0.3333333333333333,\"#9c179e\"],[0.4444444444444444,\"#bd3786\"],[0.5555555555555556,\"#d8576b\"],[0.6666666666666666,\"#ed7953\"],[0.7777777777777778,\"#fb9f3a\"],[0.8888888888888888,\"#fdca26\"],[1.0,\"#f0f921\"]]}],\"surface\":[{\"type\":\"surface\",\"colorbar\":{\"outlinewidth\":0,\"ticks\":\"\"},\"colorscale\":[[0.0,\"#0d0887\"],[0.1111111111111111,\"#46039f\"],[0.2222222222222222,\"#7201a8\"],[0.3333333333333333,\"#9c179e\"],[0.4444444444444444,\"#bd3786\"],[0.5555555555555556,\"#d8576b\"],[0.6666666666666666,\"#ed7953\"],[0.7777777777777778,\"#fb9f3a\"],[0.8888888888888888,\"#fdca26\"],[1.0,\"#f0f921\"]]}],\"mesh3d\":[{\"type\":\"mesh3d\",\"colorbar\":{\"outlinewidth\":0,\"ticks\":\"\"}}],\"scatter\":[{\"fillpattern\":{\"fillmode\":\"overlay\",\"size\":10,\"solidity\":0.2},\"type\":\"scatter\"}],\"parcoords\":[{\"type\":\"parcoords\",\"line\":{\"colorbar\":{\"outlinewidth\":0,\"ticks\":\"\"}}}],\"scatterpolargl\":[{\"type\":\"scatterpolargl\",\"marker\":{\"colorbar\":{\"outlinewidth\":0,\"ticks\":\"\"}}}],\"bar\":[{\"error_x\":{\"color\":\"#2a3f5f\"},\"error_y\":{\"color\":\"#2a3f5f\"},\"marker\":{\"line\":{\"color\":\"#E5ECF6\",\"width\":0.5},\"pattern\":{\"fillmode\":\"overlay\",\"size\":10,\"solidity\":0.2}},\"type\":\"bar\"}],\"scattergeo\":[{\"type\":\"scattergeo\",\"marker\":{\"colorbar\":{\"outlinewidth\":0,\"ticks\":\"\"}}}],\"scatterpolar\":[{\"type\":\"scatterpolar\",\"marker\":{\"colorbar\":{\"outlinewidth\":0,\"ticks\":\"\"}}}],\"histogram\":[{\"marker\":{\"pattern\":{\"fillmode\":\"overlay\",\"size\":10,\"solidity\":0.2}},\"type\":\"histogram\"}],\"scattergl\":[{\"type\":\"scattergl\",\"marker\":{\"colorbar\":{\"outlinewidth\":0,\"ticks\":\"\"}}}],\"scatter3d\":[{\"type\":\"scatter3d\",\"line\":{\"colorbar\":{\"outlinewidth\":0,\"ticks\":\"\"}},\"marker\":{\"colorbar\":{\"outlinewidth\":0,\"ticks\":\"\"}}}],\"scattermapbox\":[{\"type\":\"scattermapbox\",\"marker\":{\"colorbar\":{\"outlinewidth\":0,\"ticks\":\"\"}}}],\"scatterternary\":[{\"type\":\"scatterternary\",\"marker\":{\"colorbar\":{\"outlinewidth\":0,\"ticks\":\"\"}}}],\"scattercarpet\":[{\"type\":\"scattercarpet\",\"marker\":{\"colorbar\":{\"outlinewidth\":0,\"ticks\":\"\"}}}],\"carpet\":[{\"aaxis\":{\"endlinecolor\":\"#2a3f5f\",\"gridcolor\":\"white\",\"linecolor\":\"white\",\"minorgridcolor\":\"white\",\"startlinecolor\":\"#2a3f5f\"},\"baxis\":{\"endlinecolor\":\"#2a3f5f\",\"gridcolor\":\"white\",\"linecolor\":\"white\",\"minorgridcolor\":\"white\",\"startlinecolor\":\"#2a3f5f\"},\"type\":\"carpet\"}],\"table\":[{\"cells\":{\"fill\":{\"color\":\"#EBF0F8\"},\"line\":{\"color\":\"white\"}},\"header\":{\"fill\":{\"color\":\"#C8D4E3\"},\"line\":{\"color\":\"white\"}},\"type\":\"table\"}],\"barpolar\":[{\"marker\":{\"line\":{\"color\":\"#E5ECF6\",\"width\":0.5},\"pattern\":{\"fillmode\":\"overlay\",\"size\":10,\"solidity\":0.2}},\"type\":\"barpolar\"}],\"pie\":[{\"automargin\":true,\"type\":\"pie\"}]},\"layout\":{\"autotypenumbers\":\"strict\",\"colorway\":[\"#636efa\",\"#EF553B\",\"#00cc96\",\"#ab63fa\",\"#FFA15A\",\"#19d3f3\",\"#FF6692\",\"#B6E880\",\"#FF97FF\",\"#FECB52\"],\"font\":{\"color\":\"#2a3f5f\"},\"hovermode\":\"closest\",\"hoverlabel\":{\"align\":\"left\"},\"paper_bgcolor\":\"white\",\"plot_bgcolor\":\"#E5ECF6\",\"polar\":{\"bgcolor\":\"#E5ECF6\",\"angularaxis\":{\"gridcolor\":\"white\",\"linecolor\":\"white\",\"ticks\":\"\"},\"radialaxis\":{\"gridcolor\":\"white\",\"linecolor\":\"white\",\"ticks\":\"\"}},\"ternary\":{\"bgcolor\":\"#E5ECF6\",\"aaxis\":{\"gridcolor\":\"white\",\"linecolor\":\"white\",\"ticks\":\"\"},\"baxis\":{\"gridcolor\":\"white\",\"linecolor\":\"white\",\"ticks\":\"\"},\"caxis\":{\"gridcolor\":\"white\",\"linecolor\":\"white\",\"ticks\":\"\"}},\"coloraxis\":{\"colorbar\":{\"outlinewidth\":0,\"ticks\":\"\"}},\"colorscale\":{\"sequential\":[[0.0,\"#0d0887\"],[0.1111111111111111,\"#46039f\"],[0.2222222222222222,\"#7201a8\"],[0.3333333333333333,\"#9c179e\"],[0.4444444444444444,\"#bd3786\"],[0.5555555555555556,\"#d8576b\"],[0.6666666666666666,\"#ed7953\"],[0.7777777777777778,\"#fb9f3a\"],[0.8888888888888888,\"#fdca26\"],[1.0,\"#f0f921\"]],\"sequentialminus\":[[0.0,\"#0d0887\"],[0.1111111111111111,\"#46039f\"],[0.2222222222222222,\"#7201a8\"],[0.3333333333333333,\"#9c179e\"],[0.4444444444444444,\"#bd3786\"],[0.5555555555555556,\"#d8576b\"],[0.6666666666666666,\"#ed7953\"],[0.7777777777777778,\"#fb9f3a\"],[0.8888888888888888,\"#fdca26\"],[1.0,\"#f0f921\"]],\"diverging\":[[0,\"#8e0152\"],[0.1,\"#c51b7d\"],[0.2,\"#de77ae\"],[0.3,\"#f1b6da\"],[0.4,\"#fde0ef\"],[0.5,\"#f7f7f7\"],[0.6,\"#e6f5d0\"],[0.7,\"#b8e186\"],[0.8,\"#7fbc41\"],[0.9,\"#4d9221\"],[1,\"#276419\"]]},\"xaxis\":{\"gridcolor\":\"white\",\"linecolor\":\"white\",\"ticks\":\"\",\"title\":{\"standoff\":15},\"zerolinecolor\":\"white\",\"automargin\":true,\"zerolinewidth\":2},\"yaxis\":{\"gridcolor\":\"white\",\"linecolor\":\"white\",\"ticks\":\"\",\"title\":{\"standoff\":15},\"zerolinecolor\":\"white\",\"automargin\":true,\"zerolinewidth\":2},\"scene\":{\"xaxis\":{\"backgroundcolor\":\"#E5ECF6\",\"gridcolor\":\"white\",\"linecolor\":\"white\",\"showbackground\":true,\"ticks\":\"\",\"zerolinecolor\":\"white\",\"gridwidth\":2},\"yaxis\":{\"backgroundcolor\":\"#E5ECF6\",\"gridcolor\":\"white\",\"linecolor\":\"white\",\"showbackground\":true,\"ticks\":\"\",\"zerolinecolor\":\"white\",\"gridwidth\":2},\"zaxis\":{\"backgroundcolor\":\"#E5ECF6\",\"gridcolor\":\"white\",\"linecolor\":\"white\",\"showbackground\":true,\"ticks\":\"\",\"zerolinecolor\":\"white\",\"gridwidth\":2}},\"shapedefaults\":{\"line\":{\"color\":\"#2a3f5f\"}},\"annotationdefaults\":{\"arrowcolor\":\"#2a3f5f\",\"arrowhead\":0,\"arrowwidth\":1},\"geo\":{\"bgcolor\":\"white\",\"landcolor\":\"#E5ECF6\",\"subunitcolor\":\"white\",\"showland\":true,\"showlakes\":true,\"lakecolor\":\"white\"},\"title\":{\"x\":0.05},\"mapbox\":{\"style\":\"light\"}}},\"title\":{\"text\":\"Simple Line Plot\"},\"xaxis\":{\"title\":{\"text\":\"X Axis\"}},\"yaxis\":{\"title\":{\"text\":\"Y Axis\"}}},                        {\"responsive\": true}                    ).then(function(){\n",
              "                            \n",
              "var gd = document.getElementById('a125c21c-a6b3-4bf8-88e6-1c4562452500');\n",
              "var x = new MutationObserver(function (mutations, observer) {{\n",
              "        var display = window.getComputedStyle(gd).display;\n",
              "        if (!display || display === 'none') {{\n",
              "            console.log([gd, 'removed!']);\n",
              "            Plotly.purge(gd);\n",
              "            observer.disconnect();\n",
              "        }}\n",
              "}});\n",
              "\n",
              "// Listen for the removal of the full notebook cells\n",
              "var notebookContainer = gd.closest('#notebook-container');\n",
              "if (notebookContainer) {{\n",
              "    x.observe(notebookContainer, {childList: true});\n",
              "}}\n",
              "\n",
              "// Listen for the clearing of the current output cell\n",
              "var outputEl = gd.closest('.output');\n",
              "if (outputEl) {{\n",
              "    x.observe(outputEl, {childList: true});\n",
              "}}\n",
              "\n",
              "                        })                };                            </script>        </div>\n",
              "</body>\n",
              "</html>"
            ]
          },
          "metadata": {}
        }
      ]
    },
    {
      "cell_type": "markdown",
      "source": [
        "21.Using Plotly, create an interactive pie chart of randomly generated data, add labels and percentages, set\n",
        "the title as 'Interactive Pie Chart'"
      ],
      "metadata": {
        "id": "qgelp7SgXRza"
      }
    },
    {
      "cell_type": "code",
      "source": [
        "import numpy as np\n",
        "import plotly.graph_objects as go"
      ],
      "metadata": {
        "id": "FuWqwMCqXSkZ"
      },
      "execution_count": null,
      "outputs": []
    }
  ],
  "metadata": {
    "colab": {
      "provenance": []
    },
    "kernelspec": {
      "display_name": "Python 3",
      "name": "python3"
    }
  },
  "nbformat": 4,
  "nbformat_minor": 0
}