{
  "cells": [
    {
      "cell_type": "markdown",
      "source": [
        "1. What is a Support Vector Machine (SVM ?\n",
        "\n",
        "\n",
        "\n",
        "A Support Vector Machine (SVM) is a supervised machine learning algorithm used for classification and regression tasks, aiming to find the optimal hyperplane that maximizes the margin between different classes, effectively separating data points."
      ],
      "metadata": {
        "id": "3AZ_Abz3p6hE"
      }
    },
    {
      "cell_type": "markdown",
      "source": [
        "2. What is the difference between Hard Margin and Soft Margin SVM ?\n",
        "\n",
        "\n",
        "Hard Margin SVM:\n",
        "\n",
        "Goal:\n",
        "Find a hyperplane that perfectly separates the data into two classes, with no data points on the wrong side of the margin.\n",
        "Data:\n",
        "Best suited for linearly separable data where a clear separation is possible.\n",
        "Limitations:\n",
        "Struggles with outliers or non-linearly separable data, as it can overfit to the training data and fail to generalize well.\n",
        "Example:\n",
        "Imagine a dataset where two classes are perfectly separated by a straight line. A hard margin SVM would find the line that maximizes the distance between the line and the nearest data points of each class.\n",
        "\n",
        "\n",
        "Soft Margin SVM:\n",
        "\n",
        "Goal:\n",
        "Find a hyperplane that maximizes the margin while allowing for some misclassifications.\n",
        "Data:\n",
        "Better suited for datasets that are not perfectly separable or contain outliers.\n",
        "Mechanism:\n",
        "Introduces \"slack variables\" that allow data points to be on the wrong side of the margin, but at a cost (penalty).\n",
        "Regularization:\n",
        "The \"C\" parameter controls the trade-off between maximizing the margin and minimizing misclassifications. A higher C value enforces a stricter penalty for misclassifications.\n",
        "Example:\n",
        "If the dataset has a few outliers, a soft margin SVM can find a hyperplane that still separates most of the data but allows some misclassifications of the outliers.\n",
        "Generalization:\n",
        "By allowing for some misclassifications, soft margin SVMs can generalize better to unseen data, as they are less sensitive to outliers and can handle non-linear data better."
      ],
      "metadata": {
        "id": "AXwPxKerqOOr"
      }
    },
    {
      "cell_type": "markdown",
      "source": [
        "3.  What is the mathematical intuition behind SVM ?\n",
        "\n",
        "\n",
        "\n",
        "SVM, or Support Vector Machine, aims to find the optimal hyperplane that best separates data points into different classes by maximizing the margin, the distance between the hyperplane and the closest data points (support vectors)."
      ],
      "metadata": {
        "id": "7rGhZzbXqssL"
      }
    },
    {
      "cell_type": "markdown",
      "source": [
        "4. What is the role of Lagrange Multipliers in SVM ?\n",
        "\n",
        "\n",
        "\n",
        "In Support Vector Machines (SVMs), Lagrange multipliers, often denoted as α (alpha), are crucial for optimizing the margin and finding the optimal hyperplane that separates data classes by balancing the objective function (margin maximization) with the constraints imposed by the support vectors."
      ],
      "metadata": {
        "id": "bWpPhq9yrMo0"
      }
    },
    {
      "cell_type": "markdown",
      "source": [
        "5.What are Support Vectors in SVM ?\n",
        "\n",
        "\n",
        "In Support Vector Machines (SVMs), support vectors are the data points closest to the decision boundary (hyperplane) that define the margin, and they are crucial for determining the position and orientation of the hyperplane."
      ],
      "metadata": {
        "id": "daGKXifhreZa"
      }
    },
    {
      "cell_type": "markdown",
      "source": [
        "6. What is a Support Vector Classifier (SVC) ?\n",
        "\n",
        "\n",
        "\n",
        "SVC (Support Vector Classifier): SVC is a specific implementation of the Support Vector Machine algorithm that is designed specifically for classification tasks. In other words, SVC is an SVM used for classification. It seeks to find the hyperplane that best separates the data points into different classes."
      ],
      "metadata": {
        "id": "fGAKDU6ctxrc"
      }
    },
    {
      "cell_type": "markdown",
      "source": [
        "7. What is a Support Vector Regressor (SVR) ?\n",
        "\n",
        "\n",
        "\n",
        "Support Vector Regression (SVR) is a machine learning algorithm, a variant of Support Vector Machines (SVM), used for regression tasks, aiming to predict continuous numeric values by finding a hyperplane that maximizes the margin while minimizing prediction errors."
      ],
      "metadata": {
        "id": "Bj8HeM1st6OR"
      }
    },
    {
      "cell_type": "markdown",
      "source": [
        "8.  What is the Kernel Trick in SVM ?\n",
        "\n",
        "\n",
        "\n",
        "\n",
        "The kernel trick in Support Vector Machines (SVMs) allows for efficient computation of complex, non-linear mappings by using a kernel function to implicitly map data into a higher-dimensional space, enabling linear separation where it might not be possible in the original space."
      ],
      "metadata": {
        "id": "l2pWXh_buDil"
      }
    },
    {
      "cell_type": "markdown",
      "source": [
        "9.  Compare Linear Kernel, Polynomial Kernel, and RBF Kernel .\n",
        "\n",
        "\n",
        "1. Linear Kernel:\n",
        "Function: Calculates the dot product of two input vectors.\n",
        "Decision Boundary: Creates a linear hyperplane to separate data.\n",
        "Use Cases: Suitable for linearly separable data where the relationships between features are simple.\n",
        "Computational Efficiency: Fast and computationally inexpensive.\n",
        "\n",
        "\n",
        "\n",
        "\n",
        "2. Polynomial Kernel:\n",
        "Function:\n",
        "Calculates the dot product of two input vectors, raised to a certain degree (d).\n",
        "Decision Boundary:\n",
        "Creates a non-linear decision boundary, allowing for more complex relationships to be captured.\n",
        "Use Cases:\n",
        "Useful when the data is non-linearly separable, but the relationships can be modeled with polynomial functions.\n",
        "Computational Efficiency:\n",
        "More computationally intensive than the linear kernel, but less so than the RBF kernel.\n",
        "\n",
        "\n",
        "\n",
        "\n",
        "3. RBF (Radial Basis Function) Kernel:\n",
        "Function:\n",
        "Measures the similarity between two data points using a Gaussian function (also known as the Gaussian kernel).\n",
        "Decision Boundary:\n",
        "Creates a non-linear decision boundary, capable of modeling complex, non-linear patterns.\n",
        "Use Cases:\n",
        "Widely used for its ability to model complex, non-linear relationships in data.\n",
        "Computational Efficiency:\n",
        "More computationally intensive than the linear and polynomial kernels."
      ],
      "metadata": {
        "id": "0mGRYBLAuQ-k"
      }
    },
    {
      "cell_type": "markdown",
      "source": [
        "10. What is the effect of the C parameter in SVM ?\n",
        "\n",
        "\n",
        "\n",
        "\n",
        "The parameter C in soft margin SVM controls the trade-off between minimizing the magnitude of vector W and reducing violations of the margin. A larger value of C results in a smaller margin and stricter classification, while a smaller value of C allows for a larger margin and more misclassifications."
      ],
      "metadata": {
        "id": "o8t0FCPfuqGt"
      }
    },
    {
      "cell_type": "markdown",
      "source": [
        "11. What is the role of the Gamma parameter in RBF Kernel SVM ?\n",
        "\n",
        "\n",
        "\n",
        "\n",
        " RBF Kernel SVM, the gamma parameter controls the influence of individual training examples on the decision boundary, essentially determining how far a single training example's influence extends."
      ],
      "metadata": {
        "id": "_UtaRQZruzH9"
      }
    },
    {
      "cell_type": "markdown",
      "source": [
        "12. What is the Naïve Bayes classifier, and why is it called \"Naïve\" ?\n",
        "\n",
        "\n",
        "\n",
        "\n",
        "The Naïve Bayes classifier is a probabilistic machine learning algorithm based on Bayes' Theorem, that assumes features are independent, hence the name \"Naïve\". It's a simple yet effective method for classification, often used in tasks like spam filtering and text classification.\n"
      ],
      "metadata": {
        "id": "XRtMg0Z-u-PT"
      }
    },
    {
      "cell_type": "markdown",
      "source": [
        "13. What is Bayes’ Theorem ?\n",
        "\n",
        "\n",
        "\n",
        "\n",
        "Bayes' Theorem, in simple terms, helps update your understanding of something (a hypothesis) based on new evidence. It's like refining your initial belief with new information to arrive at a more accurate conclusion."
      ],
      "metadata": {
        "id": "y-ENY3lrvI0S"
      }
    },
    {
      "cell_type": "markdown",
      "source": [
        "14.  Explain the differences between Gaussian Naïve Bayes, Multinomial Naïve Bayes, and Bernoulli Naïve Bayes .\n",
        "\n",
        "\n",
        "\n",
        "\n",
        "1. Gaussian Naive Bayes:\n",
        "Data Type: Continuous data.\n",
        "Distribution Assumption: Assumes that each feature value follows a Gaussian (normal) distribution.\n",
        "Use Cases: Suitable for tasks where features are continuous, such as predicting a student's height based on weight or predicting house prices based on square footage.\n",
        "Example: Predicting the height of students based on their weight, where weight is a continuous variable.\n",
        "\n",
        "\n",
        "\n",
        "2. Multinomial Naive Bayes:\n",
        "Data Type:\n",
        "Discrete data, often used for text classification with word counts.\n",
        "Distribution Assumption:\n",
        "Assumes that features are drawn from a multinomial distribution, meaning they represent counts or frequencies.\n",
        "Use Cases:\n",
        "Text classification, spam detection, and sentiment analysis where features are word counts or frequencies.\n",
        "Example:\n",
        "Classifying emails as spam or not spam based on the frequency of certain words.\n",
        "\n",
        "\n",
        "\n",
        "3. Bernoulli Naive Bayes:\n",
        "Data Type:\n",
        "Binary or boolean data (0 or 1).\n",
        "Distribution Assumption:\n",
        "Assumes that each feature is a binary variable, following a Bernoulli distribution.\n",
        "Use Cases:\n",
        "Tasks where features are presence/absence, such as \"word occurs in a document\" or \"has diabetes\".\n",
        "Example:\n",
        "Classifying documents based on whether specific words are present or absent.\n"
      ],
      "metadata": {
        "id": "oQSMBgu9vVfl"
      }
    },
    {
      "cell_type": "markdown",
      "source": [
        "15.  When should you use Gaussian Naïve Bayes over other variants ?\n",
        "\n",
        "\n",
        "\n",
        "\n",
        "Use Gaussian Naive Bayes when your features are continuous and you suspect they follow a Gaussian (normal) distribution, as it models feature distributions using probability density functions."
      ],
      "metadata": {
        "id": "00zPM0tWvlQi"
      }
    },
    {
      "cell_type": "markdown",
      "source": [
        "16.  What are the key assumptions made by Naïve Bayes ?\n",
        "\n",
        "\n",
        "\n",
        "\n",
        "The core assumption of the Naive Bayes algorithm is that features are conditionally independent of each other given the class label, meaning the presence or absence of one feature doesn't influence the presence or absence of another feature."
      ],
      "metadata": {
        "id": "O00Zg6Pvvu7t"
      }
    },
    {
      "cell_type": "markdown",
      "source": [
        "17. What are the advantages and disadvantages of Naïve Bayes?\n",
        "\n",
        "\n",
        "\n",
        "\n",
        "Advantages:\n",
        "Simplicity and Ease of Implementation: Naïve Bayes is a straightforward algorithm to understand and implement, requiring minimal training data and computational resources.\n",
        "Speed and Efficiency: It's known for its speed and efficiency, making it suitable for large datasets and real-time predictions.\n",
        "Scalability: It scales well with the number of predictors and data points.\n",
        "Handles both continuous and discrete data: Naive Bayes can be used with both types of data.\n",
        "Works well in text-based applications: It performs well in tasks like text classification and spam detection.\n",
        "Disadvantages:\n",
        "Assumption of Feature Independence:\n",
        "The core assumption that features are conditionally independent given the class label is often violated in real-world scenarios, potentially leading to inaccurate predictions.\n",
        "Zero Probability Problem:\n",
        "If a feature value or class label doesn't appear in the training data, the algorithm might assign a zero probability, which can negatively impact predictions. Smoothing techniques like Laplace smoothing can mitigate this.\n",
        "Not ideal for imbalanced data:\n",
        "Naïve Bayes can struggle with datasets where the classes are significantly imbalanced.\n",
        "Can be a bad estimator:\n",
        "The probability outputs from predict_proba might not be taken too seriously.\n"
      ],
      "metadata": {
        "id": "JXvxz_NIv2th"
      }
    },
    {
      "cell_type": "markdown",
      "source": [
        "18. Why is Naïve Bayes a good choice for text classification ?\n",
        "\n",
        "\n",
        "\n",
        "\n",
        "Naive Bayes is a good choice for text classification because it's a simple, fast, and effective algorithm that is computationally efficient, performs well on large datasets, and is robust to noisy or irrelevant data, making it suitable for tasks like spam detection, sentiment analysis, and topic categorization."
      ],
      "metadata": {
        "id": "T6iAWCFSwI8w"
      }
    },
    {
      "cell_type": "markdown",
      "source": [
        "19.  Compare SVM and\n",
        " Naïve Bayes for classification tasks .\n",
        "\n",
        "\n",
        "\n",
        " Naïve Bayes (NB) is a very fast method. It depends on conditional probabilities, which are easy to implement and evaluate. Therefore, it does not require an iterative process. NB supports binary classification as well as multinomial one. NB assumes that features are independent between them, but this assumption does not always hold. Even though, NB gives good results when applied to short texts like tweets. For some datasets, NB may defeat other classifiers using feature selection.\n",
        "\n",
        "SVM is more powerful to address non-linear classification tasks. SVM generalizes well in high dimensional spaces like those corresponding to texts. It is effective with more dimensions than samples. It works well when classes are well separated. SVM is a binary model in its conception, although it could be applied to classifying multiple classes with very good results.\n",
        "The training cost of SVM for large datasets is a handicap. SVM takes a long time while train large datasets. It requires hyperparameter tuning which is not trivial and takes time. SVM is more attractive theoretically.\n",
        "\n",
        "Both NB and SVM allow the choice of kernel function for each and are sensitive to parameter optimization.\n",
        "Comparing the accuracy of SVM and NB in spam classification showed that the basic NB algorithm gave the best prediction results (97.8%). At the same time, SVM and NB algorithms obtained an accuracy well above 90% using parameter tuning when required."
      ],
      "metadata": {
        "id": "TV3FKKH4wTV3"
      }
    },
    {
      "cell_type": "markdown",
      "source": [
        "20.  How does Laplace Smoothing help in Naïve Bayes?\n",
        "\n",
        "\n",
        "\n",
        "\n",
        "In Naive Bayes, Laplace smoothing, also known as add-one smoothing, is used to prevent zero probabilities by adding a small, positive constant (usually 1) to the count of each feature, ensuring that no feature has a zero probability, even if it hasn't been seen in the training data."
      ],
      "metadata": {
        "id": "WbfGbGCVwsa5"
      }
    },
    {
      "cell_type": "markdown",
      "source": [
        "`**practical**`"
      ],
      "metadata": {
        "id": "iqxUICklw3x-"
      }
    },
    {
      "cell_type": "code",
      "source": [
        "#21. Write a Python program to train an SVM Classifier on the Iris dataset and evaluate accuracy\n",
        "\n",
        "import numpy as np\n",
        "import pandas as pd\n",
        "import seaborn as sns\n",
        "import matplotlib.pyplot as plt\n",
        "from sklearn import svm\n",
        "import warnings\n",
        "warnings.filterwarnings('ignore')\n",
        "\n",
        "\n",
        "\n",
        "iris = pd.read_csv('/content/iris.data.csv')\n",
        "\n",
        "# Splitting the data into features and labels\n",
        "X = iris.iloc[:, :-1]\n",
        "y = iris.iloc[:, -1]\n",
        "\n",
        "\n",
        "\n",
        "sns.set_style(\"whitegrid\")\n",
        "sns.FacetGrid(iris, hue=\"species\", height=4) \\\n",
        "   .map(plt.scatter, \"sepal_length\", \"sepal_width\") \\\n",
        "   .add_legend()\n",
        "plt.show()\n",
        "\n",
        "\n"
      ],
      "metadata": {
        "id": "uBBZFPjvv5Mu"
      },
      "execution_count": null,
      "outputs": []
    },
    {
      "cell_type": "code",
      "source": [
        "#22. Write a Python program to train two SVM classifiers with Linear and RBF kernels on the Wine dataset, then\n",
        "#compare their accuracies\n",
        "\n",
        "\n",
        "\n",
        "\n",
        "import matplotlib.pyplot as plt\n",
        "import numpy as np\n",
        "\n",
        "X = np.array(\n",
        "    [\n",
        "        [0.4, -0.7],\n",
        "        [-1.5, -1.0],\n",
        "        [-1.4, -0.9],\n",
        "        [-1.3, -1.2],\n",
        "        [-1.1, -0.2],\n",
        "        [-1.2, -0.4],\n",
        "        [-0.5, 1.2],\n",
        "        [-1.5, 2.1],\n",
        "        [1.0, 1.0],\n",
        "        [1.3, 0.8],\n",
        "        [1.2, 0.5],\n",
        "        [0.2, -2.0],\n",
        "        [0.5, -2.4],\n",
        "        [0.2, -2.3],\n",
        "        [0.0, -2.7],\n",
        "        [1.3, 2.1],\n",
        "    ]\n",
        ")\n",
        "\n",
        "y = np.array([0, 0, 0, 0, 0, 0, 0, 0, 1, 1, 1, 1, 1, 1, 1, 1])\n",
        "\n",
        "# Plotting settings\n",
        "fig, ax = plt.subplots(figsize=(4, 3))\n",
        "x_min, x_max, y_min, y_max = -3, 3, -3, 3\n",
        "ax.set(xlim=(x_min, x_max), ylim=(y_min, y_max))\n",
        "\n",
        "# Plot samples by color and add legend\n",
        "scatter = ax.scatter(X[:, 0], X[:, 1], s=150, c=y, label=y, edgecolors=\"k\")\n",
        "ax.legend(*scatter.legend_elements(), loc=\"upper right\", title=\"Classes\")\n",
        "ax.set_title(\"Samples in two-dimensional feature space\")\n",
        "_ = plt.show()\n",
        "\n",
        "\n",
        "\n",
        "from sklearn import svm\n",
        "from sklearn.inspection import DecisionBoundaryDisplay\n",
        "\n",
        "\n",
        "def plot_training_data_with_decision_boundary(\n",
        "    kernel, ax=None, long_title=True, support_vectors=True\n",
        "):\n",
        "    # Train the SVC\n",
        "    clf = svm.SVC(kernel=kernel, gamma=2).fit(X, y)\n",
        "\n",
        "    # Settings for plotting\n",
        "    if ax is None:\n",
        "        _, ax = plt.subplots(figsize=(4, 3))\n",
        "    x_min, x_max, y_min, y_max = -3, 3, -3, 3\n",
        "    ax.set(xlim=(x_min, x_max), ylim=(y_min, y_max))\n",
        "\n",
        "    # Plot decision boundary and margins\n",
        "    common_params = {\"estimator\": clf, \"X\": X, \"ax\": ax}\n",
        "    DecisionBoundaryDisplay.from_estimator(\n",
        "        **common_params,\n",
        "        response_method=\"predict\",\n",
        "        plot_method=\"pcolormesh\",\n",
        "        alpha=0.3,\n",
        "    )\n",
        "    DecisionBoundaryDisplay.from_estimator(\n",
        "        **common_params,\n",
        "        response_method=\"decision_function\",\n",
        "        plot_method=\"contour\",\n",
        "        levels=[-1, 0, 1],\n",
        "        colors=[\"k\", \"k\", \"k\"],\n",
        "        linestyles=[\"--\", \"-\", \"--\"],\n",
        "    )\n",
        "\n",
        "    if support_vectors:\n",
        "        # Plot bigger circles around samples that serve as support vectors\n",
        "        ax.scatter(\n",
        "            clf.support_vectors_[:, 0],\n",
        "            clf.support_vectors_[:, 1],\n",
        "            s=150,\n",
        "            facecolors=\"none\",\n",
        "            edgecolors=\"k\",\n",
        "        )\n",
        "\n",
        "    # Plot samples by color and add legend\n",
        "    ax.scatter(X[:, 0], X[:, 1], c=y, s=30, edgecolors=\"k\")\n",
        "    ax.legend(*scatter.legend_elements(), loc=\"upper right\", title=\"Classes\")\n",
        "    if long_title:\n",
        "        ax.set_title(f\" Decision boundaries of {kernel} kernel in SVC\")\n",
        "    else:\n",
        "        ax.set_title(kernel)\n",
        "\n",
        "    if ax is None:\n",
        "        plt.show()\n",
        "\n",
        "\n",
        "\n",
        "        plot_training_data_with_decision_boundary(\"linear\")\n",
        "\n",
        "\n",
        "\n",
        "\n",
        "\n",
        "        plot_training_data_with_decision_boundary(\"poly\")"
      ],
      "metadata": {
        "id": "Zx4yU7R4xg81"
      },
      "execution_count": null,
      "outputs": []
    },
    {
      "cell_type": "markdown",
      "source": [],
      "metadata": {
        "id": "f9q6Q21XyaGf"
      }
    },
    {
      "cell_type": "code",
      "source": [
        "#23.Write a Python program to train an SVM Regressor (SVR) on a housing dataset and evaluate it using Mean\n",
        "#Squared Error (MSE)\n",
        "\n",
        "\n",
        "\n",
        "from sklearn.preprocessing import StandardScaler\n",
        "from sklearn.svm import SVR\n",
        "from sklearn.pipeline import make_pipeline\n",
        "\n",
        "# Initialize and train Support Vector Regression model with feature scaling\n",
        "svr_model = make_pipeline(StandardScaler(), SVR(C=1.0, epsilon=0.2))\n",
        "svr_model.fit(X_train, y_train)\n",
        "\n",
        "# Predict on test set\n",
        "y_pred = svr_model.predict(X_test)\n",
        "\n",
        "# Evaluation metrics\n",
        "mae = mean_absolute_error(y_test, y_pred)\n",
        "mse = mean_squared_error(y_test, y_pred)\n",
        "rmse = np.sqrt(mse)\n",
        "r2 = r2_score(y_test, y_pred)\n",
        "\n",
        "print(f\"Mean Absolute Error (MAE): {mae}\")\n",
        "print(f\"Mean Squared Error (MSE): {mse}\")\n",
        "print(f\"Root Mean Squared Error (RMSE): {rmse}\")\n",
        "print(f\"R^2 Score: {r2}\")"
      ],
      "metadata": {
        "id": "BGJ_H8jeya2J"
      },
      "execution_count": null,
      "outputs": []
    },
    {
      "cell_type": "code",
      "source": [
        "#24.Write a Python program to train an SVM Classifier with a Polynomial Kernel and visualize the decision\n",
        "#boundary.\n",
        "\n",
        "\n",
        "\n",
        "\n",
        "# Imports\n",
        "from sklearn.datasets import make_blobs\n",
        "from sklearn.model_selection import train_test_split\n",
        "import numpy as np\n",
        "import matplotlib.pyplot as plt\n",
        "\n",
        "# Configuration options\n",
        "blobs_random_seed = 42\n",
        "centers = [(0,0), (5,5)]\n",
        "cluster_std = 1\n",
        "frac_test_split = 0.33\n",
        "num_features_for_samples = 2\n",
        "num_samples_total = 1000\n",
        "\n",
        "# Generate data\n",
        "inputs, targets = make_blobs(n_samples = num_samples_total, centers = centers, n_features = num_features_for_samples, cluster_std = cluster_std)\n",
        "X_train, X_test, y_train, y_test = train_test_split(inputs, targets, test_size=frac_test_split, random_state=blobs_random_seed)\n",
        "\n",
        "# Save and load temporarily\n",
        "np.save('./data.npy', (X_train, X_test, y_train, y_test))\n",
        "X_train, X_test, y_train, y_test = np.load('./data.npy', allow_pickle=True)\n",
        "\n",
        "# Generate scatter plot for training data\n",
        "plt.scatter(X_train[:,0], X_train[:,1])\n",
        "plt.title('Linearly separable data')\n",
        "plt.xlabel('X1')\n",
        "plt.ylabel('X2')\n",
        "plt.show()\n",
        "\n",
        "\n",
        "\n",
        "\n",
        "# Imports\n",
        "from sklearn.datasets import make_blobs\n",
        "from sklearn.model_selection import train_test_split\n",
        "import numpy as np\n",
        "import matplotlib.pyplot as plt\n",
        "from sklearn import svm\n",
        "\n",
        "# Configuration options\n",
        "blobs_random_seed = 42\n",
        "centers = [(0,0), (5,5)]\n",
        "cluster_std = 1\n",
        "frac_test_split = 0.33\n",
        "num_features_for_samples = 2\n",
        "num_samples_total = 1000\n",
        "\n",
        "# Generate data\n",
        "inputs, targets = make_blobs(n_samples = num_samples_total, centers = centers, n_features = num_features_for_samples, cluster_std = cluster_std)\n",
        "X_train, X_test, y_train, y_test = train_test_split(inputs, targets, test_size=frac_test_split, random_state=blobs_random_seed)\n",
        "\n",
        "# Save and load temporarily\n",
        "np.save('./data.npy', (X_train, X_test, y_train, y_test))\n",
        "X_train, X_test, y_train, y_test = np.load('./data.npy', allow_pickle=True)\n",
        "\n",
        "# Generate scatter plot for training data\n",
        "plt.scatter(X_train[:,0], X_train[:,1])\n",
        "plt.title('Linearly separable data')\n",
        "plt.xlabel('X1')\n",
        "plt.ylabel('X2')\n",
        "plt.show()\n",
        "\n",
        "# Initialize SVM classifier\n",
        "clf = svm.SVC(kernel='linear')\n",
        "\n",
        "# Fit data\n",
        "clf = clf.fit(X_train, y_train)"
      ],
      "metadata": {
        "id": "AFIMxiYMzHE8"
      },
      "execution_count": null,
      "outputs": []
    },
    {
      "cell_type": "code",
      "source": [
        "\n",
        "#25.Write a Python program to train a Gaussian Naïve Bayes classifier on the Breast Cancer dataset and\n",
        "#evaluate accuracy\n",
        "\n",
        "\n",
        "\n",
        "\n",
        "import numpy as np\n",
        "import matplotlib.pyplot as plt\n",
        "import seaborn as sns\n",
        "from sklearn.datasets import load_breast_cancer\n",
        "from sklearn.model_selection import train_test_split, cross_val_score\n",
        "from sklearn.preprocessing import StandardScaler\n",
        "from sklearn.naive_bayes import GaussianNB\n",
        "from sklearn.metrics import (\n",
        "    accuracy_score, confusion_matrix, classification_report, roc_auc_score, roc_curve\n",
        "    )\n"
      ],
      "metadata": {
        "id": "SuVO1GFc0Kwg"
      },
      "execution_count": 1,
      "outputs": []
    },
    {
      "cell_type": "code",
      "source": [
        "#loading dataset\n",
        "data = load_breast_cancer()\n",
        "\n",
        "\n",
        "\n",
        "\n",
        "#organizing data\n",
        "label_names = data['target_names']\n",
        "labels = data['target']\n",
        "feature_names = data['feature_names']\n",
        "features = data['data']\n",
        "\n",
        "\n",
        "\n",
        "\n",
        "#data preprocessing\n",
        "scaler = StandardScaler()\n",
        "features_scaled = scaler.fit_transform(features)\n",
        "\n",
        "\n",
        "\n",
        "\n",
        "#splitting the data\n",
        "train, test, train_labels, test_labels = train_test_split(\n",
        "      features_scaled, labels, test_size=0.33, random_state=42\n",
        ")\n",
        "\n",
        "\n",
        "#training the classifier\n",
        "gnb = GaussianNB()\n",
        "model = gnb.fit(train, train_labels)\n",
        "\n",
        "\n",
        "#predictions\n",
        "predictions = gnb.predict(test)\n",
        "print(predictions)\n",
        "#accuracy\n",
        "print(f\"Accuracy Score: {accuracy_score(test_labels, predictions):.2f}\")\n",
        "\n",
        "\n",
        "\n",
        "#confusion Matrix\n",
        "cm = confusion_matrix(test_labels, predictions)\n",
        "sns.heatmap(cm, annot=True, cmap=\"Blues\", fmt=\"d\", xticklabels=label_names, yticklabels=label_names)\n",
        "plt.title(\"Confusion Matrix\")\n",
        "plt.ylabel(\"Actual\")\n",
        "plt.xlabel(\"Predicted\")\n",
        "plt.show()"
      ],
      "metadata": {
        "colab": {
          "base_uri": "https://localhost:8080/",
          "height": 593
        },
        "collapsed": true,
        "id": "pkqvt7m109Jc",
        "outputId": "717dbeea-1d69-4bd5-8c4f-9c4ae253cff9"
      },
      "execution_count": 4,
      "outputs": [
        {
          "output_type": "stream",
          "name": "stdout",
          "text": [
            "[1 0 0 1 1 0 0 0 0 1 1 0 1 0 1 0 1 1 1 0 1 1 0 1 1 1 1 1 1 0 1 1 1 1 1 1 0\n",
            " 1 0 1 1 0 1 1 1 1 1 1 1 1 0 0 1 1 1 1 1 0 0 1 1 0 0 1 1 1 0 0 1 1 0 0 1 0\n",
            " 1 1 1 1 1 1 0 1 1 0 0 0 0 0 1 1 1 1 1 1 1 1 0 0 1 0 0 1 0 0 1 1 1 0 1 1 0\n",
            " 1 1 0 0 0 1 1 1 0 0 1 1 0 1 0 0 1 1 0 0 0 1 1 1 0 1 1 0 0 1 0 1 1 0 1 0 0\n",
            " 1 1 1 1 1 1 1 0 0 1 1 1 1 1 1 1 1 1 1 1 1 0 0 1 1 0 1 1 0 1 1 1 1 1 1 0 0\n",
            " 0 1 1]\n",
            "Accuracy Score: 0.94\n"
          ]
        },
        {
          "output_type": "display_data",
          "data": {
            "text/plain": [
              "<Figure size 640x480 with 2 Axes>"
            ],
            "image/png": "[encoded data removed]"
          },
          "metadata": {}
        }
      ]
    },
    {
      "cell_type": "code",
      "source": [
        "#26 Write a Python program to train a Multinomial Naïve Bayes classifier for text classification using the 20\n",
        "#Newsgroups dataset.\n",
        "\n",
        "\n",
        "\n",
        "\n",
        "from os import listdir\n",
        "from os.path import isfile, join\n",
        "import string\n",
        "my_path = '20_newsgroups'\n",
        "\n",
        "#creating a list of folder names to make valid pathnames later\n",
        "folders = [f for f in listdir(my_path)]\n",
        "\n",
        "\n"
      ],
      "metadata": {
        "id": "WPv20Xrj1pOi"
      },
      "execution_count": 6,
      "outputs": []
    },
    {
      "cell_type": "code",
      "source": [
        "#27.Write a Python program to train an SVM Classifier with different C values and compare the decision\n",
        "#boundaries visually\n",
        "\n",
        "\n",
        "import matplotlib.pyplot as plt\n",
        "import numpy as np\n",
        "\n",
        "X = np.array(\n",
        "    [\n",
        "        [0.4, -0.7],\n",
        "        [-1.5, -1.0],\n",
        "        [-1.4, -0.9],\n",
        "        [-1.3, -1.2],\n",
        "        [-1.1, -0.2],\n",
        "        [-1.2, -0.4],\n",
        "        [-0.5, 1.2],\n",
        "        [-1.5, 2.1],\n",
        "        [1.0, 1.0],\n",
        "        [1.3, 0.8],\n",
        "        [1.2, 0.5],\n",
        "        [0.2, -2.0],\n",
        "        [0.5, -2.4],\n",
        "        [0.2, -2.3],\n",
        "        [0.0, -2.7],\n",
        "        [1.3, 2.1],\n",
        "    ]\n",
        ")\n",
        "\n",
        "y = np.array([0, 0, 0, 0, 0, 0, 0, 0, 1, 1, 1, 1, 1, 1, 1, 1])\n",
        "\n",
        "# Plotting settings\n",
        "fig, ax = plt.subplots(figsize=(4, 3))\n",
        "x_min, x_max, y_min, y_max = -3, 3, -3, 3\n",
        "ax.set(xlim=(x_min, x_max), ylim=(y_min, y_max))\n",
        "\n",
        "# Plot samples by color and add legend\n",
        "scatter = ax.scatter(X[:, 0], X[:, 1], s=150, c=y, label=y, edgecolors=\"k\")\n",
        "ax.legend(*scatter.legend_elements(), loc=\"upper right\", title=\"Classes\")\n",
        "ax.set_title(\"Samples in two-dimensional feature space\")\n",
        "_ = plt.show()\n"
      ],
      "metadata": {
        "id": "INtVS_sn23Ul"
      },
      "execution_count": null,
      "outputs": []
    },
    {
      "cell_type": "code",
      "source": [
        "\n",
        "#28 Write a Python program to train a Bernoulli Naïve Bayes classifier for binary classification on a dataset with\n",
        "#binary features\n",
        "\n",
        "\n",
        "\n",
        "\n",
        "from sklearn.model_selection import train_test_split\n",
        "from sklearn.metrics import accuracy_score\n",
        "import pandas as pd\n",
        "import numpy as np\n",
        "\n",
        "dataset_dict = {\n",
        "    'Outlook': ['sunny', 'sunny', 'overcast', 'rain', 'rain', 'rain', 'overcast', 'sunny', 'sunny', 'rain', 'sunny', 'overcast', 'overcast', 'rain', 'sunny', 'overcast', 'rain', 'sunny', 'sunny', 'rain', 'overcast', 'rain', 'sunny', 'overcast', 'sunny', 'overcast', 'rain', 'overcast'],\n",
        "    'Temperature': [85.0, 80.0, 83.0, 70.0, 68.0, 65.0, 64.0, 72.0, 69.0, 75.0, 75.0, 72.0, 81.0, 71.0, 81.0, 74.0, 76.0, 78.0, 82.0, 67.0, 85.0, 73.0, 88.0, 77.0, 79.0, 80.0, 66.0, 84.0],\n",
        "    'Humidity': [85.0, 90.0, 78.0, 96.0, 80.0, 70.0, 65.0, 95.0, 70.0, 80.0, 70.0, 90.0, 75.0, 80.0, 88.0, 92.0, 85.0, 75.0, 92.0, 90.0, 85.0, 88.0, 65.0, 70.0, 60.0, 95.0, 70.0, 78.0],\n",
        "    'Wind': [False, True, False, False, False, True, True, False, False, False, True, True, False, True, True, False, False, True, False, True, True, False, True, False, False, True, False, False],\n",
        "    'Play': ['No', 'No', 'Yes', 'Yes', 'Yes', 'No', 'Yes', 'No', 'Yes', 'Yes', 'Yes', 'Yes', 'Yes', 'No', 'No', 'Yes', 'Yes', 'No', 'No', 'No', 'Yes', 'Yes', 'Yes', 'Yes', 'Yes', 'Yes', 'No', 'Yes']\n",
        "}\n",
        "df = pd.DataFrame(dataset_dict)\n",
        "\n",
        "# ONE-HOT ENCODE 'Outlook' COLUMN\n",
        "df = pd.get_dummies(df, columns=['Outlook'],  prefix='', prefix_sep='', dtype=int)\n",
        "\n",
        "# CONVERT 'Windy' (bool) and 'Play' (binary) COLUMNS TO BINARY INDICATORS\n",
        "df['Wind'] = df['Wind'].astype(int)\n",
        "df['Play'] = (df['Play'] == 'Yes').astype(int)\n",
        "\n",
        "# Set feature matrix X and target vector y\n",
        "X, y = df.drop(columns='Play'), df['Play']\n",
        "\n",
        "# Split the data into training and testing sets\n",
        "X_train, X_test, y_train, y_test = train_test_split(X, y, train_size=0.5, shuffle=False)\n",
        "\n",
        "print(pd.concat([X_train, y_train], axis=1), end='\\n\\n')\n",
        "print(pd.concat([X_test, y_test], axis=1))\n",
        "\n",
        "\n",
        "\n",
        "# One-hot encode the categorized columns and drop them after, but do it separately for training and test sets\n",
        "# Define categories for 'Temperature' and 'Humidity' for training set\n",
        "X_train['Temperature'] = pd.cut(X_train['Temperature'], bins=[0, 80, 100], labels=['Warm', 'Hot'])\n",
        "X_train['Humidity'] = pd.cut(X_train['Humidity'], bins=[0, 75, 100], labels=['Dry', 'Humid'])\n",
        "\n",
        "# Similarly, define for the test set\n",
        "X_test['Temperature'] = pd.cut(X_test['Temperature'], bins=[0, 80, 100], labels=['Warm', 'Hot'])\n",
        "X_test['Humidity'] = pd.cut(X_test['Humidity'], bins=[0, 75, 100], labels=['Dry', 'Humid'])\n",
        "\n",
        "# One-hot encode the categorized columns\n",
        "one_hot_columns_train = pd.get_dummies(X_train[['Temperature', 'Humidity']], drop_first=True, dtype=int)\n",
        "one_hot_columns_test = pd.get_dummies(X_test[['Temperature', 'Humidity']], drop_first=True, dtype=int)\n",
        "\n",
        "# Drop the categorized columns from training and test sets\n",
        "X_train = X_train.drop(['Temperature', 'Humidity'], axis=1)\n",
        "X_test = X_test.drop(['Temperature', 'Humidity'], axis=1)\n",
        "\n",
        "# Concatenate the one-hot encoded columns with the original DataFrames\n",
        "X_train = pd.concat([one_hot_columns_train, X_train], axis=1)\n",
        "X_test = pd.concat([one_hot_columns_test, X_test], axis=1)\n",
        "\n",
        "print(pd.concat([X_train, y_train], axis=1), '\\n')\n",
        "print(pd.concat([X_test, y_test], axis=1))"
      ],
      "metadata": {
        "id": "u8enGL2q3Wjy"
      },
      "execution_count": null,
      "outputs": []
    },
    {
      "cell_type": "markdown",
      "source": [],
      "metadata": {
        "id": "rHL9ZRdY4Kj4"
      }
    },
    {
      "cell_type": "code",
      "source": [
        "#29  Write a Python program to apply feature scaling before training an SVM model and compare results with\n",
        "#unscaled data\n",
        "\n",
        "\n",
        "\n",
        "\n",
        "# Data wrangling\n",
        "import pandas as pd\n",
        "import numpy as np\n",
        "\n",
        "# Data visualisation\n",
        "import seaborn as sns\n",
        "import matplotlib.pyplot as plt\n",
        "\n",
        "# Machine learning\n",
        "from sklearn.model_selection import train_test_split\n",
        "from sklearn.preprocessing import MinMaxScaler, StandardScaler, RobustScaler\n",
        "from sklearn.neighbors import KNeighborsRegressor\n",
        "from sklearn.svm import SVR\n",
        "from sklearn.tree import DecisionTreeRegressor\n",
        "from sklearn.pipeline import make_pipeline\n",
        "from sklearn.metrics import mean_squared_error\n",
        "\n",
        "\n",
        "\n",
        "from sklearn.datasets import load_boston\n",
        "boston = load_boston()\n",
        "data = pd.DataFrame(boston.data, columns = boston.feature_names)\n",
        "data['target'] = boston.target\n",
        "data.head()\n",
        "\n",
        "\n",
        "\n",
        "# Create subplots\n",
        "fig, ax = plt.subplots(2, 2, figsize = (12, 9))\n",
        "\n",
        "# Original\n",
        "sns.boxplot(x = 'variable', y = 'value', data = pd.melt(data[['ZN', 'AGE', 'TAX', 'B']]), ax = ax[0, 0])\n",
        "ax[0, 0].set_title('Original')\n",
        "ax[0, 0].set_xlabel('')\n",
        "ax[0, 0].set_ylabel('')\n",
        "\n",
        "# MinMaxScaler\n",
        "sns.boxplot(x = 'variable', y = 'value', data = pd.melt(normalised_df[['ZN', 'AGE', 'TAX', 'B']]), ax = ax[0, 1])\n",
        "ax[0, 1].set_title('MinMaxScaler')\n",
        "ax[0, 1].set_xlabel('')\n",
        "ax[0, 1].set_ylabel('')\n",
        "\n",
        "# StandardScaler\n",
        "sns.boxplot(x = 'variable', y = 'value', data = pd.melt(standardised_df[['ZN', 'AGE', 'TAX', 'B']]), ax = ax[1, 0])\n",
        "ax[1, 0].set_title('StandardScaler')\n",
        "ax[1, 0].set_xlabel('')\n",
        "ax[1, 0].set_ylabel('')\n",
        "\n",
        "# RobustScaler\n",
        "sns.boxplot(x = 'variable', y = 'value', data = pd.melt(robust_df[['ZN', 'AGE', 'TAX', 'B']]), ax = ax[1, 1])\n",
        "ax[1, 1].set_title('RobustScaler')\n",
        "ax[1, 1].set_xlabel('')\n",
        "ax[1, 1].set_ylabel('')\n",
        "\n",
        "\n",
        "\n"
      ],
      "metadata": {
        "id": "QlnipwWl4kZ9"
      },
      "execution_count": null,
      "outputs": []
    },
    {
      "cell_type": "code",
      "source": [
        "#30 Write a Python program to train a Gaussian Naïve Bayes model and compare the predictions before and\n",
        "#after Laplace Smoothing\n",
        "\n",
        "\n",
        "\n",
        "# IMPORTING DATASET #\n",
        "from sklearn.model_selection import train_test_split\n",
        "from sklearn.metrics import accuracy_score\n",
        "import pandas as pd\n",
        "import numpy as np\n",
        "\n",
        "dataset_dict = {\n",
        "    'Rainfall': [0.0, 2.0, 7.0, 18.0, 3.0, 3.0, 0.0, 1.0, 0.0, 25.0, 0.0, 18.0, 9.0, 5.0, 0.0, 1.0, 7.0, 0.0, 0.0, 7.0, 5.0, 3.0, 0.0, 2.0, 0.0, 8.0, 4.0, 4.0],\n",
        "    'Temperature': [29.4, 26.7, 28.3, 21.1, 20.0, 18.3, 17.8, 22.2, 20.6, 23.9, 23.9, 22.2, 27.2, 21.7, 27.2, 23.3, 24.4, 25.6, 27.8, 19.4, 29.4, 22.8, 31.1, 25.0, 26.1, 26.7, 18.9, 28.9],\n",
        "    'Humidity': [85.0, 90.0, 78.0, 96.0, 80.0, 70.0, 65.0, 95.0, 70.0, 80.0, 70.0, 90.0, 75.0, 80.0, 88.0, 92.0, 85.0, 75.0, 92.0, 90.0, 85.0, 88.0, 65.0, 70.0, 60.0, 95.0, 70.0, 78.0],\n",
        "    'WindSpeed': [2.1, 21.2, 1.5, 3.3, 2.0, 17.4, 14.9, 6.9, 2.7, 1.6, 30.3, 10.9, 3.0, 7.5, 10.3, 3.0, 3.9, 21.9, 2.6, 17.3, 9.6, 1.9, 16.0, 4.6, 3.2, 8.3, 3.2, 2.2],\n",
        "    'Play': ['No', 'No', 'Yes', 'Yes', 'Yes', 'No', 'Yes', 'No', 'Yes', 'Yes', 'Yes', 'Yes', 'Yes', 'No', 'No', 'Yes', 'Yes', 'No', 'No', 'No', 'Yes', 'Yes', 'Yes', 'Yes', 'Yes', 'Yes', 'No', 'Yes']\n",
        "}\n",
        "df = pd.DataFrame(dataset_dict)\n",
        "\n",
        "# Set feature matrix X and target vector y\n",
        "X, y = df.drop(columns='Play'), df['Play']\n",
        "\n",
        "# Split the data into training and testing sets\n",
        "X_train, X_test, y_train, y_test = train_test_split(X, y, train_size=0.5, shuffle=False)\n",
        "print(pd.concat([X_train, y_train], axis=1), end='\\n\\n')\n",
        "print(pd.concat([X_test, y_test], axis=1))\n",
        "\n",
        "\n",
        "\n",
        "from sklearn.preprocessing import PowerTransformer\n",
        "\n",
        "# Initialize and fit the PowerTransformer\n",
        "pt = PowerTransformer(standardize=True) # Standard Scaling already included\n",
        "X_train_transformed = pt.fit_transform(X_train)\n",
        "X_test_transformed = pt.transform(X_test)"
      ],
      "metadata": {
        "id": "l0u9MU-l5iG4"
      },
      "execution_count": null,
      "outputs": []
    },
    {
      "cell_type": "code",
      "source": [
        "\n",
        "#44Write a Python program to train an SVM Regressor (SVR) and evaluate its performance using Mean Absolute\n",
        "#Error (MAE) instead of MSE\n",
        "\n",
        "\n",
        "\n",
        "# Importing necessary librariesimport numpy as npimport matplotlib.pyplot as pltfrom sklearn.svm import SVRfrom sklearn.model_selection import train_test_splitfrom sklearn.preprocessing import StandardScalerfrom sklearn.metrics import mean_squared_error# Generating sample datanp.random.seed(0)X = np.sort(5 * np.random.rand(100, 1), axis=0)y = np.sin(X).ravel()# Adding noise to the targetsy[::5] += 3 * (0.5 - np.random.rand(20))# Splitting the data into training and testing setsX_train, X_test, y_train, y_test = train_test_split(X, y, test_size=0.2, random_state=42)# Feature scalingsc_X = StandardScaler()sc_y = StandardScaler()X_train_scaled = sc_X.fit_transform(X_train)y_train_scaled = sc_y.fit_transform(y_train.reshape(-1, 1)).ravel()# Initializing and training the SVR modelsvr_rbf = SVR(kernel='rbf', C=100, gamma=0.1, epsilon=0.1)svr_rbf.fit(X_train_scaled, y_train_scaled)# Predicting the test set resultsy_pred_scaled = svr_rbf.predict(sc_X.transform(X_test))y_pred = sc_y.inverse_transform(y_pred_scaled.reshape(-1, 1))# Calculating Mean Squared Errormse = mean_squared_error(y_test, y_pred)print(\"Mean Squared Error:\", mse)# Visualizing the SVR resultsplt.scatter(X_test, y_test, color='red', label='Actual')plt.plot(X_test, y_pred, color='blue', label='SVR Prediction')plt.title('SVR Prediction')plt.xlabel('X')plt.ylabel('y')plt.legend()plt.show()"
      ],
      "metadata": {
        "id": "-zQXwBaf4K_Q"
      },
      "execution_count": null,
      "outputs": []
    },
    {
      "cell_type": "code",
      "source": [
        "#45  Write a Python program to train a Naïve Bayes classifier and evaluate its performance using the ROC-AUC\n",
        "#score\n",
        "\n",
        "\n",
        "import pandas as pd\n",
        "from sklearn.datasets import make_classification\n",
        "from sklearn.model_selection import train_test_split\n",
        "\n",
        "# generate two class dataset\n",
        "X, y = make_classification(n_samples=1000, n_classes=2, n_features=20, random_state=27)\n",
        "\n",
        "# split into train-test sets\n",
        "X_train, X_test, y_train, y_test = train_test_split(X, y, test_size=0.3, random_state=27)\n",
        "\n",
        "print(pd.DataFrame(X))\n",
        "print(pd.Series(y))\n",
        "\n",
        "\n",
        "\n",
        "# train models\n",
        "from sklearn.linear_model import LogisticRegression\n",
        "from sklearn.neighbors import KNeighborsClassifier\n",
        "\n",
        "# logistic regression\n",
        "model1 = LogisticRegression()\n",
        "# knn\n",
        "model2 = KNeighborsClassifier(n_neighbors=4)\n",
        "\n",
        "# fit model\n",
        "model1.fit(X_train, y_train)\n",
        "model2.fit(X_train, y_train)\n",
        "\n",
        "# predict probabilities\n",
        "pred_prob1 = model1.predict_proba(X_test)\n",
        "pred_prob2 = model2.predict_proba(X_test)\n",
        "\n",
        "\n",
        "from sklearn.metrics import roc_curve\n",
        "\n",
        "# roc curve for models\n",
        "fpr1, tpr1, thresh1 = roc_curve(y_test, pred_prob1[:,1], pos_label=1)\n",
        "fpr2, tpr2, thresh2 = roc_curve(y_test, pred_prob2[:,1], pos_label=1)\n",
        "\n",
        "# roc curve for tpr = fpr\n",
        "random_probs = [0 for i in range(len(y_test))]\n",
        "p_fpr, p_tpr, _ = roc_curve(y_test, random_probs, pos_label=1)\n",
        "\n",
        "\n",
        "\n",
        "\n",
        "from sklearn.metrics import roc_auc_score\n",
        "\n",
        "# auc scores\n",
        "auc_score1 = roc_auc_score(y_test, pred_prob1[:,1])\n",
        "auc_score2 = roc_auc_score(y_test, pred_prob2[:,1])\n",
        "\n",
        "\n",
        "\n",
        "\n",
        "# auc roc curve\n",
        "\n",
        "from sklearn.datasets import make_classification\n",
        "from sklearn.model_selection import train_test_split\n",
        "\n",
        "# generate two class dataset\n",
        "X, y = make_classification(n_samples=1000, n_classes=2, n_features=20, random_state=27)\n",
        "\n",
        "# split into train-test sets\n",
        "X_train, X_test, y_train, y_test = train_test_split(X, y, test_size=0.3, random_state=27)\n",
        "\n",
        "\n",
        "\n",
        "# train models\n",
        "from sklearn.linear_model import LogisticRegression\n",
        "from sklearn.neighbors import KNeighborsClassifier\n",
        "\n",
        "# logistic regression\n",
        "model1 = LogisticRegression()\n",
        "# knn\n",
        "model2 = KNeighborsClassifier(n_neighbors=4)\n",
        "\n",
        "# fit model\n",
        "model1.fit(X_train, y_train)\n",
        "model2.fit(X_train, y_train)\n",
        "\n",
        "# predict probabilities\n",
        "pred_prob1 = model1.predict_proba(X_test)\n",
        "pred_prob2 = model2.predict_proba(X_test)\n",
        "\n",
        "\n",
        "from sklearn.metrics import roc_curve\n",
        "\n",
        "# roc curve for models\n",
        "fpr1, tpr1, thresh1 = roc_curve(y_test, pred_prob1[:,1], pos_label=1)\n",
        "fpr2, tpr2, thresh2 = roc_curve(y_test, pred_prob2[:,1], pos_label=1)\n",
        "\n",
        "# roc curve for tpr = fpr\n",
        "random_probs = [0 for i in range(len(y_test))]\n",
        "p_fpr, p_tpr, _ = roc_curve(y_test, random_probs, pos_label=1)\n",
        "\n",
        "\n",
        "from sklearn.metrics import roc_auc_score\n",
        "\n",
        "# auc scores\n",
        "auc_score1 = roc_auc_score(y_test, pred_prob1[:,1])\n",
        "auc_score2 = roc_auc_score(y_test, pred_prob2[:,1])\n",
        "\n",
        "print(auc_score1, auc_score2)\n",
        "\n",
        "\n",
        "\n",
        "# matplotlib\n",
        "import matplotlib.pyplot as plt\n",
        "\n",
        "\n",
        "# plot roc curves\n",
        "plt.plot(fpr1, tpr1, linestyle='--',color='orange', label='Logistic Regression')\n",
        "plt.plot(fpr2, tpr2, linestyle='--',color='green', label='KNN')\n",
        "plt.plot(p_fpr, p_tpr, linestyle='--', color='blue')\n",
        "# title\n",
        "plt.title('ROC curve')\n",
        "# x label\n",
        "plt.xlabel('False Positive Rate')\n",
        "# y label\n",
        "plt.ylabel('True Positive rate')\n",
        "\n",
        "plt.legend(loc='best')\n",
        "plt.savefig('ROC',dpi=300)\n",
        "plt.show();"
      ],
      "metadata": {
        "colab": {
          "base_uri": "https://localhost:8080/",
          "height": 1000
        },
        "collapsed": true,
        "id": "lw1SQLFg6IDT",
        "outputId": "4dc83ff5-38ec-4d30-b72b-c3d6a4e609fe"
      },
      "execution_count": 8,
      "outputs": [
        {
          "output_type": "stream",
          "name": "stdout",
          "text": [
            "           0         1         2         3         4         5         6   \\\n",
            "0   -0.258203  1.019808  1.524563  0.617243  0.148243  0.744111 -0.363963   \n",
            "1   -0.458166  0.828728 -0.656965 -0.056297  0.254895 -0.018241  0.313829   \n",
            "2   -0.387378  0.761818 -1.310351 -0.351663 -0.130643 -0.641420  0.152001   \n",
            "3   -2.394585 -0.036724  1.361228 -0.371470  1.871835 -1.226815  0.770733   \n",
            "4    0.258229 -1.600952  1.101282  1.659578  0.927923 -0.093182 -1.778309   \n",
            "..        ...       ...       ...       ...       ...       ...       ...   \n",
            "995 -0.724879  0.281545 -0.362035 -2.602418  0.699501 -0.328376  0.383521   \n",
            "996  2.085897  0.461640  0.372497 -1.838814  0.024923 -0.710831 -0.945424   \n",
            "997 -0.547793 -0.674539 -0.834644  1.050191 -0.797763  0.699879 -0.943583   \n",
            "998  0.559619 -0.625025  1.404538  0.593826 -0.270234 -0.519678 -1.407141   \n",
            "999 -1.424876  0.527146  0.157864 -0.926648 -0.801353  1.825411  0.999557   \n",
            "\n",
            "           7         8         9         10        11        12        13  \\\n",
            "0    1.549367  0.256960 -1.222225  0.636587  1.448634 -1.471582  1.918621   \n",
            "1   -0.386936 -1.632152 -2.059698  0.356881 -1.400478  0.326012  1.058607   \n",
            "2    0.941251  1.381526 -1.803593  0.749451  0.325846  0.742814  0.981221   \n",
            "3   -0.566035  0.688286  1.052618 -1.122666 -0.028873  0.498517 -1.113630   \n",
            "4    0.485978 -0.918154 -0.765634  0.601260  0.776797  0.182804 -0.963276   \n",
            "..        ...       ...       ...       ...       ...       ...       ...   \n",
            "995 -0.072851 -2.225106 -0.386934  1.686867  1.831139 -0.426400  1.068455   \n",
            "996  1.671489 -0.238396 -0.446206  0.747034 -1.104464  1.774805 -0.657410   \n",
            "997 -0.083061  1.525375  0.938323 -0.449004 -0.343585  0.145134  1.038857   \n",
            "998  1.923672 -0.161268 -1.092994 -0.534942 -1.230007 -0.821936 -1.078008   \n",
            "999  0.091012  0.332559 -0.601311  2.128989  1.417514  0.703116  0.341904   \n",
            "\n",
            "           14        15        16        17        18        19  \n",
            "0    2.584944  2.638990  0.069881  0.332721 -0.175407  1.501124  \n",
            "1   -0.668410 -0.622784 -0.405360  1.201937 -0.255835 -0.199313  \n",
            "2   -1.600239 -1.550548 -0.232538 -1.033209 -1.686671 -0.766836  \n",
            "3    1.640086  1.585018 -1.921666 -1.177293 -1.784434  0.132557  \n",
            "4    1.312165  1.265336  0.709714 -1.534325  0.698777 -1.625380  \n",
            "..        ...       ...       ...       ...       ...       ...  \n",
            "995 -0.253722 -0.210847  0.358016 -1.335716 -0.871125  0.658246  \n",
            "996  0.365474  0.337514  0.676548 -0.623767 -0.985299  0.067141  \n",
            "997 -0.921502 -0.874723  1.315291  0.578216 -1.172548  1.083019  \n",
            "998  1.709057  1.654835  0.732973 -1.669515 -0.292760  0.484569  \n",
            "999  0.301509  0.312341  0.292889  3.251636 -0.547791 -1.510333  \n",
            "\n",
            "[1000 rows x 20 columns]\n",
            "0      1\n",
            "1      1\n",
            "2      1\n",
            "3      0\n",
            "4      0\n",
            "      ..\n",
            "995    1\n",
            "996    0\n",
            "997    1\n",
            "998    0\n",
            "999    1\n",
            "Length: 1000, dtype: int64\n",
            "0.9762374461979914 0.9233769727403157\n"
          ]
        },
        {
          "output_type": "display_data",
          "data": {
            "text/plain": [
              "<Figure size 640x480 with 1 Axes>"
            ],
            "image/png": "[encoded data removed]"
          },
          "metadata": {}
        }
      ]
    },
    {
      "cell_type": "code",
      "source": [
        "#46 Write a Python program to train an SVM Classifier and visualize the Precision-Recall Curve.\n",
        "\n",
        "\n",
        "\n",
        "\n",
        "import numpy as np\n",
        "import matplotlib.pyplot as plt\n",
        "from sklearn.metrics import precision_recall_curve\n",
        "\n",
        "# Generate sample data\n",
        "y_true = np.array([0, 0, 1, 1, 1, 0, 1, 0, 1, 0])\n",
        "y_scores = np.array([0.1, 0.4, 0.35, 0.8, 0.65, 0.2, 0.9, 0.5, 0.7, 0.3])\n",
        "\n",
        "# Calculate precision and recall values\n",
        "precision, recall, _ = precision_recall_curve(y_true, y_scores)\n",
        "\n",
        "# Plot Precision-Recall curve\n",
        "plt.figure(figsize=(8, 6))\n",
        "plt.plot(recall, precision, marker='.')\n",
        "plt.xlabel('Recall')\n",
        "plt.ylabel('Precision')\n",
        "plt.title('Precision-Recall Curve')\n",
        "plt.show()\n",
        "\n",
        "\n",
        "\n",
        "from sklearn.metrics import precision_score, recall_score\n",
        "\n",
        "# Calculate precision and recall\n",
        "precision = precision_score(y_true, y_scores > 0.5)\n",
        "recall = recall_score(y_true, y_scores > 0.5)\n",
        "\n",
        "print(f\"Precision: {precision:.2f}\")\n",
        "print(f\"Recall: {recall:.2f}\")\n",
        "\n",
        "# Visualize true positives, false positives, and false negatives\n",
        "plt.figure(figsize=(8, 6))\n",
        "plt.scatter(y_true, y_scores, c=['red' if t else 'blue' for t in y_true])\n",
        "plt.axhline(y=0.5, color='r', linestyle='--')\n",
        "plt.xlabel('True Label')\n",
        "plt.ylabel('Predicted Score')\n",
        "plt.title('Classification Results')\n",
        "plt.show()\n",
        "\n",
        "\n",
        "\n",
        "\n",
        "# Generate more sample data\n",
        "np.random.seed(42)\n",
        "y_true = np.random.randint(0, 2, 1000)\n",
        "y_scores = np.random.rand(1000)\n",
        "\n",
        "# Calculate precision and recall values\n",
        "precision, recall, thresholds = precision_recall_curve(y_true, y_scores)\n",
        "\n",
        "# Plot Precision-Recall curve with threshold annotations\n",
        "plt.figure(figsize=(10, 6))\n",
        "plt.plot(recall, precision, marker='')\n",
        "plt.xlabel('Recall')\n",
        "plt.ylabel('Precision')\n",
        "plt.title('Precision-Recall Curve with Thresholds')\n",
        "\n",
        "# Annotate some threshold values\n",
        "for i, thresh in enumerate(thresholds):\n",
        "    if i % 100 == 0:  # Annotate every 100th threshold\n",
        "        plt.annotate(f'{thresh:.2f}', (recall[i], precision[i]), textcoords=\"offset points\", xytext=(0,10), ha='center')\n",
        "\n",
        "plt.show()\n",
        "\n",
        "\n",
        "\n",
        "from sklearn.metrics import average_precision_score\n",
        "\n",
        "# Calculate Average Precision\n",
        "ap_score = average_precision_score(y_true, y_scores)\n",
        "\n",
        "print(f\"Average Precision Score: {ap_score:.4f}\")\n",
        "\n",
        "# Plot Precision-Recall curve with AP score\n",
        "precision, recall, _ = precision_recall_curve(y_true, y_scores)\n",
        "\n",
        "plt.figure(figsize=(8, 6))\n",
        "plt.step(recall, precision, where='post')\n",
        "plt.xlabel('Recall')\n",
        "plt.ylabel('Precision')\n",
        "plt.title(f'Precision-Recall Curve (AP = {ap_score:.4f})')\n",
        "plt.fill_between(recall, precision, step='post', alpha=0.2)\n",
        "plt.show()\n",
        "\n"
      ],
      "metadata": {
        "colab": {
          "base_uri": "https://localhost:8080/",
          "height": 1000
        },
        "id": "oGFjSb1F69T7",
        "outputId": "0fdbdf63-cade-4e0e-83a5-165e093e481d"
      },
      "execution_count": 9,
      "outputs": [
        {
          "output_type": "display_data",
          "data": {
            "text/plain": [
              "<Figure size 800x600 with 1 Axes>"
            ],
            "image/png": "[encoded data removed]"
          },
          "metadata": {}
        },
        {
          "output_type": "stream",
          "name": "stdout",
          "text": [
            "Precision: 1.00\n",
            "Recall: 0.80\n"
          ]
        },
        {
          "output_type": "display_data",
          "data": {
            "text/plain": [
              "<Figure size 800x600 with 1 Axes>"
            ],
            "image/png": "[encoded data removed]"
          },
          "metadata": {}
        },
        {
          "output_type": "display_data",
          "data": {
            "text/plain": [
              "<Figure size 1000x600 with 1 Axes>"
            ],
            "image/png": "[encoded data removed]"
          },
          "metadata": {}
        },
        {
          "output_type": "stream",
          "name": "stdout",
          "text": [
            "Average Precision Score: 0.5191\n"
          ]
        },
        {
          "output_type": "display_data",
          "data": {
            "text/plain": [
              "<Figure size 800x600 with 1 Axes>"
            ],
            "image/png": "[encoded data removed]"
          },
          "metadata": {}
        }
      ]
    }
  ],
  "metadata": {
    "colab": {
      "provenance": []
    },
    "kernelspec": {
      "display_name": "Python 3",
      "name": "python3"
    }
  },
  "nbformat": 4,
  "nbformat_minor": 0
}