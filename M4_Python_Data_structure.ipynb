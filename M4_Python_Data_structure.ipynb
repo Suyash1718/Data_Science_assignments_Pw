{
  "nbformat": 4,
  "nbformat_minor": 0,
  "metadata": {
    "colab": {
      "provenance": [],
      "authorship_tag": "ABX9TyNsBO29I1pM9TSF2WAGamp8",
      "include_colab_link": true
    },
    "kernelspec": {
      "name": "python3",
      "display_name": "Python 3"
    },
    "language_info": {
      "name": "python"
    }
  },
  "cells": [
    {
      "cell_type": "markdown",
      "metadata": {
        "id": "view-in-github",
        "colab_type": "text"
      },
      "source": [
        "<a href=\"https://colab.research.google.com/github/Suyash1718/Data_Science_assignments_Pw/blob/main/M4_Python_Data_structure.ipynb\" target=\"_parent\"><img src=\"https://colab.research.google.com/assets/colab-badge.svg\" alt=\"Open In Colab\"/></a>"
      ]
    },
    {
      "cell_type": "code",
      "execution_count": null,
      "metadata": {
        "id": "GMqlGSZPZaJB"
      },
      "outputs": [],
      "source": []
    },
    {
      "cell_type": "markdown",
      "source": [],
      "metadata": {
        "id": "QZVbmRy-aoxl"
      }
    },
    {
      "cell_type": "code",
      "source": [],
      "metadata": {
        "id": "UcoABMkrnJUQ"
      },
      "execution_count": null,
      "outputs": []
    },
    {
      "cell_type": "markdown",
      "source": [
        "#1. What are data structures, and why are they important?\n",
        "#Answer:\n",
        "Data structures are ways to store and organize data in a computer so that it can be used efficiently. They are important because they help manage and process data in a structured way, improving performance and code organization.\n",
        "\n",
        "#2. Explain the difference between mutable and immutable data types with examples.\n",
        "#Answer:\n",
        "Mutable types can be changed after creation (e.g., list, dict, set).\n",
        "Example: a = [1, 2]; a[0] = 5 → a becomes [5, 2]\n",
        "\n",
        "Immutable types cannot be changed after creation (e.g., int, str, tuple).\n",
        "Example: s = \"hello\"; s[0] = \"H\" → ❌ Error\n",
        "\n",
        "#3. What are the main differences between lists and tuples in Python?\n",
        "#Answer:\n",
        "Lists are mutable; tuples are immutable.\n",
        "Lists use square brackets []; tuples use parentheses ().\n",
        "Tuples are faster and use less memory.\n",
        "\n",
        "4. Describe how dictionaries store data.\n",
        "Answer:\n",
        "Dictionaries store data as key-value pairs using a hash table. Each key is hashed to find its index, and the value is stored at that index.\n",
        "\n",
        "#5. Why might you use a set instead of a list in Python?\n",
        "#Answer:\n",
        "Sets do not allow duplicates and provide faster lookups. They are ideal when you need only unique values.\n",
        "\n",
        "#6. What is a string in Python, and how is it different from a list?\n",
        "#Answer:\n",
        "A string is a sequence of characters, while a list is a collection of elements that can be of different types.\n",
        "Strings are immutable, but lists are mutable.\n",
        "\n",
        "#7. How do tuples ensure data integrity in Python?\n",
        "#Answer:\n",
        "Tuples are immutable, meaning their contents cannot be changed. This prevents accidental modifications and ensures data stays constant.\n",
        "\n",
        "#8. What is a hash table, and how does it relate to dictionaries in Python?\n",
        "#Answer:\n",
        "A hash table is a data structure that stores key-value pairs using hash functions. Python dictionaries are built using hash tables.\n",
        "\n",
        "#9.Can lists contain different data types in Python?\n",
        "#Answer:\n",
        "Yes, lists can store multiple data types.\n",
        "Example: my_list = [1, \"hello\", 3.5]\n",
        "\n",
        "#10. Explain why strings are immutable in Python.\n",
        "#Answer:\n",
        "#Strings are immutable for performance, security, and consistency. Once created, they can't be changed, which makes them safe to use in memory.\n",
        "\n",
        "#11. What advantages do dictionaries offer over lists for certain tasks?\n",
        "#Answer:\n",
        "Dictionaries allow faster data lookup using keys, and they can store data with labels. Lists are slower when searching by value.\n",
        "\n",
        "#12. Describe a scenario where using a tuple would be preferable over a list.\n",
        "#Answer:\n",
        "When you want to store data that should not change, like coordinates (x, y) or database record keys.\n",
        "\n",
        "#13. How do sets handle duplicate values in Python?\n",
        "#Answer:\n",
        "Sets automatically remove duplicates.\n",
        "Example: set([1, 2, 2, 3]) → {1, 2, 3}\n",
        "\n",
        "#14. How does the “in” keyword work differently for lists and dictionaries?\n",
        "#Answer:\n",
        "In lists, \"in\" checks if a value exists.\n",
        "In dictionaries, \"in\" checks if a key exists.\n",
        "\n",
        "#15. Can you modify the elements of a tuple? Explain why or why not.\n",
        "#Answer:\n",
        "No, tuples are immutable. Once created, their elements cannot be changed.\n",
        "\n",
        "\n",
        "\n"
      ],
      "metadata": {
        "id": "SRa07LQVZkZX"
      }
    },
    {
      "cell_type": "code",
      "source": [
        "#16. What is a nested dictionary, and give an example of its use case.\n",
        "student = {\n",
        "    \"name\": \"Alice\",\n",
        "    \"marks\": {\n",
        "        \"math\": 95,\n",
        "        \"science\": 88\n",
        "    }\n",
        "}"
      ],
      "metadata": {
        "id": "VXXO6294gXzr"
      },
      "execution_count": 2,
      "outputs": []
    },
    {
      "cell_type": "markdown",
      "source": [
        "#17. Describe the time complexity of accessing elements in a dictionary.\n",
        "#Answer:\n",
        "Accessing elements in a dictionary is on average O(1) (constant time).\n",
        "\n",
        "#18. In what situations are lists preferred over dictionaries?\n",
        "#Answer:\n",
        "When you need to store ordered items or process data by position/index instead of by key.\n",
        "\n",
        "#19. Why are dictionaries considered unordered, and how does that affect data retrieval?\n",
        "#Answer:\n",
        "Before Python 3.7, dictionaries did not keep insertion order. Even now, the main point is that retrieval is by key, not by position, so order doesn’t affect access.\n",
        "\n",
        "#20. Explain the difference between a list and a dictionary in terms of data retrieval.\n",
        "#Answer:\n",
        "\n",
        "In a list, you retrieve data by index (position).\n",
        "In a dictionary, you retrieve data by key.\n",
        "\n"
      ],
      "metadata": {
        "id": "Su7-Nd5ogkIE"
      }
    },
    {
      "cell_type": "markdown",
      "source": [
        "##Practical Questions\n"
      ],
      "metadata": {
        "id": "ti0pXJGkhmla"
      }
    },
    {
      "cell_type": "code",
      "source": [
        "# 1. Write a code to create a string with your name and print it\n",
        "name = \"Suyash\"\n",
        "print(name)"
      ],
      "metadata": {
        "colab": {
          "base_uri": "https://localhost:8080/"
        },
        "id": "yy1Cf_vPhUZT",
        "outputId": "0aad93b1-3f0d-41c1-a4b8-c43d29fe6382"
      },
      "execution_count": 4,
      "outputs": [
        {
          "output_type": "stream",
          "name": "stdout",
          "text": [
            "Suyash\n"
          ]
        }
      ]
    },
    {
      "cell_type": "code",
      "source": [
        "# 2. Find the length of the string \"Hello World\"\n",
        "s = \"Hello World\"\n",
        "print(len(s))\n"
      ],
      "metadata": {
        "id": "jocj4fUUh5bo"
      },
      "execution_count": null,
      "outputs": []
    },
    {
      "cell_type": "code",
      "source": [
        "# 3. Slice the first 3 characters from the string \"Python Programming\"\n",
        "text = \"Python Programming\"\n",
        "print(text[:3])\n"
      ],
      "metadata": {
        "id": "ou4l5BYPiIGB"
      },
      "execution_count": null,
      "outputs": []
    },
    {
      "cell_type": "code",
      "source": [
        "# 4. Convert the string \"hello\" to uppercase\n",
        "print(\"hello\".upper())\n"
      ],
      "metadata": {
        "id": "y2zyRGkpiLIt"
      },
      "execution_count": null,
      "outputs": []
    },
    {
      "cell_type": "code",
      "source": [
        "# 5. Replace \"apple\" with \"orange\" in \"I like apple\"\n",
        "sentence = \"I like apple\"\n",
        "print(sentence.replace(\"apple\", \"orange\"))\n"
      ],
      "metadata": {
        "id": "KV2Lq29ziNA5"
      },
      "execution_count": null,
      "outputs": []
    },
    {
      "cell_type": "code",
      "source": [
        "# 6. Create a list with numbers 1 to 5 and print it\n",
        "numbers = [1, 2, 3, 4, 5]\n",
        "print(numbers)\n"
      ],
      "metadata": {
        "id": "1w0vSeS8iOwK"
      },
      "execution_count": null,
      "outputs": []
    },
    {
      "cell_type": "code",
      "source": [
        "# 7. Append 10 to the list [1, 2, 3, 4]\n",
        "lst = [1, 2, 3, 4]\n",
        "lst.append(10)\n",
        "print(lst)"
      ],
      "metadata": {
        "id": "JCdSwBH6iQSB"
      },
      "execution_count": null,
      "outputs": []
    },
    {
      "cell_type": "code",
      "source": [
        "# 8. Remove number 3 from the list [1, 2, 3, 4, 5]\n",
        "lst2 = [1, 2, 3, 4, 5]\n",
        "lst2.remove(3)\n",
        "print(lst2)"
      ],
      "metadata": {
        "id": "VKwijJjfiR9B"
      },
      "execution_count": null,
      "outputs": []
    },
    {
      "cell_type": "markdown",
      "source": [],
      "metadata": {
        "id": "EUvVqc15g1s2"
      }
    },
    {
      "cell_type": "code",
      "source": [
        "# 9. Access second element in ['a', 'b', 'c', 'd']\n",
        "letters = ['a', 'b', 'c', 'd']\n",
        "print(letters[1])"
      ],
      "metadata": {
        "id": "eS0GR0WziUvB"
      },
      "execution_count": null,
      "outputs": []
    },
    {
      "cell_type": "code",
      "source": [
        "# 10. Reverse the list [10, 20, 30, 40, 50]\n",
        "rev_list = [10, 20, 30, 40, 50]\n",
        "rev_list.reverse()\n",
        "print(rev_list)"
      ],
      "metadata": {
        "id": "8t8X9g8AiW_o"
      },
      "execution_count": null,
      "outputs": []
    },
    {
      "cell_type": "code",
      "source": [
        "# 11. Create tuple (100, 200, 300) and print it\n",
        "t = (100, 200, 300)\n",
        "print(t)"
      ],
      "metadata": {
        "id": "mtKoXlkZiat7"
      },
      "execution_count": null,
      "outputs": []
    },
    {
      "cell_type": "code",
      "source": [
        "# 12. Access second-to-last element of ('red', 'green', 'blue', 'yellow')\n",
        "colors = ('red', 'green', 'blue', 'yellow')\n",
        "print(colors[-2])"
      ],
      "metadata": {
        "id": "3Gqvq72biXpT"
      },
      "execution_count": null,
      "outputs": []
    },
    {
      "cell_type": "code",
      "source": [
        "# 13. Find minimum in (10, 20, 5, 15)\n",
        "nums = (10, 20, 5, 15)\n",
        "print(min(nums))"
      ],
      "metadata": {
        "id": "uMmqkk6gig93"
      },
      "execution_count": null,
      "outputs": []
    },
    {
      "cell_type": "code",
      "source": [
        "# 14. Find index of \"cat\" in ('dog', 'cat', 'rabbit')\n",
        "animals = ('dog', 'cat', 'rabbit')\n",
        "print(animals.index(\"cat\"))"
      ],
      "metadata": {
        "id": "pLc_zTerii5J"
      },
      "execution_count": null,
      "outputs": []
    },
    {
      "cell_type": "code",
      "source": [
        "# 15. Check if \"kiwi\" is in a tuple of fruits\n",
        "fruits = (\"apple\", \"banana\", \"cherry\")\n",
        "print(\"kiwi\" in fruits)"
      ],
      "metadata": {
        "id": "CqqBCRY5ilLW"
      },
      "execution_count": null,
      "outputs": []
    },
    {
      "cell_type": "code",
      "source": [
        "# 16. Create set with 'a', 'b', 'c' and print\n",
        "s1 = {'a', 'b', 'c'}\n",
        "print(s1)"
      ],
      "metadata": {
        "id": "dB3m9XfeinUm"
      },
      "execution_count": null,
      "outputs": []
    },
    {
      "cell_type": "code",
      "source": [
        "# 17. Clear all elements from set {1, 2, 3, 4, 5}\n",
        "s2 = {1, 2, 3, 4, 5}\n",
        "s2.clear()\n",
        "print(s2)"
      ],
      "metadata": {
        "id": "MlDZVYMoiqU2"
      },
      "execution_count": null,
      "outputs": []
    },
    {
      "cell_type": "code",
      "source": [
        "# 18. Remove 4 from set {1, 2, 3, 4}\n",
        "s3 = {1, 2, 3, 4}\n",
        "s3.remove(4)\n",
        "print(s3)"
      ],
      "metadata": {
        "id": "zuKWyRFpisdB"
      },
      "execution_count": null,
      "outputs": []
    },
    {
      "cell_type": "code",
      "source": [
        "# 19. Find union of sets {1, 2, 3} and {3, 4, 5}\n",
        "a = {1, 2, 3}\n",
        "b = {3, 4, 5}\n",
        "print(a.union(b))"
      ],
      "metadata": {
        "id": "9W3w6j33i28_"
      },
      "execution_count": null,
      "outputs": []
    },
    {
      "cell_type": "code",
      "source": [
        "# 20. Find intersection of sets {1, 2, 3} and {2, 3, 4}\n",
        "print({1, 2, 3}.intersection({2, 3, 4}))"
      ],
      "metadata": {
        "id": "tPoDcohqi5Az"
      },
      "execution_count": null,
      "outputs": []
    },
    {
      "cell_type": "code",
      "source": [
        "# 21. Create dictionary with keys \"name\", \"age\", and \"city\"\n",
        "person = {\"name\": \"John\", \"age\": 25, \"city\": \"New York\"}\n",
        "print(person)"
      ],
      "metadata": {
        "id": "uFEmkguii7K9"
      },
      "execution_count": null,
      "outputs": []
    },
    {
      "cell_type": "code",
      "source": [
        "# 22. Add \"country\": \"USA\" to {'name': 'John', 'age': 25}\n",
        "d = {'name': 'John', 'age': 25}\n",
        "d[\"country\"] = \"USA\"\n",
        "print(d)"
      ],
      "metadata": {
        "id": "rgtCxNVEi9zi"
      },
      "execution_count": null,
      "outputs": []
    },
    {
      "cell_type": "code",
      "source": [
        "# 23. Access value of \"name\" in {'name': 'Alice', 'age': 30}\n",
        "info = {'name': 'Alice', 'age': 30}\n",
        "print(info[\"name\"])"
      ],
      "metadata": {
        "id": "W8egAjHRi_zV"
      },
      "execution_count": null,
      "outputs": []
    },
    {
      "cell_type": "code",
      "source": [
        "# 24. Remove \"age\" from {'name': 'Bob', 'age': 22, 'city': 'New York'}\n",
        "d2 = {'name': 'Bob', 'age': 22, 'city': 'New York'}\n",
        "del d2[\"age\"]\n",
        "print(d2)"
      ],
      "metadata": {
        "id": "0Vm6dcSIjB4A"
      },
      "execution_count": null,
      "outputs": []
    },
    {
      "cell_type": "code",
      "source": [
        "# 25. Check if \"city\" exists in {'name': 'Alice', 'city': 'Paris'}\n",
        "d3 = {'name': 'Alice', 'city': 'Paris'}\n",
        "print(\"city\" in d3)"
      ],
      "metadata": {
        "id": "FQpuk87ojEoT"
      },
      "execution_count": null,
      "outputs": []
    },
    {
      "cell_type": "code",
      "source": [
        "# 26. Create a list, tuple, and dictionary and print all\n",
        "my_list = [1, 2, 3]\n",
        "my_tuple = (4, 5, 6)\n",
        "my_dict = {\"a\": 7, \"b\": 8}\n",
        "print(my_list, my_tuple, my_dict)"
      ],
      "metadata": {
        "id": "Dn1fh07IjG0u"
      },
      "execution_count": null,
      "outputs": []
    },
    {
      "cell_type": "code",
      "source": [
        "# 27. Create list of 5 random numbers (1-100), sort and print\n",
        "import random\n",
        "rand_nums = random.sample(range(1, 101), 5)\n",
        "rand_nums.sort()\n",
        "print(rand_nums)"
      ],
      "metadata": {
        "id": "9ieDV7-AjNJu"
      },
      "execution_count": null,
      "outputs": []
    },
    {
      "cell_type": "code",
      "source": [
        "# 28. Create list of strings and print element at index 3\n",
        "words = [\"apple\", \"banana\", \"cherry\", \"date\", \"fig\"]\n",
        "print(words[3])"
      ],
      "metadata": {
        "id": "U7rQmEFQjPLy"
      },
      "execution_count": null,
      "outputs": []
    },
    {
      "cell_type": "code",
      "source": [
        "# 29. Combine two dictionaries and print\n",
        "dict1 = {\"a\": 1, \"b\": 2}\n",
        "dict2 = {\"c\": 3, \"d\": 4}\n",
        "combined = {**dict1, **dict2}\n",
        "print(combined)"
      ],
      "metadata": {
        "id": "x4d81tsljRNi"
      },
      "execution_count": null,
      "outputs": []
    },
    {
      "cell_type": "code",
      "source": [
        "# 30. Convert list of strings to a set\n",
        "str_list = [\"a\", \"b\", \"a\", \"c\"]\n",
        "str_set = set(str_list)\n",
        "print(str_set)"
      ],
      "metadata": {
        "id": "0eN8lhFgjS9I"
      },
      "execution_count": null,
      "outputs": []
    }
  ]
}