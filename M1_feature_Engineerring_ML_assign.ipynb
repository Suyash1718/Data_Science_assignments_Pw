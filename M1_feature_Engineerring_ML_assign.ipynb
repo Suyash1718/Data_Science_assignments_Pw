{
  "cells": [
    {
      "cell_type": "markdown",
      "source": [
        "1. What is a parameter?\n",
        "\n",
        "     It is an internal variable whose value a model learns or estimates from the training data to improve its predictions. Think of these as the \"knobs\" the model adjusts during training to fit the data."
      ],
      "metadata": {
        "id": "fnb4pOAFDJui"
      }
    },
    {
      "cell_type": "markdown",
      "source": [
        "2. What is correlation? What does negative correlation mean?\n",
        "\n",
        "     In machine learning, correlation describes the statistical relationship between two variables, quantifying how much they move or change together; it's a crucial tool for understanding data and building effective models.\n",
        "\n",
        "      Negative correlation occurs when two variables move in opposite directions. For example, as the price of a product increases, the demand for that product decreases. Here's an example of how to calculate negative correlation in Python: import numpy as np."
      ],
      "metadata": {
        "id": "jwBjq4nbDsf7"
      }
    },
    {
      "cell_type": "markdown",
      "source": [
        "3. Define Machine Learning. What are the main components in Machine Learning?\n",
        "    \n",
        "     Machine learning (ML) is a field of artificial intelligence (AI) that enables computers to learn from data and make predictions or decisions without being explicitly programmed. The main components of machine learning include data, algorithms, models, and predictions."
      ],
      "metadata": {
        "id": "qGlQPmtyED1M"
      }
    },
    {
      "cell_type": "markdown",
      "source": [
        "4.  How does loss value help in determining whether the model is good or not?\n",
        "\n",
        "     In machine learning, a lower loss value generally indicates a better-performing model, as it quantifies the difference between the model's predictions and the actual values, with lower values suggesting more accurate predictions.\n",
        "    \n",
        "     For example, if a model predicts 2, but the actual value is 5, we don't care that the loss is negative ( 2 - 5 = - 3 )."
      ],
      "metadata": {
        "id": "XpWOF3GbFH9Q"
      }
    },
    {
      "cell_type": "markdown",
      "source": [
        "5. What are continuous and categorical variables?\n",
        "\n",
        "      Continuous Variables:\n",
        "          These variables are numerical and can take on any value within a given range.\n",
        "            Examples include height, weight, temperature, age, and time.\n",
        "            You can perform mathematical operations on continuous variables (e.g., addition, subtraction, averaging).\n",
        "\n",
        "       Categorical Variables:\n",
        "             These variables represent categories or groups, and the values are distinct and non-numerical.\n",
        "                 Examples include gender (male/female), color (red/blue/green), or type of car (sedan/SUV/truck).\n",
        "            Categorical variables can be further divided into:\n",
        "           Nominal: Categories have no inherent order or ranking (e.g., colors, types of car).\n",
        "          Ordinal: Categories have a meaningful order or ranking (e.g., education levels like elementary, high school, college).      "
      ],
      "metadata": {
        "id": "TTlLEoevF10D"
      }
    },
    {
      "cell_type": "markdown",
      "source": [
        "6. How do we handle categorical variables in Machine Learning? What are the common techniques?\n",
        "\n",
        "       To handle categorical variables in machine learning, common techniques include one-hot encoding, label encoding, ordinal encoding, and target encoding, which convert categorical data into a numerical format suitable for most algorithms.\n",
        "\n",
        "       Common machine learning techniques include supervised learning (regression, classification), unsupervised learning (clustering, dimensionality reduction), and reinforcement learning, with algorithms like linear regression, logistic regression, decision trees, neural networks, and k-nearest neighbors (KNN) being widely used."
      ],
      "metadata": {
        "id": "3pOh77Y3GokY"
      }
    },
    {
      "cell_type": "markdown",
      "source": [
        "7. What do you mean by training and testing a dataset?  \n",
        "\n",
        "   Training Dataset:\n",
        "     This is the data that the machine learning algorithm uses to learn and build its model.\n",
        "     The algorithm analyzes the patterns and relationships within this data to make predictions or classifications.\n",
        "     Think of it as the \"homework\" or \"practice examples\" for the model.\n",
        "     The training data is typically larger than the testing data.\n",
        "\n",
        "\n",
        "   Testing Dataset:\n",
        "        This dataset is used to evaluate the performance of the trained model.\n",
        "        It consists of data that the model has not seen during training, ensuring a fair and unbiased assessment of its ability to generalize to new, unseen data.\n",
        "        The testing dataset helps determine how well the model will perform in real-world scenarios.\n",
        "       It's used to measure metrics like accuracy, precision, recall, and F1-score."
      ],
      "metadata": {
        "id": "buhXRRe-IGH9"
      }
    },
    {
      "cell_type": "markdown",
      "source": [
        "8. What is sklearn.preprocessing?\n",
        "\n",
        "     The sklearn. preprocessing package provides several common utility functions and transformer classes to change raw feature vectors into a representation that is more suitable for the downstream estimators."
      ],
      "metadata": {
        "id": "KEoo3EU7JHLi"
      }
    },
    {
      "cell_type": "markdown",
      "source": [
        " 9. What is a Test set?\n",
        "      \n",
        "      In machine learning, a test set is a portion of the data, withheld from the model training process, used after the model is fully trained to evaluate its performance and generalization ability on unseen data."
      ],
      "metadata": {
        "id": "riPLxunnJhUX"
      }
    },
    {
      "cell_type": "markdown",
      "source": [
        "10. How do we split data for model fitting (training and testing) in Python?\n",
        " How do you approach a Machine Learning problem?\n",
        "\n",
        "\n",
        "     To split data for model fitting in Python, use scikit-learn's train_test_split function, which randomly divides the data into training and testing subsets. A machine learning problem is approached by defining the problem, choosing a measure of success, preparing data, selecting a model, training, evaluating, and making predictions.\n",
        "\n",
        "\n",
        "\n",
        "     1. Supervised Learning:\n",
        "Concept:\n",
        "Models learn from labeled data, where the input and corresponding output are known.\n",
        "Goal:\n",
        "Predict outcomes based on input features.\n",
        "Examples:\n",
        "Regression (predicting continuous values), classification (categorizing data), and spam detection.\n",
        "Algorithms:\n",
        "Linear regression, logistic regression, support vector machines, decision trees, and random forests.\n",
        "    2. Unsupervised Learning:\n",
        "Concept: Models learn from unlabeled data, identifying patterns and structures without explicit guidance.\n",
        "Goal: Discover hidden patterns, insights, and relationships within data.\n",
        "Examples: Clustering (grouping similar data points), dimensionality reduction (reducing data complexity), and anomaly detection.\n",
        "Algorithms: K-means clustering, principal component analysis (PCA), and autoencoders.\n",
        "    3. Reinforcement Learning:\n",
        "Concept:\n",
        "Models learn through trial and error, receiving rewards or penalties for their actions.\n",
        "Goal:\n",
        "Train agents to make decisions in an environment to maximize cumulative reward.\n",
        "Examples:\n",
        "Training robots to perform tasks, game playing, and resource management.\n",
        "Algorithms:\n",
        "Q-learning, deep Q-networks (DQNs), and reinforcement learning with deep neural networks.\n",
        "    4. Semi-Supervised Learning:\n",
        "Concept: Models learn from a combination of labeled and unlabeled data.\n",
        "Goal: Leverage the benefits of both supervised and unsupervised learning.\n",
        "Examples: Text classification with limited labeled data, image segmentation with some labeled regions.\n",
        "Algorithms: Generative mixture models, co-training, and self-training.\n",
        "   5. Self-Supervised Learning:\n",
        "Concept: Models learn from the input data itself by generating targets or tasks from the data.\n",
        "Goal: Learn useful representations of data without relying on external labels.\n",
        "Examples: Predicting missing parts of an image, predicting the next word in a sentence.\n",
        "Algorithms: Variational autoencoders, generative adversarial networks (GANs).\n",
        "   6. Transfer Learning:\n",
        "Concept: Models leverage knowledge gained from one task and apply it to a related or unrelated task.\n",
        "Goal: Reduce training time and improve accuracy by reusing pre-trained models.\n",
        "Examples: Fine-tuning a pre-trained image classifier for a new dataset, using a pre-trained language model for a different task.\n",
        "Algorithms: Fine-tuning pre-trained models, feature extraction.\n",
        "   7. Deep Learning:\n",
        "Concept: A subset of machine learning that uses artificial neural networks with multiple layers to learn complex patterns.\n",
        "Goal: Automate feature extraction and representation learning.\n",
        "Examples: Image recognition, natural language processing, and speech recognition.\n",
        "Algorithms: Convolutional neural networks (CNNs), recurrent neural networks (RNNs), and transformers.\n",
        "   8. Hybrid Learning Approaches:\n",
        "Concept: Combining different machine learning techniques to improve performance.\n",
        "Goal: Leverage the strengths of multiple algorithms.\n",
        "Examples: Combining supervised and unsupervised learning, using reinforcement learning with deep neural networks.\n",
        "Algorithms: Various combinations of the above algorithms."
      ],
      "metadata": {
        "id": "zPNOk0gPJwfz"
      }
    },
    {
      "cell_type": "markdown",
      "source": [
        "11. Why do we have to perform EDA before fitting a model to the data?\n",
        "\n",
        "\n",
        "     EDA (Exploratory Data Analysis) before fitting a model is crucial because it helps you understand your data's structure, identify potential issues like missing values or outliers, and inform data cleaning and feature selection, ultimately leading to more accurate and reliable models."
      ],
      "metadata": {
        "id": "vFFzfv2YNh6O"
      }
    },
    {
      "cell_type": "markdown",
      "source": [
        "12. What is correlation?\n",
        "\n",
        "     correlation refers to the statistical measure of the relationship between two variables, indicating the strength and direction of their association, which can be positive, negative, or non-existent."
      ],
      "metadata": {
        "id": "cRIWs0mMNwb6"
      }
    },
    {
      "cell_type": "markdown",
      "source": [
        "13. What does negative correlation mean?\n",
        "\n",
        "       In machine learning, a negative correlation means that as one variable increases, the other tends to decrease, and vice versa, indicating an inverse relationship between the two variables."
      ],
      "metadata": {
        "id": "w04CmEQ9O_GH"
      }
    },
    {
      "cell_type": "markdown",
      "source": [
        "14. How can you find correlation between variables in Python?\n",
        "\n",
        "      Utilize Pandas' . corr() function, opting for Pearson, Spearman, or Kendall methods based on your needs, to calculate the correlation coefficient—a value between -1 and 1 that reveals the strength and direction of the relationship."
      ],
      "metadata": {
        "id": "q0QFsQ3MPOzp"
      }
    },
    {
      "cell_type": "markdown",
      "source": [
        "15.   What is causation? Explain difference between correlation and causation with an example.\n",
        "\n",
        "     Causation in machine learning is the idea that one variable causes another variable to change. It's based on the idea that correlations between variables aren't always enough to establish causal relationships.\n",
        "\n",
        "\n",
        "\n",
        "     Correlation:\n",
        "\n",
        "Indicates that two variables tend to move together, either in the same direction (positive correlation) or in opposite directions (negative correlation).\n",
        "Doesn't imply that one variable causes the other.\n",
        "Machine learning algorithms can identify correlations between features in the data to build predictive models.\n",
        "Example: If you observe that people who spend more time exercising tend to have lower blood pressure, this suggests a correlation between exercise and blood pressure. However, it doesn't mean that exercise causes lower blood pressure; other factors like diet or genetics could also be at play.\n",
        "\n",
        "\n",
        "     Causation:\n",
        "     \n",
        "Means that a change in one variable directly leads to a change in another variable.\n",
        "Demonstrates a cause-and-effect relationship.\n",
        "Example: If you give a plant water, and it grows taller, then watering the plant causes the plant to grow taller.  "
      ],
      "metadata": {
        "id": "UAuuxns3PdEM"
      }
    },
    {
      "cell_type": "markdown",
      "source": [
        "16.  What is an Optimizer? What are different types of optimizers? Explain each with an example.\n",
        "\n",
        "      In machine learning, an optimizer is an algorithm that iteratively adjusts a model's parameters (like weights and biases) to minimize the loss function, thereby improving the model's accuracy during training.\n",
        "        \n",
        "\n",
        "      1. Gradient Descent:\n",
        "           Concept:\n",
        "            An iterative optimization algorithm that finds the local minimum of a function by moving in the direction opposite to the gradient (or slope) of the function.\n",
        "       How it works:\n",
        "             It starts with an initial guess for the parameters and repeatedly updates them by moving in the direction of the steepest descent (negative gradient) until it reaches a minimum.\n",
        "     Types:\n",
        "       Batch Gradient Descent: Computes the gradient using the entire dataset, which can be slow for large datasets.\n",
        "       Stochastic Gradient Descent (SGD): Updates the weights for each training example individually, leading to faster iterations but potentially noisy updates.\n",
        "       Mini-batch Gradient Descent: Updates the weights using a small, randomly selected subset of the data (a \"mini-batch\").\n",
        "   2. Adaptive Optimizers:\n",
        "       Concept:\n",
        "          These optimizers adapt the learning rate for each parameter based on the magnitude of the gradients, which can help accelerate training and improve convergence.\n",
        "       Examples:\n",
        "      RMSprop (Root Mean Square Propagation): Divides the learning rate by an exponentially decaying average of squared gradients.\n",
        "      Adam (Adaptive Moment Estimation): Combines the ideas of RMSprop and momentum, using both the first and second moments of the gradients to adapt the learning rate.\n",
        "AdaDelta: An adaptive learning rate optimization algorithm that addresses the challenges of Adagrad by maintaining a running average of squared gradients over a fixed window and introducing an exponentially decaying average of past squared parameter updates.\n",
        "\n"
      ],
      "metadata": {
        "id": "pvOIBqw0QAio"
      }
    },
    {
      "cell_type": "markdown",
      "source": [],
      "metadata": {
        "id": "RQLgocv3Xr1e"
      }
    },
    {
      "cell_type": "markdown",
      "source": [
        "17. What is sklearn.linear_model ?\n",
        "\n",
        "\n",
        "       The scikit-learn library in Python implements Linear Regression through the LinearRegression class. This class allows us to fit a linear model to a dataset, predict new values, and evaluate the model's performance. To use the LinearRegression class, we first need to import it from sklearn. linear_model module."
      ],
      "metadata": {
        "id": "anDOCzN6YWIK"
      }
    },
    {
      "cell_type": "markdown",
      "source": [
        "18. What does model.fit() do? What arguments must be given?\n",
        "\n",
        "\n",
        "\n",
        "      In TensorFlow,model. fit() function is used to train a machine learning model for a fixed number of epochs (iterations over the entire dataset). During training, the model adjusts its internal parameters (weights and biases) to minimize the loss function using optimization techniques like Gradient Descent."
      ],
      "metadata": {
        "id": "e8ROrBQaYwF7"
      }
    },
    {
      "cell_type": "markdown",
      "source": [
        "19. What does model.predict() do? What arguments must be given?\n",
        "\n",
        "\n",
        "     The model. predict function in Keras is used to generate predictions from a trained neural network model. The output of this function typically represents the model's predictions or estimated probabilities for the input data."
      ],
      "metadata": {
        "id": "rUfK7eUQY6it"
      }
    },
    {
      "cell_type": "markdown",
      "source": [
        "20.  What are continuous and categorical variables?\n",
        "\n",
        "\n",
        "     In machine learning, continuous variables are numerical and can take any value within a range, while categorical variables represent distinct categories or groups."
      ],
      "metadata": {
        "id": "YyMASqJoZF88"
      }
    },
    {
      "cell_type": "markdown",
      "source": [
        "21.  What is feature scaling? How does it help in Machine Learning?\n",
        "\n",
        "       Feature scaling in machine learning is a process that makes the range of values for different features in a dataset similar.\n",
        "\n",
        "\n",
        "       Feature scaling in machine learning transforms numerical features to a common scale, ensuring all features contribute equally and improving model performance, especially for algorithms sensitive to feature ranges like KNN, SVM, and those using gradient descent.\n",
        "\n",
        "\n"
      ],
      "metadata": {
        "id": "4rOkODuMZVEe"
      }
    },
    {
      "cell_type": "markdown",
      "source": [
        "22. How do we perform scaling in Python?\n",
        "\n",
        "       Min Max Scaling. In min-max you will subtract the minimum value in the dataset with all the values and then divide this by the range of the dataset(maximum-minimum). In this case, your dataset will lie between 0 and 1 in all cases whereas in the previous case, it was between -1 and +1."
      ],
      "metadata": {
        "id": "M82f6OguZ1Kp"
      }
    },
    {
      "cell_type": "markdown",
      "source": [
        "23.  What is sklearn.preprocessing?\n",
        "\n",
        "\n",
        "       The sklearn. preprocessing package provides several common utility functions and transformer classes to change raw feature vectors into a representation that is more suitable for the downstream estimators."
      ],
      "metadata": {
        "id": "U0BsPAMLaF0r"
      }
    },
    {
      "cell_type": "markdown",
      "source": [
        "24.  How do we split data for model fitting (training and testing) in Python?\n",
        "\n",
        "\n",
        "       To split data for model training and testing in Python, use the train_test_split function from scikit-learn, importing it as from sklearn.model_selection import train_test_split."
      ],
      "metadata": {
        "id": "2NrZZ2Z5aO4W"
      }
    },
    {
      "cell_type": "markdown",
      "source": [
        "25. Explain data encoding?\n",
        "\n",
        "\n",
        "     In machine learning, data encoding transforms categorical or textual data into a numerical format, enabling machine learning algorithms to process them effectively, as most algorithms work with numbers rather than text."
      ],
      "metadata": {
        "id": "sP7RBlYXaO9Z"
      }
    }
  ],
  "metadata": {
    "colab": {
      "name": "Welcome To Colab",
      "toc_visible": true,
      "provenance": []
    },
    "kernelspec": {
      "display_name": "Python 3",
      "name": "python3"
    }
  },
  "nbformat": 4,
  "nbformat_minor": 0
}