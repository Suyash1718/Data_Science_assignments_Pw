{
  "nbformat": 4,
  "nbformat_minor": 0,
  "metadata": {
    "colab": {
      "provenance": [],
      "authorship_tag": "ABX9TyMP9WXOL8LrvdT+P79Dh3UJ",
      "include_colab_link": true
    },
    "kernelspec": {
      "name": "python3",
      "display_name": "Python 3"
    },
    "language_info": {
      "name": "python"
    }
  },
  "cells": [
    {
      "cell_type": "markdown",
      "metadata": {
        "id": "view-in-github",
        "colab_type": "text"
      },
      "source": [
        "<a href=\"https://colab.research.google.com/github/Suyash1718/Data_Science_assignments_Pw/blob/main/M5_Functions_assignment.ipynb\" target=\"_parent\"><img src=\"https://colab.research.google.com/assets/colab-badge.svg\" alt=\"Open In Colab\"/></a>"
      ]
    },
    {
      "cell_type": "markdown",
      "source": [
        "#Practical Questions:"
      ],
      "metadata": {
        "id": "YH5pT32Bv5cH"
      }
    },
    {
      "cell_type": "code",
      "source": [
        "# 1. Sum of all even numbers in a list\n",
        "def sum_even(lst):\n",
        "    return sum(x for x in lst if x % 2 == 0)\n",
        "print(sum_even([1, 2, 3, 4, 5, 6]))  # Output: 12\n",
        "\n",
        "# 2. Reverse a string\n",
        "def reverse_string(s):\n",
        "    return s[::-1]\n",
        "print(reverse_string(\"hello\"))  # Output: 'olleh'\n",
        "\n",
        "# 3. Squares of each number in a list\n",
        "def square_list(lst):\n",
        "    return [x**2 for x in lst]\n",
        "print(square_list([1, 2, 3, 4]))  # Output: [1, 4, 9, 16]\n",
        "\n",
        "# 4. Check if a number is prime from 1 to 200\n",
        "def is_prime(n):\n",
        "    if n <= 1: return False\n",
        "    for i in range(2, int(n**0.5) + 1):\n",
        "        if n % i == 0: return False\n",
        "    return True\n",
        "primes = [x for x in range(1, 201) if is_prime(x)]\n",
        "print(primes)\n",
        "\n",
        "# 5. Fibonacci iterator class\n",
        "class Fibonacci:\n",
        "    def __init__(self, n):\n",
        "        self.n, self.a, self.b, self.count = n, 0, 1, 0\n",
        "    def __iter__(self):\n",
        "        return self\n",
        "    def __next__(self):\n",
        "        if self.count >= self.n:\n",
        "            raise StopIteration\n",
        "        val = self.a\n",
        "        self.a, self.b = self.b, self.a + self.b\n",
        "        self.count += 1\n",
        "        return val\n",
        "print(list(Fibonacci(10)))  # First 10 Fibonacci numbers\n",
        "\n",
        "# 6. Generator yielding powers of 2 up to a given exponent\n",
        "def powers_of_two(n):\n",
        "    for i in range(n+1):\n",
        "        yield 2 ** i\n",
        "print(list(powers_of_two(5)))  # [1, 2, 4, 8, 16, 32]\n",
        "\n",
        "# 7. Generator reading file line by line\n",
        "def file_reader(filename):\n",
        "    with open(filename, 'r') as f:\n",
        "        for line in f:\n",
        "            yield line.strip()\n",
        "# Example usage (if file exists): for line in file_reader(\"example.txt\"): print(line)\n",
        "\n",
        "# 8. Lambda to sort list of tuples by second element\n",
        "tuples = [(1, 3), (2, 1), (4, 2)]\n",
        "sorted_tuples = sorted(tuples, key=lambda x: x[1])\n",
        "print(sorted_tuples)  # [(2, 1), (4, 2), (1, 3)]\n",
        "\n",
        "# 9. Map to convert Celsius to Fahrenheit\n",
        "celsius = [0, 20, 37, 100]\n",
        "fahrenheit = list(map(lambda c: (c * 9/5) + 32, celsius))\n",
        "print(fahrenheit)  # [32.0, 68.0, 98.6, 212.0]\n",
        "\n",
        "# 10. Filter to remove vowels from a string\n",
        "def remove_vowels(s):\n",
        "    return ''.join(filter(lambda c: c.lower() not in 'aeiou', s))\n",
        "print(remove_vowels(\"Hello World\"))  # Hll Wrld\n",
        "\n",
        "# 11. Bookshop order routine with lambda and map\n",
        "orders = [\n",
        "    [34587, \"Learning Python\", 40.95, 1],\n",
        "    [98762, \"Programming Python\", 56.80, 1],\n",
        "    [77226, \"Head First Python\", 32.95, 3],\n",
        "    [88112, \"Einführung in Python3\", 24.99, 1]\n",
        "]\n",
        "final_orders = list(map(lambda x: (x[0], x[2]*x[3] if x[2]*x[3] >= 100 else x[2]*x[3]+10), orders))\n",
        "print(final_orders)\n",
        "# Output: [(34587, 40.95+10), (98762, 56.80+10), (77226, 98.85+10), (88112, 24.99+10)]\n"
      ],
      "metadata": {
        "id": "JBsVH0Q0v52S"
      },
      "execution_count": null,
      "outputs": []
    },
    {
      "cell_type": "markdown",
      "source": [
        "#Theory Questions:\n"
      ],
      "metadata": {
        "id": "iT3Rc9yqwCQ9"
      }
    },
    {
      "cell_type": "markdown",
      "source": [
        "https://docs.google.com/document/d/1n8G1w-z5p5nXQwL9HZuckEI8714BKy2_/edit?usp=sharing&ouid=101802370890550141524&rtpof=true&sd=true"
      ],
      "metadata": {
        "id": "vHtM5pxdwJpQ"
      }
    }
  ]
}